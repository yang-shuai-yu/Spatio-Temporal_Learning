{
 "cells": [
  {
   "cell_type": "code",
   "execution_count": 1,
   "id": "c4e918ea",
   "metadata": {},
   "outputs": [],
   "source": [
    "import numpy as np\n",
    "import pickle"
   ]
  },
  {
   "cell_type": "code",
   "execution_count": 2,
   "id": "7fa9e3b3",
   "metadata": {},
   "outputs": [],
   "source": [
    "with open(\"embeddings/t2vec/256/t2vec_train\", \"rb\") as f:\n",
    "    t2vecEmbed = pickle.load(f)\n",
    "\n",
    "clusterUsed = t2vecEmbed[0:100000]     # shape: (100000, 256)\n",
    "\n",
    "# train, validation, test 数据量分别为 180000, 10000, 10000\n",
    "# gps: (longtitude, latitude)"
   ]
  },
  {
   "cell_type": "code",
   "execution_count": 6,
   "id": "afd2b75f",
   "metadata": {},
   "outputs": [],
   "source": [
    "with open('gps_seqs/traingps', 'rb') as f:\n",
    "    traingps = pickle.load(f)\n",
    "with open('cell_seqs/t2vec_partition/traincell', 'rb') as f:\n",
    "    traincell = pickle.load(f)"
   ]
  },
  {
   "cell_type": "code",
   "execution_count": 11,
   "id": "309bad7b",
   "metadata": {},
   "outputs": [
    {
     "name": "stdout",
     "output_type": "stream",
     "text": [
      "(180000,)\n",
      "(180000,)\n",
      "(88, 2)\n",
      "(65,)\n"
     ]
    },
    {
     "name": "stderr",
     "output_type": "stream",
     "text": [
      "/home/yangshuaiyu6791/anaconda3/envs/pytorch/lib/python3.8/site-packages/numpy/core/fromnumeric.py:2007: VisibleDeprecationWarning: Creating an ndarray from ragged nested sequences (which is a list-or-tuple of lists-or-tuples-or ndarrays with different lengths or shapes) is deprecated. If you meant to do this, you must specify 'dtype=object' when creating the ndarray.\n",
      "  result = asarray(a).shape\n"
     ]
    }
   ],
   "source": [
    "print(np.shape(traingps))\n",
    "print(np.shape(traincell))\n",
    "print(np.shape(traingps[1]))\n",
    "print(np.shape(traincell[1]))"
   ]
  },
  {
   "cell_type": "code",
   "execution_count": 5,
   "id": "ca2b2ab0",
   "metadata": {},
   "outputs": [
    {
     "name": "stdout",
     "output_type": "stream",
     "text": [
      "(100000, 256)\n",
      "[ 0.24436219 -0.36998796 -1.          0.00380185  1.         -0.2929639\n",
      " -0.32601216 -0.0601339  -0.91275483 -0.88752395  0.67029    -0.17429748\n",
      "  1.          1.          0.1360061  -0.971991   -1.          0.9987992\n",
      " -0.99999994  1.          0.01427429 -0.90625656 -0.9999998  -0.8086113\n",
      "  1.          0.9999994  -0.42447144  1.          0.06879229 -0.13626632\n",
      "  0.09978791 -0.89311033 -0.02551391  0.53462166 -0.00797135 -0.04114688\n",
      "  1.         -0.9999998  -0.98707235 -1.          1.         -0.9943364\n",
      "  0.01126956  1.         -0.9612496  -0.2566599   0.99999994 -0.12284501\n",
      " -1.         -0.9995595  -0.99999964  0.24924673 -0.09660838  0.7793504\n",
      " -1.          0.671532   -0.08823445 -1.          0.32010463  0.76037264\n",
      " -0.41724038  0.92759955  1.          0.05798844 -0.99641436  0.99999887\n",
      "  0.9999882  -1.         -0.9964998   1.          0.922472   -1.\n",
      "  1.          0.7391272   1.          0.97818476  0.79459596 -0.05247684\n",
      "  0.9999825  -0.90756357  0.80810577  0.7324186  -0.99577284 -0.99401605\n",
      "  0.95842713 -0.99999905 -0.9999687  -0.99993086 -0.40131384 -1.\n",
      " -0.998841   -0.999815   -0.40326872  0.40060785 -1.         -0.0855426\n",
      "  0.9323517  -0.99999917  0.30909592 -0.9753609  -0.07316915 -0.95475364\n",
      " -0.61116624 -0.8585354   0.38882378 -0.1854858  -0.20062885  0.47885528\n",
      "  0.28120497  0.03840812 -0.2979153   0.10513958 -0.98189104 -0.9999992\n",
      " -0.16594331 -0.7703523   1.          0.85087216 -0.79241216  0.08430972\n",
      " -0.97118413 -0.4376234  -0.9777093   1.          0.17728074  1.\n",
      "  1.         -0.7930723  -0.9982004   0.9987416   0.9999991   0.99823385\n",
      " -0.9994292  -0.9990038   0.8279983   0.9974934   0.99999917  0.4676772\n",
      " -0.6415094   0.02316559 -1.          0.92342335  0.97913724  0.9146596\n",
      "  1.         -0.8261217  -0.9995943  -0.77084947 -0.22979943  0.35156628\n",
      " -0.9819912  -0.9999391   0.7974649  -1.         -0.3973871  -0.9999561\n",
      "  0.9997338   0.9926907  -0.93142796 -0.7144271  -0.9943273  -0.9997659\n",
      " -0.29044175 -0.9738344  -0.999858   -0.99999994  1.          0.99953794\n",
      " -0.9999998  -1.          1.         -0.8187618  -0.85571647  0.57667124\n",
      " -0.99713683  0.92175573  0.99985635 -0.99990416  0.9995477  -0.9983695\n",
      "  1.          0.4396215  -0.3506893  -0.48369995 -0.9967276   0.6505068\n",
      "  1.          0.99999994  0.2557911  -0.99934936  0.69949317 -0.9998161\n",
      " -0.9949702  -1.         -0.9997376  -0.68651223 -0.9969087   0.9140662\n",
      "  0.8742816  -1.         -0.99990153 -0.99997526 -0.625173    1.\n",
      "  0.999082    1.         -0.8495003   0.9748592   0.9999976  -0.9999948\n",
      " -0.40032047  0.9996387   0.9985385   0.9721003   0.82799804 -0.955067\n",
      " -1.         -0.94901973 -0.8755575  -0.4329669  -0.9998911   0.9758987\n",
      "  0.3230903   0.5711159   0.9983112   0.9999406  -0.9778952  -0.70488185\n",
      " -0.09313905  0.9815327   0.46037015 -0.99999934 -0.9163005  -0.5029615\n",
      "  0.9919748  -0.6479555  -0.9991638   0.31076074  0.63079995  0.12117273\n",
      "  0.2697402   0.91821885  0.9996458   1.         -0.99998087 -0.9935525\n",
      " -0.9919043   0.99842656 -0.9998884   0.9546933   0.21700735  0.9920444\n",
      " -0.2799332  -0.9923694  -0.99994403 -0.6167701 ]\n"
     ]
    }
   ],
   "source": [
    "print(np.shape(clusterUsed))    \n",
    "print(clusterUsed[0])"
   ]
  },
  {
   "cell_type": "code",
   "execution_count": null,
   "id": "f0ffb403",
   "metadata": {},
   "outputs": [],
   "source": []
  }
 ],
 "metadata": {
  "kernelspec": {
   "display_name": "Python [conda env:pytorch] *",
   "language": "python",
   "name": "conda-env-pytorch-py"
  },
  "language_info": {
   "codemirror_mode": {
    "name": "ipython",
    "version": 3
   },
   "file_extension": ".py",
   "mimetype": "text/x-python",
   "name": "python",
   "nbconvert_exporter": "python",
   "pygments_lexer": "ipython3",
   "version": "3.8.10"
  },
  "toc": {
   "base_numbering": 1,
   "nav_menu": {},
   "number_sections": true,
   "sideBar": true,
   "skip_h1_title": false,
   "title_cell": "Table of Contents",
   "title_sidebar": "Contents",
   "toc_cell": false,
   "toc_position": {},
   "toc_section_display": true,
   "toc_window_display": false
  },
  "varInspector": {
   "cols": {
    "lenName": 16,
    "lenType": 16,
    "lenVar": 40
   },
   "kernels_config": {
    "python": {
     "delete_cmd_postfix": "",
     "delete_cmd_prefix": "del ",
     "library": "var_list.py",
     "varRefreshCmd": "print(var_dic_list())"
    },
    "r": {
     "delete_cmd_postfix": ") ",
     "delete_cmd_prefix": "rm(",
     "library": "var_list.r",
     "varRefreshCmd": "cat(var_dic_list()) "
    }
   },
   "types_to_exclude": [
    "module",
    "function",
    "builtin_function_or_method",
    "instance",
    "_Feature"
   ],
   "window_display": false
  }
 },
 "nbformat": 4,
 "nbformat_minor": 5
}
