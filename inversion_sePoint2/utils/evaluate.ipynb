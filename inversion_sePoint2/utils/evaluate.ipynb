{
 "cells": [
  {
   "cell_type": "code",
   "execution_count": 1,
   "metadata": {},
   "outputs": [],
   "source": [
    "import os, pickle, random\n",
    "import numpy as np\n",
    "import torch"
   ]
  },
  {
   "cell_type": "code",
   "execution_count": 2,
   "metadata": {},
   "outputs": [
    {
     "name": "stdout",
     "output_type": "stream",
     "text": [
      "/home/yangshuaiyu6791/RepresentAttack/inversion_sePoint\n"
     ]
    }
   ],
   "source": [
    "# change the current directory to the father directory of this file\n",
    "os.chdir(os.path.dirname(os.path.dirname(os.path.realpath('evaluate.ipynb'))))\n",
    "print(os.getcwd())"
   ]
  },
  {
   "cell_type": "code",
   "execution_count": 3,
   "metadata": {},
   "outputs": [],
   "source": [
    "from modules.models import sPoints_net, ePoints_net, se_net\n",
    "from DataLoader.dataloader import TrajDataset\n",
    "emb_dim = 128\n",
    "emb_model = 'neutraj'\n",
    "\n",
    "# load data\n",
    "with open(\"./data/{}/{}/train/train_data\".format(emb_model, emb_dim), \"rb\") as f:\n",
    "    tmp_embs = pickle.load(f)\n",
    "    train_embs = tmp_embs['embs']\n",
    "with open(\"./data/{}/{}/train/train_grid\".format(emb_model, emb_dim), \"rb\") as f:\n",
    "    train_grids = pickle.load(f)\n",
    "\n",
    "with open(\"./data/{}/{}/val/val_data\".format(emb_model, emb_dim), \"rb\") as f:\n",
    "    tmp_embs = pickle.load(f)\n",
    "    val_embs = tmp_embs['embs']\n",
    "with open(\"./data/{}/{}/val/val_grid\".format(emb_model, emb_dim), \"rb\") as f:\n",
    "    val_grids = pickle.load(f)\n",
    "    \n",
    "with open(\"./rdata/gps_seqs/traingps\", \"rb\") as f:\n",
    "    train_gps = pickle.load(f)\n",
    "    train_gps = train_gps[0:60000]\n",
    "with open(\"./rdata/gps_seqs/valgps\", \"rb\") as f:\n",
    "    val_gps = pickle.load(f)"
   ]
  },
  {
   "cell_type": "code",
   "execution_count": 4,
   "metadata": {},
   "outputs": [
    {
     "data": {
      "text/plain": [
       "<All keys matched successfully>"
      ]
     },
     "execution_count": 4,
     "metadata": {},
     "output_type": "execute_result"
    }
   ],
   "source": [
    "# load pth\n",
    "# delta = 0.002, emb_model = neutraj, embedding dim = emb_dim, hidden dim = 512\n",
    "\n",
    "model = se_net(emb_dim, 512)\n",
    "params = torch.load('./models/d0_002_train_sePoints_{}_{}_{}.pth'.format(emb_model, emb_dim, 512))\n",
    "model.load_state_dict(params)"
   ]
  },
  {
   "cell_type": "code",
   "execution_count": 9,
   "metadata": {},
   "outputs": [],
   "source": [
    "# calculate the distance between two points with longitude and latitude\n",
    "def distance(lat1, lon1, lat2, lon2):\n",
    "    R = 6371.004    # km\n",
    "    pi = 3.1415926\n",
    "    dlat = (lat2 - lat1) * pi / 180\n",
    "    dlon = (lon2 - lon1) * pi / 180\n",
    "    a = np.sin(dlat / 2) * np.sin(dlat / 2) + np.cos(lat1 * pi / 180) * np.cos(lat2 * pi / 180) * np.sin(dlon / 2) * np.sin(dlon / 2)\n",
    "    c = 2 * np.arctan2(np.sqrt(a), np.sqrt(1 - a))\n",
    "    d = R * c\n",
    "    return d\n",
    "\n",
    "# transform the cell x,y to lon, lat\n",
    "porto_lat_range = [40.953673,41.307945]\n",
    "porto_lon_range = [-8.735152,-8.156309]\n",
    "delta = 0.002\n",
    "\n",
    "def grid2gps(grid):    # x -> lon, y -> lat\n",
    "    grid_x = grid[0]; grid_y = grid[1]\n",
    "    gps_x = porto_lon_range[0] + grid_x * delta\n",
    "    gps_y = porto_lat_range[0] + grid_y * delta\n",
    "    return [gps_x, gps_y]    # [lon, lat]"
   ]
  },
  {
   "cell_type": "code",
   "execution_count": 10,
   "metadata": {},
   "outputs": [
    {
     "name": "stdout",
     "output_type": "stream",
     "text": [
      "[array([-8.60652 , 41.144616]), array([-8.612919, 41.153742]), array([-8.647722, 41.181597]), array([-8.673822, 41.149638]), array([-8.609796, 41.147946]), array([-8.605611, 41.15367 ]), array([-8.623008, 41.146641]), array([-8.622387, 41.175819]), array([-8.609679, 41.160411]), array([-8.674101, 41.153877]), array([-8.600283, 41.182704]), array([-8.604864, 41.161122]), array([-8.585604, 41.148504]), array([-8.628147, 41.157351]), array([-8.564229, 41.151501]), array([-8.606763, 41.14575 ]), array([-8.64405 , 41.158917]), array([-8.604288, 41.182641]), array([-8.606466, 41.147982]), array([-8.619912, 41.147973]), array([-8.663769, 41.151195]), array([-8.610984, 41.147397]), array([-8.627724, 41.175405]), array([-8.604783, 41.16114 ]), array([-8.639838, 41.15979 ]), array([-8.605917, 41.153616]), array([-8.60481 , 41.161131]), array([-8.610858, 41.145174]), array([-8.599725, 41.182695]), array([-8.630595, 41.154867]), array([-8.611335, 41.147676]), array([-8.656254, 41.164605]), array([-8.606565, 41.144679]), array([-8.591121, 41.162661]), array([-8.6229  , 41.149422]), array([-8.657406, 41.170401]), array([-8.599887, 41.182632]), array([-8.654688, 41.173623]), array([-8.606493, 41.144679]), array([-8.607087, 41.150331])]\n",
      "[[[-8.613287192871093, 41.1412293659668], [-8.62516151385498, 41.14007316174317]], [[-8.618516151000977, 41.14816172375488], [-8.616614257385253, 41.150690379760746]], [[-8.654060729553223, 41.17247130932618], [-8.6308619609375, 41.16367037548828]], [[-8.677085006286621, 41.147495799682616], [-8.62002094226074, 41.13104832043457]], [[-8.615590858032226, 41.143371822021486], [-8.60277600817871, 41.163456050537114]], [[-8.612486091186522, 41.147917430541995], [-8.60190654711914, 41.15904008068848]], [[-8.625832801391601, 41.14290879406739], [-8.617782279541014, 41.13775429882813]], [[-8.630409263183592, 41.168055904052736], [-8.63556377368164, 41.15515476574707]], [[-8.616050956298828, 41.153236354492186], [-8.616104209472656, 41.144136317871094]], [[-8.677206836273193, 41.15187420239258], [-8.614814887573242, 41.136761943481446]], [[-8.607790282775879, 41.17009325756836], [-8.57629685168457, 41.18304886975098]], [[-8.612007094909668, 41.15371950878907], [-8.632512397338866, 41.15739789929199]], [[-8.597026588012694, 41.144016322753906], [-8.610107520629882, 41.14972855725098]], [[-8.632880164672851, 41.1518026081543], [-8.63796862750244, 41.150902598999025]], [[-8.581642402221679, 41.146787364624025], [-8.5732535625, 41.15908712353516]], [[-8.613389266540526, 41.14218108715821], [-8.601263618041992, 41.14200953259277]], [[-8.648911048461914, 41.15371277966309], [-8.629447135498046, 41.165136195800784]], [[-8.612624183227538, 41.17312917675781], [-8.613598990966796, 41.14320321240235]], [[-8.6131697154541, 41.14383419384766], [-8.601137229492187, 41.14161051525879]], [[-8.622791892578125, 41.143756984375], [-8.623540381958007, 41.136786113403325]], [[-8.667578475524902, 41.14780495800782], [-8.635133201171874, 41.14995536389161]], [[-8.61668276171875, 41.14255800976563], [-8.612657233764647, 41.16888643994141]], [[-8.635665244628905, 41.166616359375], [-8.603248282958983, 41.15548749890137]], [[-8.611993064453124, 41.15366619458008], [-8.622495955993651, 41.14134971203613]], [[-8.646531913330078, 41.15525173535156], [-8.663122550537109, 41.14699715771484]], [[-8.612890189697264, 41.14760044445801], [-8.585972007324218, 41.18364907421875]], [[-8.611820907165527, 41.15367107739258], [-8.600330894042967, 41.1510573536377]], [[-8.616736617614745, 41.14108700146485], [-8.640893912841797, 41.14969156994629]], [[-8.606528708984374, 41.17242180981445], [-8.591933509399414, 41.15311727490234]], [[-8.634782325317381, 41.15002962841797], [-8.617245017578124, 41.13876415600586]], [[-8.61663114123535, 41.14331573071289], [-8.59821775012207, 41.151977244995116]], [[-8.66127782397461, 41.1584206348877], [-8.638969893981933, 41.17035535778809]], [[-8.613219375183105, 41.14136898388672], [-8.604413810302734, 41.144034404418946]], [[-8.601939399291991, 41.154944575927736], [-8.639295615722656, 41.151612086914064]], [[-8.628257133056639, 41.14252988781738], [-8.68318266253662, 41.160664561889654]], [[-8.661963752319336, 41.16422059216309], [-8.644729529907226, 41.15021906628418]], [[-8.60699802355957, 41.17248136486817], [-8.616808829833984, 41.139287959716796]], [[-8.659740668823241, 41.16669366040039], [-8.621708900024414, 41.14288816418457]], [[-8.613212134887695, 41.141256145141604], [-8.61924060015869, 41.14375486340332]], [[-8.61362799029541, 41.14537151684571], [-8.604452201416015, 41.156778041503905]]]\n"
     ]
    }
   ],
   "source": [
    "# choose 40 points by random\n",
    "choice_list = np.random.choice(len(val_embs), 40, replace=False)\n",
    "print([val_gps[i][0] for i in choice_list])    # lon, lat\n",
    "choice_valgrids = [[val_grids[i][0][0], val_grids[i][0][1], val_grids[i][-1][0], val_grids[i][-1][1]] for i in choice_list]    # x, y\n",
    "choice_valembs = [val_embs[i] for i in choice_list]\n",
    "choice_valgps = [[val_gps[i][0], val_gps[i][-1]] for i in choice_list]    # [[lon, lat], [lon, lat]]\n",
    "# get the prediction\n",
    "model.cpu()\n",
    "model.eval()\n",
    "choice_predgrids = []\n",
    "for i in range(len(choice_valembs)):    \n",
    "    choice_valembs[i] = torch.Tensor(choice_valembs[i]).unsqueeze(0)\n",
    "    choice_predgrids.append(model(choice_valembs[i]).cpu().detach().numpy()[0])\n",
    "\n",
    "# for i in range(len(choice_predgrids)):\n",
    "#     print(choice_predgrids[i], choice_valgrids[i], '\\n')\n",
    "\n",
    "# transform the prediction to lon, lat\n",
    "choice_predgps = []\n",
    "for i in range(len(choice_predgrids)):\n",
    "    choice_predgps.append([grid2gps(choice_predgrids[i][0:2]), grid2gps(choice_predgrids[i][2:])])\n",
    "print(choice_predgps)"
   ]
  },
  {
   "cell_type": "code",
   "execution_count": 11,
   "metadata": {},
   "outputs": [
    {
     "name": "stdout",
     "output_type": "stream",
     "text": [
      "[0.6803851516098737, 0.7775844858034427, 1.1450435796856606, 0.3624714773959707, 0.7029552771542159, 0.860532888775138, 0.4776780287243325, 1.0936243790666926, 0.9597081584823192, 0.34236608598323204, 1.5365861691731189, 1.0174218810717448, 1.0788000888817242, 0.733256072850645, 1.5493665881343193, 0.6821694578078733, 0.7074593768256365, 1.2670508372778468, 0.7265045066373654, 0.5271850463719153, 0.49379558746651453, 0.7191853839481775, 1.1818818591692999, 1.0271328127550359, 0.7541292890038984, 0.8878671320738185, 1.0161632480417784, 0.6699615419870825, 1.2763845735035486, 0.6420575051520118, 0.657065387032398, 0.8060799320137471, 0.6678035338445815, 1.247590917658901, 0.8879967916218476, 0.7860269413229073, 1.2759945935663581, 0.8789461420071041, 0.6792852610093789, 0.7772252548181833]\n",
      "[0.9966980520757861, 1.3800995226322563, 1.6230817163772462, 0.9885379901074188, 1.9721359277731307, 1.866528803597888, 1.0426487008729328, 1.3535000587222956, 1.2042084318602437, 1.1445804516069624, 2.9483362823535164, 1.4145110991125815, 1.4238573844390765, 1.1463300386134518, 2.5628725035291375, 1.499417107597663, 1.6110252505223839, 1.2807264409533432, 1.5095426686907234, 0.9508212020998466, 1.092631259989093, 1.9786016890324316, 1.6753071140672644, 1.0429102806913721, 1.2285922414175607, 2.814145776781852, 1.6980318440066096, 1.070589720663879, 1.9363591530860162, 1.11479719513159, 1.7876408788584417, 1.7539065760390475, 1.4507082894286973, 1.2574725236686988, 1.82282105749558, 1.1205936650893007, 1.157764235654315, 1.0698860535663852, 1.1728548328216688, 1.781698672315129]\n",
      "average start distance: 0.8640180806427409 km\n",
      "average end distance: 1.4986693173335703 km\n"
     ]
    }
   ],
   "source": [
    "# calculate the distance between prediction and ground truth\n",
    "start_dis = []; end_dis = []\n",
    "for i in range(len(choice_predgps)):\n",
    "    start_dis.append(distance(choice_predgps[i][0][1], choice_predgps[i][0][0], choice_valgps[i][0][1], choice_valgps[i][0][0]))\n",
    "    end_dis.append(distance(choice_predgps[i][1][1], choice_predgps[i][1][0], choice_valgps[i][1][1], choice_valgps[i][1][0]))\n",
    "print(start_dis)\n",
    "print(end_dis)\n",
    "print('average start distance: {} km'.format(np.mean(start_dis)))\n",
    "print('average end distance: {} km'.format(np.mean(end_dis)))\n",
    "\n",
    "with open(\"./results/{}_{}_{}_{}_dists\".format(delta,emb_model, emb_dim, 512), \"w\") as f:\n",
    "    f.write(\"choose 40 points by random\\n\")\n",
    "    f.write(\"choice_list: {}\\n\".format(choice_list))\n",
    "    f.write('average start distance: {} km'.format(np.mean(start_dis)))\n",
    "    f.write('average end distance: {} km'.format(np.mean(end_dis)))\n",
    "    f.write('\\n')\n",
    "    f.write('start distance: {}'.format(start_dis))\n",
    "    f.write('\\n')\n",
    "    f.write('end distance: {}'.format(end_dis))"
   ]
  },
  {
   "cell_type": "code",
   "execution_count": 12,
   "metadata": {},
   "outputs": [
    {
     "name": "stdout",
     "output_type": "stream",
     "text": [
      "[[-8.612007094909668, 41.15371950878907], [-8.632512397338866, 41.15739789929199]] [array([-8.604864, 41.161122]), array([-8.628741, 41.169798])]\n"
     ]
    },
    {
     "data": {
      "text/html": [
       "<div style=\"width:100%;\"><div style=\"position:relative;width:100%;height:0;padding-bottom:60%;\"><span style=\"color:#565656\">Make this Notebook Trusted to load map: File -> Trust Notebook</span><iframe src=\"about:blank\" style=\"position:absolute;width:100%;height:100%;left:0;top:0;border:none !important;\" data-html=%3C%21DOCTYPE%20html%3E%0A%3Chead%3E%20%20%20%20%0A%20%20%20%20%3Cmeta%20http-equiv%3D%22content-type%22%20content%3D%22text/html%3B%20charset%3DUTF-8%22%20/%3E%0A%20%20%20%20%0A%20%20%20%20%20%20%20%20%3Cscript%3E%0A%20%20%20%20%20%20%20%20%20%20%20%20L_NO_TOUCH%20%3D%20false%3B%0A%20%20%20%20%20%20%20%20%20%20%20%20L_DISABLE_3D%20%3D%20false%3B%0A%20%20%20%20%20%20%20%20%3C/script%3E%0A%20%20%20%20%0A%20%20%20%20%3Cstyle%3Ehtml%2C%20body%20%7Bwidth%3A%20100%25%3Bheight%3A%20100%25%3Bmargin%3A%200%3Bpadding%3A%200%3B%7D%3C/style%3E%0A%20%20%20%20%3Cstyle%3E%23map%20%7Bposition%3Aabsolute%3Btop%3A0%3Bbottom%3A0%3Bright%3A0%3Bleft%3A0%3B%7D%3C/style%3E%0A%20%20%20%20%3Cscript%20src%3D%22https%3A//cdn.jsdelivr.net/npm/leaflet%401.6.0/dist/leaflet.js%22%3E%3C/script%3E%0A%20%20%20%20%3Cscript%20src%3D%22https%3A//code.jquery.com/jquery-1.12.4.min.js%22%3E%3C/script%3E%0A%20%20%20%20%3Cscript%20src%3D%22https%3A//maxcdn.bootstrapcdn.com/bootstrap/3.2.0/js/bootstrap.min.js%22%3E%3C/script%3E%0A%20%20%20%20%3Cscript%20src%3D%22https%3A//cdnjs.cloudflare.com/ajax/libs/Leaflet.awesome-markers/2.0.2/leaflet.awesome-markers.js%22%3E%3C/script%3E%0A%20%20%20%20%3Clink%20rel%3D%22stylesheet%22%20href%3D%22https%3A//cdn.jsdelivr.net/npm/leaflet%401.6.0/dist/leaflet.css%22/%3E%0A%20%20%20%20%3Clink%20rel%3D%22stylesheet%22%20href%3D%22https%3A//maxcdn.bootstrapcdn.com/bootstrap/3.2.0/css/bootstrap.min.css%22/%3E%0A%20%20%20%20%3Clink%20rel%3D%22stylesheet%22%20href%3D%22https%3A//maxcdn.bootstrapcdn.com/bootstrap/3.2.0/css/bootstrap-theme.min.css%22/%3E%0A%20%20%20%20%3Clink%20rel%3D%22stylesheet%22%20href%3D%22https%3A//maxcdn.bootstrapcdn.com/font-awesome/4.6.3/css/font-awesome.min.css%22/%3E%0A%20%20%20%20%3Clink%20rel%3D%22stylesheet%22%20href%3D%22https%3A//cdnjs.cloudflare.com/ajax/libs/Leaflet.awesome-markers/2.0.2/leaflet.awesome-markers.css%22/%3E%0A%20%20%20%20%3Clink%20rel%3D%22stylesheet%22%20href%3D%22https%3A//cdn.jsdelivr.net/gh/python-visualization/folium/folium/templates/leaflet.awesome.rotate.min.css%22/%3E%0A%20%20%20%20%0A%20%20%20%20%20%20%20%20%20%20%20%20%3Cmeta%20name%3D%22viewport%22%20content%3D%22width%3Ddevice-width%2C%0A%20%20%20%20%20%20%20%20%20%20%20%20%20%20%20%20initial-scale%3D1.0%2C%20maximum-scale%3D1.0%2C%20user-scalable%3Dno%22%20/%3E%0A%20%20%20%20%20%20%20%20%20%20%20%20%3Cstyle%3E%0A%20%20%20%20%20%20%20%20%20%20%20%20%20%20%20%20%23map_498c925706044948972aa513ac3be4f9%20%7B%0A%20%20%20%20%20%20%20%20%20%20%20%20%20%20%20%20%20%20%20%20position%3A%20relative%3B%0A%20%20%20%20%20%20%20%20%20%20%20%20%20%20%20%20%20%20%20%20width%3A%20100.0%25%3B%0A%20%20%20%20%20%20%20%20%20%20%20%20%20%20%20%20%20%20%20%20height%3A%20100.0%25%3B%0A%20%20%20%20%20%20%20%20%20%20%20%20%20%20%20%20%20%20%20%20left%3A%200.0%25%3B%0A%20%20%20%20%20%20%20%20%20%20%20%20%20%20%20%20%20%20%20%20top%3A%200.0%25%3B%0A%20%20%20%20%20%20%20%20%20%20%20%20%20%20%20%20%7D%0A%20%20%20%20%20%20%20%20%20%20%20%20%3C/style%3E%0A%20%20%20%20%20%20%20%20%0A%3C/head%3E%0A%3Cbody%3E%20%20%20%20%0A%20%20%20%20%0A%20%20%20%20%20%20%20%20%20%20%20%20%3Cdiv%20class%3D%22folium-map%22%20id%3D%22map_498c925706044948972aa513ac3be4f9%22%20%3E%3C/div%3E%0A%20%20%20%20%20%20%20%20%0A%3C/body%3E%0A%3Cscript%3E%20%20%20%20%0A%20%20%20%20%0A%20%20%20%20%20%20%20%20%20%20%20%20var%20map_498c925706044948972aa513ac3be4f9%20%3D%20L.map%28%0A%20%20%20%20%20%20%20%20%20%20%20%20%20%20%20%20%22map_498c925706044948972aa513ac3be4f9%22%2C%0A%20%20%20%20%20%20%20%20%20%20%20%20%20%20%20%20%7B%0A%20%20%20%20%20%20%20%20%20%20%20%20%20%20%20%20%20%20%20%20center%3A%20%5B40.953673%2C%20-8.735152%5D%2C%0A%20%20%20%20%20%20%20%20%20%20%20%20%20%20%20%20%20%20%20%20crs%3A%20L.CRS.EPSG3857%2C%0A%20%20%20%20%20%20%20%20%20%20%20%20%20%20%20%20%20%20%20%20zoom%3A%2012%2C%0A%20%20%20%20%20%20%20%20%20%20%20%20%20%20%20%20%20%20%20%20zoomControl%3A%20true%2C%0A%20%20%20%20%20%20%20%20%20%20%20%20%20%20%20%20%20%20%20%20preferCanvas%3A%20false%2C%0A%20%20%20%20%20%20%20%20%20%20%20%20%20%20%20%20%7D%0A%20%20%20%20%20%20%20%20%20%20%20%20%29%3B%0A%0A%20%20%20%20%20%20%20%20%20%20%20%20%0A%0A%20%20%20%20%20%20%20%20%0A%20%20%20%20%0A%20%20%20%20%20%20%20%20%20%20%20%20var%20tile_layer_2e305bb1ea5844f38228039afe9aba68%20%3D%20L.tileLayer%28%0A%20%20%20%20%20%20%20%20%20%20%20%20%20%20%20%20%22https%3A//%7Bs%7D.tile.openstreetmap.org/%7Bz%7D/%7Bx%7D/%7By%7D.png%22%2C%0A%20%20%20%20%20%20%20%20%20%20%20%20%20%20%20%20%7B%22attribution%22%3A%20%22Data%20by%20%5Cu0026copy%3B%20%5Cu003ca%20href%3D%5C%22http%3A//openstreetmap.org%5C%22%5Cu003eOpenStreetMap%5Cu003c/a%5Cu003e%2C%20under%20%5Cu003ca%20href%3D%5C%22http%3A//www.openstreetmap.org/copyright%5C%22%5Cu003eODbL%5Cu003c/a%5Cu003e.%22%2C%20%22detectRetina%22%3A%20false%2C%20%22maxNativeZoom%22%3A%2018%2C%20%22maxZoom%22%3A%2018%2C%20%22minZoom%22%3A%200%2C%20%22noWrap%22%3A%20false%2C%20%22opacity%22%3A%201%2C%20%22subdomains%22%3A%20%22abc%22%2C%20%22tms%22%3A%20false%7D%0A%20%20%20%20%20%20%20%20%20%20%20%20%29.addTo%28map_498c925706044948972aa513ac3be4f9%29%3B%0A%20%20%20%20%20%20%20%20%0A%20%20%20%20%0A%20%20%20%20%20%20%20%20%20%20%20%20var%20circle_marker_dbe455ebb211435385a627d949e62efb%20%3D%20L.circleMarker%28%0A%20%20%20%20%20%20%20%20%20%20%20%20%20%20%20%20%5B41.15371950878907%2C%20-8.612007094909668%5D%2C%0A%20%20%20%20%20%20%20%20%20%20%20%20%20%20%20%20%7B%22bubblingMouseEvents%22%3A%20true%2C%20%22color%22%3A%20%22blue%22%2C%20%22dashArray%22%3A%20null%2C%20%22dashOffset%22%3A%20null%2C%20%22fill%22%3A%20true%2C%20%22fillColor%22%3A%20%22blue%22%2C%20%22fillOpacity%22%3A%200.2%2C%20%22fillRule%22%3A%20%22evenodd%22%2C%20%22lineCap%22%3A%20%22round%22%2C%20%22lineJoin%22%3A%20%22round%22%2C%20%22opacity%22%3A%201.0%2C%20%22radius%22%3A%205%2C%20%22stroke%22%3A%20true%2C%20%22weight%22%3A%203%7D%0A%20%20%20%20%20%20%20%20%20%20%20%20%29.addTo%28map_498c925706044948972aa513ac3be4f9%29%3B%0A%20%20%20%20%20%20%20%20%0A%20%20%20%20%0A%20%20%20%20%20%20%20%20%20%20%20%20var%20circle_marker_ef9bc429446d4cc9a6b37a706f08c3fa%20%3D%20L.circleMarker%28%0A%20%20%20%20%20%20%20%20%20%20%20%20%20%20%20%20%5B41.15739789929199%2C%20-8.632512397338866%5D%2C%0A%20%20%20%20%20%20%20%20%20%20%20%20%20%20%20%20%7B%22bubblingMouseEvents%22%3A%20true%2C%20%22color%22%3A%20%22blue%22%2C%20%22dashArray%22%3A%20null%2C%20%22dashOffset%22%3A%20null%2C%20%22fill%22%3A%20true%2C%20%22fillColor%22%3A%20%22blue%22%2C%20%22fillOpacity%22%3A%200.2%2C%20%22fillRule%22%3A%20%22evenodd%22%2C%20%22lineCap%22%3A%20%22round%22%2C%20%22lineJoin%22%3A%20%22round%22%2C%20%22opacity%22%3A%201.0%2C%20%22radius%22%3A%205%2C%20%22stroke%22%3A%20true%2C%20%22weight%22%3A%203%7D%0A%20%20%20%20%20%20%20%20%20%20%20%20%29.addTo%28map_498c925706044948972aa513ac3be4f9%29%3B%0A%20%20%20%20%20%20%20%20%0A%20%20%20%20%0A%20%20%20%20%20%20%20%20%20%20%20%20var%20circle_marker_036d3c953d1d49e5aca9fe13e7cd6baf%20%3D%20L.circleMarker%28%0A%20%20%20%20%20%20%20%20%20%20%20%20%20%20%20%20%5B41.161122%2C%20-8.604864%5D%2C%0A%20%20%20%20%20%20%20%20%20%20%20%20%20%20%20%20%7B%22bubblingMouseEvents%22%3A%20true%2C%20%22color%22%3A%20%22red%22%2C%20%22dashArray%22%3A%20null%2C%20%22dashOffset%22%3A%20null%2C%20%22fill%22%3A%20true%2C%20%22fillColor%22%3A%20%22red%22%2C%20%22fillOpacity%22%3A%200.2%2C%20%22fillRule%22%3A%20%22evenodd%22%2C%20%22lineCap%22%3A%20%22round%22%2C%20%22lineJoin%22%3A%20%22round%22%2C%20%22opacity%22%3A%201.0%2C%20%22radius%22%3A%205%2C%20%22stroke%22%3A%20true%2C%20%22weight%22%3A%203%7D%0A%20%20%20%20%20%20%20%20%20%20%20%20%29.addTo%28map_498c925706044948972aa513ac3be4f9%29%3B%0A%20%20%20%20%20%20%20%20%0A%20%20%20%20%0A%20%20%20%20%20%20%20%20%20%20%20%20var%20circle_marker_0c6c1fe7a5dc40829444794195def440%20%3D%20L.circleMarker%28%0A%20%20%20%20%20%20%20%20%20%20%20%20%20%20%20%20%5B41.169798%2C%20-8.628741%5D%2C%0A%20%20%20%20%20%20%20%20%20%20%20%20%20%20%20%20%7B%22bubblingMouseEvents%22%3A%20true%2C%20%22color%22%3A%20%22red%22%2C%20%22dashArray%22%3A%20null%2C%20%22dashOffset%22%3A%20null%2C%20%22fill%22%3A%20true%2C%20%22fillColor%22%3A%20%22red%22%2C%20%22fillOpacity%22%3A%200.2%2C%20%22fillRule%22%3A%20%22evenodd%22%2C%20%22lineCap%22%3A%20%22round%22%2C%20%22lineJoin%22%3A%20%22round%22%2C%20%22opacity%22%3A%201.0%2C%20%22radius%22%3A%205%2C%20%22stroke%22%3A%20true%2C%20%22weight%22%3A%203%7D%0A%20%20%20%20%20%20%20%20%20%20%20%20%29.addTo%28map_498c925706044948972aa513ac3be4f9%29%3B%0A%20%20%20%20%20%20%20%20%0A%20%20%20%20%0A%20%20%20%20%20%20%20%20%20%20%20%20var%20poly_line_c642c89693e446a99e8d4f4e690e5cf5%20%3D%20L.polyline%28%0A%20%20%20%20%20%20%20%20%20%20%20%20%20%20%20%20%5B%5B41.161122%2C%20-8.604864%5D%2C%20%5B41.160978%2C%20-8.604936%5D%2C%20%5B41.1606%2C%20-8.604864%5D%2C%20%5B41.160465%2C%20-8.604729%5D%2C%20%5B41.160456%2C%20-8.604585%5D%2C%20%5B41.161401%2C%20-8.604018%5D%2C%20%5B41.161545%2C%20-8.603964%5D%2C%20%5B41.161932%2C%20-8.604459%5D%2C%20%5B41.162112%2C%20-8.606169%5D%2C%20%5B41.162427%2C%20-8.607915%5D%2C%20%5B41.16249%2C%20-8.609004%5D%2C%20%5B41.162436%2C%20-8.609004%5D%2C%20%5B41.162463%2C%20-8.60931%5D%2C%20%5B41.162787%2C%20-8.61084%5D%2C%20%5B41.162913%2C%20-8.612235%5D%2C%20%5B41.163228%2C%20-8.614197%5D%2C%20%5B41.163471%2C%20-8.616474%5D%2C%20%5B41.163714%2C%20-8.61858%5D%2C%20%5B41.163876%2C%20-8.620011%5D%2C%20%5B41.16402%2C%20-8.621136%5D%2C%20%5B41.164218%2C%20-8.622747%5D%2C%20%5B41.164443%2C%20-8.624367%5D%2C%20%5B41.165181%2C%20-8.624943%5D%2C%20%5B41.16609%2C%20-8.624952%5D%2C%20%5B41.166378%2C%20-8.625096%5D%2C%20%5B41.166405%2C%20-8.625132%5D%2C%20%5B41.166405%2C%20-8.625132%5D%2C%20%5B41.166369%2C%20-8.625123%5D%2C%20%5B41.166963%2C%20-8.62524%5D%2C%20%5B41.167494%2C%20-8.625357%5D%2C%20%5B41.167521%2C%20-8.625366%5D%2C%20%5B41.168097%2C%20-8.625465%5D%2C%20%5B41.169078%2C%20-8.625627%5D%2C%20%5B41.169303%2C%20-8.625636%5D%2C%20%5B41.169996%2C%20-8.62587%5D%2C%20%5B41.169771%2C%20-8.627346%5D%2C%20%5B41.169843%2C%20-8.628588%5D%2C%20%5B41.169843%2C%20-8.628588%5D%2C%20%5B41.16987%2C%20-8.628678%5D%2C%20%5B41.169789%2C%20-8.628642%5D%2C%20%5B41.169807%2C%20-8.628714%5D%2C%20%5B41.169798%2C%20-8.628741%5D%5D%2C%0A%20%20%20%20%20%20%20%20%20%20%20%20%20%20%20%20%7B%22bubblingMouseEvents%22%3A%20true%2C%20%22color%22%3A%20%22red%22%2C%20%22dashArray%22%3A%20null%2C%20%22dashOffset%22%3A%20null%2C%20%22fill%22%3A%20false%2C%20%22fillColor%22%3A%20%22red%22%2C%20%22fillOpacity%22%3A%200.2%2C%20%22fillRule%22%3A%20%22evenodd%22%2C%20%22lineCap%22%3A%20%22round%22%2C%20%22lineJoin%22%3A%20%22round%22%2C%20%22noClip%22%3A%20false%2C%20%22opacity%22%3A%201%2C%20%22smoothFactor%22%3A%201.0%2C%20%22stroke%22%3A%20true%2C%20%22weight%22%3A%202.5%7D%0A%20%20%20%20%20%20%20%20%20%20%20%20%29.addTo%28map_498c925706044948972aa513ac3be4f9%29%3B%0A%20%20%20%20%20%20%20%20%0A%3C/script%3E onload=\"this.contentDocument.open();this.contentDocument.write(    decodeURIComponent(this.getAttribute('data-html')));this.contentDocument.close();\" allowfullscreen webkitallowfullscreen mozallowfullscreen></iframe></div></div>"
      ],
      "text/plain": [
       "<folium.folium.Map at 0x7f645d70c730>"
      ]
     },
     "execution_count": 12,
     "metadata": {},
     "output_type": "execute_result"
    },
    {
     "ename": "",
     "evalue": "",
     "output_type": "error",
     "traceback": [
      "\u001b[1;31m在当前单元格或上一个单元格中执行代码时 Kernel 崩溃。请查看单元格中的代码，以确定故障的可能原因。有关详细信息，请单击 <a href='https://aka.ms/vscodeJupyterKernelCrash'>此处</a>。有关更多详细信息，请查看 Jupyter <a href='command:jupyter.viewOutput'>log</a>。"
     ]
    }
   ],
   "source": [
    "# if you want, plot the prediction and ground truth on the map\n",
    "import folium\n",
    "my_map = folium.Map(location=[40.953673,-8.735152], zoom_start=12)\n",
    "choice = np.random.choice(len(choice_predgps))\n",
    "print(choice_predgps[choice], choice_valgps[choice])\n",
    "\n",
    "folium.CircleMarker(location=[choice_predgps[choice][0][1], choice_predgps[choice][0][0]], radius=5, color='blue', fill=True).add_to(my_map)\n",
    "folium.CircleMarker(location=[choice_predgps[choice][1][1], choice_predgps[choice][1][0]], radius=5, color='blue', fill=True).add_to(my_map)\n",
    "folium.CircleMarker(location=[choice_valgps[choice][0][1], choice_valgps[choice][0][0]], radius=5, color='red', fill=True).add_to(my_map)\n",
    "folium.CircleMarker(location=[choice_valgps[choice][1][1], choice_valgps[choice][1][0]], radius=5, color='red', fill=True).add_to(my_map)\n",
    "\n",
    "# plot the real trajectory\n",
    "gps_val = val_gps[choice_list[choice]][:, [1, 0]]\n",
    "folium.PolyLine(gps_val, color=\"red\", weight=2.5, opacity=1).add_to(my_map)\n",
    "\n",
    "my_map   # show the map"
   ]
  },
  {
   "cell_type": "code",
   "execution_count": null,
   "metadata": {},
   "outputs": [],
   "source": []
  }
 ],
 "metadata": {
  "kernelspec": {
   "display_name": "pytorch",
   "language": "python",
   "name": "python3"
  },
  "language_info": {
   "codemirror_mode": {
    "name": "ipython",
    "version": 3
   },
   "file_extension": ".py",
   "mimetype": "text/x-python",
   "name": "python",
   "nbconvert_exporter": "python",
   "pygments_lexer": "ipython3",
   "version": "3.8.10"
  }
 },
 "nbformat": 4,
 "nbformat_minor": 2
}
