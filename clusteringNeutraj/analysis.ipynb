{
 "cells": [
  {
   "cell_type": "code",
   "execution_count": 1,
   "metadata": {},
   "outputs": [],
   "source": [
    "import pickle\n",
    "import numpy as np"
   ]
  },
  {
   "cell_type": "code",
   "execution_count": 11,
   "metadata": {},
   "outputs": [],
   "source": [
    "embedding_model = \"neutraj_256\"\n",
    "radius = 500\n",
    "name_id = \"20231129_7\"    # 测试id"
   ]
  },
  {
   "cell_type": "code",
   "execution_count": 12,
   "metadata": {},
   "outputs": [],
   "source": [
    "with open(\"./data/r{}_label_test\".format(radius), \"rb\") as f:\n",
    "    targets = pickle.load(f)"
   ]
  },
  {
   "cell_type": "code",
   "execution_count": 13,
   "metadata": {},
   "outputs": [],
   "source": [
    "with open(\"./results/{}_training/pred_test_{}_{}\".format(name_id, radius, embedding_model), \"rb\") as f:\n",
    "    preds = pickle.load(f)"
   ]
  },
  {
   "cell_type": "code",
   "execution_count": 14,
   "metadata": {},
   "outputs": [
    {
     "name": "stdout",
     "output_type": "stream",
     "text": [
      "<class 'numpy.ndarray'>\n",
      "(10000, 97)\n",
      "126924\n",
      "843076\n",
      "126393\n",
      "843607\n"
     ]
    }
   ],
   "source": [
    "print(type(targets))\n",
    "print(targets.shape)    # num_test * num_class\n",
    "print(np.sum(preds == 1))\n",
    "print(np.sum(preds == 0))\n",
    "print(np.sum(targets == 1))\n",
    "print(np.sum(targets == 0))"
   ]
  },
  {
   "cell_type": "code",
   "execution_count": 15,
   "metadata": {},
   "outputs": [
    {
     "name": "stdout",
     "output_type": "stream",
     "text": [
      "(97, 10000)\n",
      "recall = 0.874786690525267, precision = 0.8806695014792677 f1 = 0.8777182388879521\n"
     ]
    }
   ],
   "source": [
    "rev_targets = targets.transpose()\n",
    "rev_preds = preds.transpose()\n",
    "print(rev_targets.shape)    # num_class * num_test\n",
    "\n",
    "recalls = []\n",
    "precisions = []\n",
    "\n",
    "def get_recall_precision(pred, target):  # recall: TP / (TP + FN)  precision: TP / (TP + FP)\n",
    "    for i in range(len(pred)):    # 计算每个类别的recall和precision\n",
    "        TP, FN, FP, TN = 0, 0, 0, 0\n",
    "        for j in range(len(pred[i])):\n",
    "            if target[i][j] == 1:\n",
    "                if pred[i][j] == 1:\n",
    "                    TP += 1\n",
    "                else:\n",
    "                    FN += 1\n",
    "            else:\n",
    "                if pred[i][j] == 1:\n",
    "                    FP += 1\n",
    "                else:\n",
    "                    TN += 1\n",
    "        # print(\"class {}: TP = {}, FN = {}, FP = {}, TN = {}\".format(i, TP, FN, FP, TN))\n",
    "        recall = TP / (TP + FN)\n",
    "        precision = TP / (TP + FP)\n",
    "        recalls.append(recall)\n",
    "        precisions.append(precision)\n",
    "        # print(\"class {}: recall = {}, precision = {}\".format(i, recall, precision))\n",
    "    return recalls, precisions\n",
    "\n",
    "recalls, precisions = get_recall_precision(rev_preds, rev_targets)\n",
    "recall = np.mean(recalls); precision = np.mean(precisions)\n",
    "f1 = 2 * recall * precision / (recall + precision)\n",
    "\n",
    "print(\"recall = {}, precision = {}\".format(recall, precision), \"f1 = {}\".format(f1))"
   ]
  },
  {
   "cell_type": "code",
   "execution_count": 15,
   "metadata": {},
   "outputs": [],
   "source": [
    "with open(\"./results/{}_training/{}_{}_{}_recall_precision.txt\".format(name_id, name_id, radius, embedding_model), \"w\") as f:\n",
    "    f.write(\"recall = {}\\n\".format(recall))\n",
    "    f.write(\"precision = {}\\n\".format(precision))\n",
    "    f.write(\"f1 = {}\\n\".format(f1))\n",
    "    f.close()"
   ]
  },
  {
   "cell_type": "code",
   "execution_count": 8,
   "metadata": {},
   "outputs": [
    {
     "data": {
      "text/plain": [
       "' 我自己在上面定义了函数，这里不需要了 '"
      ]
     },
     "execution_count": 8,
     "metadata": {},
     "output_type": "execute_result"
    }
   ],
   "source": [
    "''' 我自己在上面定义了函数，这里不需要了 '''\n",
    "# precisions = []\n",
    "# for i in range(len(preds)):\n",
    "#     num = sum(preds[i]) # 一共有多少个标签\n",
    "#     if(num == 0):\n",
    "#         continue\n",
    "#     pre_Num = 0\n",
    "#     for j in range(len(preds[i])):\n",
    "#         if(preds[i, j] == 1 and targets[i, j] == 1):\n",
    "#             pre_Num += 1\n",
    "#     precision = pre_Num/num\n",
    "#     precisions.append(precision)\n",
    "\n",
    "# print(np.average(precisions))\n",
    "# print(np.average(recalls))\n",
    "# print(\"f1: \", 2*np.average(precisions)*np.average(recalls)/(np.average(precisions)+np.average(recalls)))"
   ]
  },
  {
   "cell_type": "code",
   "execution_count": 13,
   "metadata": {},
   "outputs": [
    {
     "name": "stdout",
     "output_type": "stream",
     "text": [
      "0.8175538672678115\n",
      "0.8017578012798218\n",
      "f1:  0.8095787905195031\n"
     ]
    }
   ],
   "source": [
    "\n",
    "\n"
   ]
  },
  {
   "cell_type": "code",
   "execution_count": 10,
   "metadata": {},
   "outputs": [],
   "source": [
    "''' **************part2*************** '''\n",
    "embedding_model = \"neutraj_256\"\n",
    "radius = 300"
   ]
  },
  {
   "cell_type": "code",
   "execution_count": 11,
   "metadata": {},
   "outputs": [],
   "source": [
    "with open(\"./data/label_test\", \"rb\") as f:\n",
    "    targets = pickle.load(f)"
   ]
  },
  {
   "cell_type": "code",
   "execution_count": 12,
   "metadata": {},
   "outputs": [
    {
     "ename": "FileNotFoundError",
     "evalue": "[Errno 2] No such file or directory: './results/20231128_1_training/pred_test_300_neutraj_256'",
     "output_type": "error",
     "traceback": [
      "\u001b[0;31m---------------------------------------------------------------------------\u001b[0m",
      "\u001b[0;31mFileNotFoundError\u001b[0m                         Traceback (most recent call last)",
      "\u001b[0;32m/tmp/ipykernel_3062386/2814757579.py\u001b[0m in \u001b[0;36m<module>\u001b[0;34m\u001b[0m\n\u001b[0;32m----> 1\u001b[0;31m \u001b[0;32mwith\u001b[0m \u001b[0mopen\u001b[0m\u001b[0;34m(\u001b[0m\u001b[0;34m\"./results/{}_training/pred_test_{}_{}\"\u001b[0m\u001b[0;34m.\u001b[0m\u001b[0mformat\u001b[0m\u001b[0;34m(\u001b[0m\u001b[0mname_id\u001b[0m\u001b[0;34m,\u001b[0m \u001b[0mradius\u001b[0m\u001b[0;34m,\u001b[0m \u001b[0membedding_model\u001b[0m\u001b[0;34m)\u001b[0m\u001b[0;34m,\u001b[0m \u001b[0;34m\"rb\"\u001b[0m\u001b[0;34m)\u001b[0m \u001b[0;32mas\u001b[0m \u001b[0mf\u001b[0m\u001b[0;34m:\u001b[0m\u001b[0;34m\u001b[0m\u001b[0;34m\u001b[0m\u001b[0m\n\u001b[0m\u001b[1;32m      2\u001b[0m     \u001b[0mpreds\u001b[0m \u001b[0;34m=\u001b[0m \u001b[0mpickle\u001b[0m\u001b[0;34m.\u001b[0m\u001b[0mload\u001b[0m\u001b[0;34m(\u001b[0m\u001b[0mf\u001b[0m\u001b[0;34m)\u001b[0m\u001b[0;34m\u001b[0m\u001b[0;34m\u001b[0m\u001b[0m\n",
      "\u001b[0;31mFileNotFoundError\u001b[0m: [Errno 2] No such file or directory: './results/20231128_1_training/pred_test_300_neutraj_256'"
     ]
    }
   ],
   "source": [
    "with open(\"./results/{}_training/pred_test_{}_{}\".format(name_id, radius, embedding_model), \"rb\") as f:\n",
    "    preds = pickle.load(f)"
   ]
  },
  {
   "cell_type": "code",
   "execution_count": 5,
   "metadata": {},
   "outputs": [],
   "source": [
    "recalls = []\n",
    "for i in range(len(targets)):\n",
    "    num = sum(targets[i]) # 一共有多少个标签\n",
    "    if(num == 0):\n",
    "        continue\n",
    "    rec_Num = 0\n",
    "    for j in range(len(targets[i])):\n",
    "        if(targets[i, j] == 1 and preds[i, j] == 1):\n",
    "            rec_Num += 1\n",
    "    recall = rec_Num/num\n",
    "    recalls.append(recall)\n"
   ]
  },
  {
   "cell_type": "code",
   "execution_count": 6,
   "metadata": {},
   "outputs": [
    {
     "name": "stdout",
     "output_type": "stream",
     "text": [
      "0.8112320444715824\n"
     ]
    }
   ],
   "source": [
    "print(np.average(recalls))"
   ]
  },
  {
   "cell_type": "code",
   "execution_count": 7,
   "metadata": {},
   "outputs": [],
   "source": [
    "precisions = []\n",
    "for i in range(len(preds)):\n",
    "    num = sum(preds[i]) # 一共有多少个标签\n",
    "    if(num == 0):\n",
    "        continue\n",
    "    pre_Num = 0\n",
    "    for j in range(len(preds[i])):\n",
    "        if(preds[i, j] == 1 and targets[i, j] == 1):\n",
    "            pre_Num += 1\n",
    "    precision = pre_Num/num\n",
    "    precisions.append(precision)"
   ]
  },
  {
   "cell_type": "code",
   "execution_count": 8,
   "metadata": {},
   "outputs": [
    {
     "name": "stdout",
     "output_type": "stream",
     "text": [
      "0.8313867655666891\n"
     ]
    }
   ],
   "source": [
    "print(np.average(precisions))"
   ]
  },
  {
   "cell_type": "code",
   "execution_count": 4,
   "metadata": {},
   "outputs": [],
   "source": [
    "embedding_model = \"t2vec_128\"\n",
    "radius = 300"
   ]
  },
  {
   "cell_type": "code",
   "execution_count": 5,
   "metadata": {},
   "outputs": [],
   "source": [
    "with open(\"./data/label_test\", \"rb\") as f:\n",
    "    targets = pickle.load(f)"
   ]
  },
  {
   "cell_type": "code",
   "execution_count": 6,
   "metadata": {},
   "outputs": [],
   "source": [
    "with open(\"./results/{}_training/pred_test_{}_{}\".format(name_id, radius, embedding_model), \"rb\") as f:\n",
    "    preds = pickle.load(f)"
   ]
  },
  {
   "cell_type": "code",
   "execution_count": 7,
   "metadata": {},
   "outputs": [],
   "source": [
    "recalls = []\n",
    "for i in range(len(targets)):\n",
    "    num = sum(targets[i]) # 一共有多少个标签\n",
    "    if(num == 0):\n",
    "        continue\n",
    "    rec_Num = 0\n",
    "    for j in range(len(targets[i])):\n",
    "        if(targets[i, j] == 1 and preds[i, j] == 1):\n",
    "            rec_Num += 1\n",
    "    recall = rec_Num/num\n",
    "    recalls.append(recall)\n"
   ]
  },
  {
   "cell_type": "code",
   "execution_count": 8,
   "metadata": {},
   "outputs": [
    {
     "name": "stdout",
     "output_type": "stream",
     "text": [
      "0.7967882322802978\n"
     ]
    }
   ],
   "source": [
    "print(np.average(recalls))"
   ]
  },
  {
   "cell_type": "code",
   "execution_count": 9,
   "metadata": {},
   "outputs": [],
   "source": [
    "precisions = []\n",
    "for i in range(len(preds)):\n",
    "    num = sum(preds[i]) + 0.0001 # 一共有多少个标签\n",
    "    if(num == 0):\n",
    "        continue\n",
    "    pre_Num = 0\n",
    "    for j in range(len(preds[i])):\n",
    "        if(preds[i, j] == 1 and targets[i, j] == 1):\n",
    "            pre_Num += 1\n",
    "    precision = pre_Num/num\n",
    "    precisions.append(precision)"
   ]
  },
  {
   "cell_type": "code",
   "execution_count": 10,
   "metadata": {},
   "outputs": [
    {
     "name": "stdout",
     "output_type": "stream",
     "text": [
      "0.8054902081108545\n"
     ]
    }
   ],
   "source": [
    "print(np.average(precisions))"
   ]
  },
  {
   "cell_type": "code",
   "execution_count": 2,
   "metadata": {},
   "outputs": [],
   "source": [
    "embedding_model = \"t2vec_256\"\n",
    "radius = 300"
   ]
  },
  {
   "cell_type": "code",
   "execution_count": 3,
   "metadata": {},
   "outputs": [],
   "source": [
    "with open(\"./data/label_test\", \"rb\") as f:\n",
    "    targets = pickle.load(f)"
   ]
  },
  {
   "cell_type": "code",
   "execution_count": 4,
   "metadata": {},
   "outputs": [],
   "source": [
    "with open(\"./results/{}_training/pred_test_{}_{}\".format(name_id, radius, embedding_model), \"rb\") as f:\n",
    "    preds = pickle.load(f)"
   ]
  },
  {
   "cell_type": "code",
   "execution_count": 5,
   "metadata": {},
   "outputs": [],
   "source": [
    "recalls = []\n",
    "for i in range(len(targets)):\n",
    "    num = sum(targets[i]) # 一共有多少个标签\n",
    "    if(num == 0):\n",
    "        continue\n",
    "    rec_Num = 0\n",
    "    for j in range(len(targets[i])):\n",
    "        if(targets[i, j] == 1 and preds[i, j] == 1):\n",
    "            rec_Num += 1\n",
    "    recall = rec_Num/num\n",
    "    recalls.append(recall)\n"
   ]
  },
  {
   "cell_type": "code",
   "execution_count": 6,
   "metadata": {},
   "outputs": [
    {
     "name": "stdout",
     "output_type": "stream",
     "text": [
      "0.8483978572362372\n"
     ]
    }
   ],
   "source": [
    "print(np.average(recalls))"
   ]
  },
  {
   "cell_type": "code",
   "execution_count": 7,
   "metadata": {},
   "outputs": [],
   "source": [
    "precisions = []\n",
    "for i in range(len(preds)):\n",
    "    num = sum(preds[i]) + 0.0001 # 一共有多少个标签\n",
    "    if(num == 0):\n",
    "        continue\n",
    "    pre_Num = 0\n",
    "    for j in range(len(preds[i])):\n",
    "        if(preds[i, j] == 1 and targets[i, j] == 1):\n",
    "            pre_Num += 1\n",
    "    precision = pre_Num/num\n",
    "    precisions.append(precision)"
   ]
  },
  {
   "cell_type": "code",
   "execution_count": 8,
   "metadata": {},
   "outputs": [
    {
     "name": "stdout",
     "output_type": "stream",
     "text": [
      "0.8537679424100169\n"
     ]
    }
   ],
   "source": [
    "print(np.average(precisions))"
   ]
  },
  {
   "cell_type": "code",
   "execution_count": null,
   "metadata": {},
   "outputs": [],
   "source": []
  }
 ],
 "metadata": {
  "kernelspec": {
   "display_name": "pytorch",
   "language": "python",
   "name": "python3"
  },
  "language_info": {
   "codemirror_mode": {
    "name": "ipython",
    "version": 3
   },
   "file_extension": ".py",
   "mimetype": "text/x-python",
   "name": "python",
   "nbconvert_exporter": "python",
   "pygments_lexer": "ipython3",
   "version": "3.8.10"
  },
  "orig_nbformat": 4
 },
 "nbformat": 4,
 "nbformat_minor": 2
}
