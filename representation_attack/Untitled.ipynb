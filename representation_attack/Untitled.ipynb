{
 "cells": [
  {
   "cell_type": "code",
   "execution_count": 1,
   "id": "1434a785",
   "metadata": {},
   "outputs": [],
   "source": [
    "import pickle, random, math\n",
    "import numpy"
   ]
  },
  {
   "cell_type": "code",
   "execution_count": 7,
   "id": "401e294b",
   "metadata": {},
   "outputs": [],
   "source": [
    "indices = np.arange(10000)\n",
    "# test what the GPS cells are\n",
    "with open('cellGps', 'rb') as f:\n",
    "    Cellgps = pickle.load(f)    # shape: (18862,2), [latitude,longtitude](纬度，经度)\n",
    "cellgps = np.array([[Cellgps[i]] for i in range(18862)])    # shape: (18862,1,2)\n",
    "\n",
    "with open('testgps','rb') as f2:\n",
    "    Testgps = pickle.load(f2)    # shape:(10000,lenth_i,2)    10000条测试轨迹数据\n",
    "gpsp = np.array(Testgps, dtype = 'object')[indices]"
   ]
  },
  {
   "cell_type": "code",
   "execution_count": 16,
   "id": "5b51dc3e",
   "metadata": {},
   "outputs": [
    {
     "name": "stdout",
     "output_type": "stream",
     "text": [
      "(18862, 2)\n",
      "(18862, 1, 2)\n",
      "(10000,)\n"
     ]
    }
   ],
   "source": [
    "test_lenth = []\n",
    "print(np.shape(Cellgps))\n",
    "print(np.shape(cellgps))\n",
    "print(np.shape(Testgps))\n",
    "for i in range(10000):\n",
    "    test_lenth.append(np.shape(Testgps[i])[0])\n",
    "# print(test_lenth)"
   ]
  },
  {
   "cell_type": "code",
   "execution_count": 21,
   "id": "3ebac59a",
   "metadata": {},
   "outputs": [
    {
     "name": "stdout",
     "output_type": "stream",
     "text": [
      "(53, 2)\n",
      "(48, 2)\n"
     ]
    }
   ],
   "source": [
    "# print(Testgps[0])\n",
    "print(np.shape(Testgps[0]))\n",
    "print(np.shape(Testgps[1114]))"
   ]
  },
  {
   "cell_type": "code",
   "execution_count": 17,
   "id": "b62d84e8",
   "metadata": {},
   "outputs": [
    {
     "name": "stdout",
     "output_type": "stream",
     "text": [
      "(10000,)\n"
     ]
    }
   ],
   "source": [
    "print(np.shape(gpsp))"
   ]
  },
  {
   "cell_type": "code",
   "execution_count": 18,
   "id": "db729573",
   "metadata": {},
   "outputs": [
    {
     "name": "stdout",
     "output_type": "stream",
     "text": [
      "[[-8.574984 41.166054]\n",
      " [-8.574975 41.166072]\n",
      " [-8.574975 41.166081]\n",
      " [-8.575263 41.166414]\n",
      " [-8.576262 41.166414]\n",
      " [-8.576316 41.165892]\n",
      " [-8.576793 41.165316]\n",
      " [-8.577063 41.165451]\n",
      " [-8.577639 41.165766]\n",
      " [-8.578548 41.165046]\n",
      " [-8.579466 41.164245]\n",
      " [-8.581104 41.164416]\n",
      " [-8.582247 41.165181]\n",
      " [-8.583282 41.166225]\n",
      " [-8.585874 41.166783]\n",
      " [-8.58843  41.167935]\n",
      " [-8.591094 41.169528]\n",
      " [-8.593632 41.171247]\n",
      " [-8.596566 41.171886]\n",
      " [-8.599311 41.171418]\n",
      " [-8.602119 41.171625]\n",
      " [-8.604063 41.172615]\n",
      " [-8.604612 41.172165]\n",
      " [-8.604603 41.171427]\n",
      " [-8.605008 41.170914]\n",
      " [-8.60616  41.169474]\n",
      " [-8.606511 41.167872]\n",
      " [-8.606565 41.167296]\n",
      " [-8.606502 41.16726 ]\n",
      " [-8.606475 41.167152]\n",
      " [-8.606754 41.166504]\n",
      " [-8.608329 41.166612]\n",
      " [-8.610219 41.166801]\n",
      " [-8.610795 41.167044]\n",
      " [-8.610984 41.167512]\n",
      " [-8.611281 41.167296]\n",
      " [-8.611425 41.167152]\n",
      " [-8.611578 41.166558]\n",
      " [-8.612514 41.166504]\n",
      " [-8.614017 41.166972]\n",
      " [-8.615223 41.167494]\n",
      " [-8.615772 41.167728]\n",
      " [-8.616735 41.167593]\n",
      " [-8.617608 41.167494]\n",
      " [-8.618445 41.167629]\n",
      " [-8.619948 41.167656]\n",
      " [-8.620263 41.167224]\n",
      " [-8.620326 41.166315]\n",
      " [-8.620389 41.165676]\n",
      " [-8.620506 41.164758]\n",
      " [-8.620515 41.164524]\n",
      " [-8.619912 41.164506]\n",
      " [-8.619462 41.164371]]\n"
     ]
    }
   ],
   "source": [
    "print(gpsp[0])"
   ]
  },
  {
   "cell_type": "code",
   "execution_count": null,
   "id": "3b0eb1f6",
   "metadata": {},
   "outputs": [],
   "source": []
  }
 ],
 "metadata": {
  "kernelspec": {
   "display_name": "Python 3 (ipykernel)",
   "language": "python",
   "name": "python3"
  },
  "language_info": {
   "codemirror_mode": {
    "name": "ipython",
    "version": 3
   },
   "file_extension": ".py",
   "mimetype": "text/x-python",
   "name": "python",
   "nbconvert_exporter": "python",
   "pygments_lexer": "ipython3",
   "version": "3.8.10"
  },
  "toc": {
   "base_numbering": 1,
   "nav_menu": {},
   "number_sections": true,
   "sideBar": true,
   "skip_h1_title": false,
   "title_cell": "Table of Contents",
   "title_sidebar": "Contents",
   "toc_cell": false,
   "toc_position": {},
   "toc_section_display": true,
   "toc_window_display": false
  },
  "varInspector": {
   "cols": {
    "lenName": 16,
    "lenType": 16,
    "lenVar": 40
   },
   "kernels_config": {
    "python": {
     "delete_cmd_postfix": "",
     "delete_cmd_prefix": "del ",
     "library": "var_list.py",
     "varRefreshCmd": "print(var_dic_list())"
    },
    "r": {
     "delete_cmd_postfix": ") ",
     "delete_cmd_prefix": "rm(",
     "library": "var_list.r",
     "varRefreshCmd": "cat(var_dic_list()) "
    }
   },
   "types_to_exclude": [
    "module",
    "function",
    "builtin_function_or_method",
    "instance",
    "_Feature"
   ],
   "window_display": false
  }
 },
 "nbformat": 4,
 "nbformat_minor": 5
}
