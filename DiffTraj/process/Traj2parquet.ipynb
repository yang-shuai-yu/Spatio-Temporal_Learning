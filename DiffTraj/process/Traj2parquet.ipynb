{
 "cells": [
  {
   "cell_type": "markdown",
   "metadata": {},
   "source": [
    "This file is to convert the raw data to parquet format for geopandas loading.\n"
   ]
  },
  {
   "cell_type": "code",
   "execution_count": null,
   "metadata": {},
   "outputs": [],
   "source": [
    "import pandas as pd\n",
    "import pickle\n",
    "import geopandas as gpd"
   ]
  },
  {
   "cell_type": "code",
   "execution_count": null,
   "metadata": {},
   "outputs": [],
   "source": [
    "# Load the attributes\n",
    "attr_path = './attrs.pkl'\n",
    "with open(attr_path, 'rb') as f:\n",
    "    attrs = pickle.load(f)\n",
    "   \n",
    "# Load the trajectories\n",
    "trajs_path = './trajs.pkl'\n",
    "with open(trajs_path, 'rb') as f:\n",
    "    trajs = pickle.load(f)"
   ]
  },
  {
   "cell_type": "code",
   "execution_count": null,
   "metadata": {},
   "outputs": [],
   "source": [
    "from shapely.geometry import Point, LineString, shape\n",
    "# transform the trajectory to linestring\n",
    "def turn_to_linestring(x):\n",
    "    line_list = []\n",
    "    for i in range(len(x)):\n",
    "        point_tuple = (x[i][0], x[i][1])\n",
    "        line_list.append(point_tuple)\n",
    "    linestring = LineString(line_list)\n",
    "    return linestring\n",
    "\n",
    "\n",
    "for i in range(len(trajs)):\n",
    "    trajs[i] = turn_to_linestring(trajs[i])"
   ]
  },
  {
   "cell_type": "code",
   "execution_count": null,
   "metadata": {},
   "outputs": [],
   "source": [
    "# data = pd.DataFrame(attrs, columns=['Trip distance','Trip time','Depature time','Sample points'])\n",
    "\n",
    "# get the empty dataframe, because we don't have the attributes\n",
    "data = pd.DataFrame()\n",
    "data['geometry'] = trajs\n",
    "datagdf = gpd.GeoDataFrame(data)\n",
    "datagdf['geometry'] = datagdf['geometry']\n",
    "# save to parquet\n",
    "datagdf.to_parquet('data.parquet')"
   ]
  },
  {
   "cell_type": "code",
   "execution_count": 1,
   "metadata": {},
   "outputs": [],
   "source": [
    "# 之前是文件夹自带的，在此之后是我写的测试\n",
    "import pickle\n",
    "import numpy as np\n",
    "import os"
   ]
  },
  {
   "cell_type": "code",
   "execution_count": 2,
   "metadata": {},
   "outputs": [
    {
     "name": "stdout",
     "output_type": "stream",
     "text": [
      "/home/yangshuaiyu6791/GenTrajs/DiffTraj/process\n",
      "(10000, 8)\n"
     ]
    }
   ],
   "source": [
    "print(os.getcwd())    # '/home/yangshuaiyu6791/GenTrajs/DiffTraj-main/process'\n",
    "heads = np.load('../heads.npy', allow_pickle=True)\n",
    "print(heads.shape)    # (10000, 8)"
   ]
  },
  {
   "cell_type": "code",
   "execution_count": 5,
   "metadata": {},
   "outputs": [
    {
     "name": "stdout",
     "output_type": "stream",
     "text": [
      "[198.          -0.66266005  -0.37601981  -0.32916931  -0.64903862\n",
      "  -0.63087504   2.          29.        ]\n"
     ]
    }
   ],
   "source": [
    "print(heads[999])"
   ]
  },
  {
   "cell_type": "code",
   "execution_count": null,
   "metadata": {},
   "outputs": [],
   "source": []
  }
 ],
 "metadata": {
  "kernelspec": {
   "display_name": "base",
   "language": "python",
   "name": "python3"
  },
  "language_info": {
   "codemirror_mode": {
    "name": "ipython",
    "version": 3
   },
   "file_extension": ".py",
   "mimetype": "text/x-python",
   "name": "python",
   "nbconvert_exporter": "python",
   "pygments_lexer": "ipython3",
   "version": "3.8.10"
  },
  "orig_nbformat": 4
 },
 "nbformat": 4,
 "nbformat_minor": 2
}
