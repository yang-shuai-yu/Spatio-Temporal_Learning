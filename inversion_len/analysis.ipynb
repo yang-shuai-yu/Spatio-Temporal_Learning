{
 "cells": [
  {
   "cell_type": "code",
   "execution_count": 1,
   "metadata": {},
   "outputs": [],
   "source": [
    "import pickle\n",
    "import numpy as np"
   ]
  },
  {
   "cell_type": "code",
   "execution_count": 17,
   "metadata": {},
   "outputs": [],
   "source": [
    "embedding_model = \"neutraj_256\"\n",
    "name_id = \"20231212_4\""
   ]
  },
  {
   "cell_type": "code",
   "execution_count": 18,
   "metadata": {},
   "outputs": [],
   "source": [
    "with open(\"./data/gps/testgps\", \"rb\") as f:\n",
    "    targets = np.array([len(i) for i in pickle.load(f)])"
   ]
  },
  {
   "cell_type": "code",
   "execution_count": 19,
   "metadata": {},
   "outputs": [],
   "source": [
    "with open(\"./results/{}/pred_test_len_{}\".format(name_id, embedding_model), \"rb\") as f:\n",
    "    preds = np.array(pickle.load(f))\n",
    "preds = preds.squeeze(1)"
   ]
  },
  {
   "cell_type": "code",
   "execution_count": 20,
   "metadata": {},
   "outputs": [
    {
     "name": "stdout",
     "output_type": "stream",
     "text": [
      "[53 33 59 ... 48 51 34]\n",
      "[60. 27. 56. ...  0.  0.  0.]\n",
      "10000\n",
      "10000\n"
     ]
    }
   ],
   "source": [
    "print(targets)\n",
    "print(preds)\n",
    "print(len(targets))\n",
    "print(len(targets))"
   ]
  },
  {
   "cell_type": "code",
   "execution_count": 21,
   "metadata": {},
   "outputs": [
    {
     "name": "stdout",
     "output_type": "stream",
     "text": [
      "0.8728588090021323\n"
     ]
    }
   ],
   "source": [
    "''' 这组代码明显有问题啊，注释掉的是原来的代码，我新添加的测试代码如下'''\n",
    "# gap = (targets == preds)\n",
    "# wrong_num = gap.sum()\n",
    "\n",
    "# acc = (len(targets) - wrong_num) / len(targets) * 100\n",
    "# print(acc)\n",
    "acc = 1. - np.mean(np.abs(targets - preds) / targets)\n",
    "print(acc)\n",
    "with open(\"./results/{}/acc_test_len_{}.txt\".format(name_id, embedding_model), \"wb\") as f:\n",
    "    f.write(str(acc).encode())\n",
    "    f.write(\"\\n\".encode())\n",
    "    f.close()"
   ]
  },
  {
   "cell_type": "code",
   "execution_count": 10,
   "metadata": {},
   "outputs": [],
   "source": [
    "embedding_model = \"neutraj_256\""
   ]
  },
  {
   "cell_type": "code",
   "execution_count": 11,
   "metadata": {},
   "outputs": [],
   "source": [
    "with open(\"./data/gps/testgps\", \"rb\") as f:\n",
    "    targets = np.array([len(i) for i in pickle.load(f)])"
   ]
  },
  {
   "cell_type": "code",
   "execution_count": 12,
   "metadata": {},
   "outputs": [],
   "source": [
    "with open(\"./data/pred_test_len_{}\".format(embedding_model), \"rb\") as f:\n",
    "    preds = pickle.load(f).squeeze()"
   ]
  },
  {
   "cell_type": "code",
   "execution_count": 13,
   "metadata": {},
   "outputs": [
    {
     "name": "stdout",
     "output_type": "stream",
     "text": [
      "94.65\n"
     ]
    }
   ],
   "source": [
    "gap = (targets == preds)\n",
    "wrong_num = gap.sum()\n",
    "\n",
    "acc = (len(targets) - wrong_num) / len(targets) * 100\n",
    "print(acc)"
   ]
  },
  {
   "cell_type": "code",
   "execution_count": 14,
   "metadata": {},
   "outputs": [],
   "source": [
    "embedding_model = \"neutrajat_128\""
   ]
  },
  {
   "cell_type": "code",
   "execution_count": 15,
   "metadata": {},
   "outputs": [],
   "source": [
    "with open(\"./data/gps/testgps\", \"rb\") as f:\n",
    "    targets = np.array([len(i) for i in pickle.load(f)])"
   ]
  },
  {
   "cell_type": "code",
   "execution_count": 16,
   "metadata": {},
   "outputs": [],
   "source": [
    "with open(\"./data/pred_test_len_{}\".format(embedding_model), \"rb\") as f:\n",
    "    preds = pickle.load(f).squeeze()"
   ]
  },
  {
   "cell_type": "code",
   "execution_count": 17,
   "metadata": {},
   "outputs": [
    {
     "name": "stdout",
     "output_type": "stream",
     "text": [
      "97.88\n"
     ]
    }
   ],
   "source": [
    "gap = targets == preds\n",
    "wrong_num = gap.sum()\n",
    "\n",
    "acc = (len(targets) - wrong_num) / len(targets) * 100\n",
    "print(acc)"
   ]
  },
  {
   "cell_type": "code",
   "execution_count": 18,
   "metadata": {},
   "outputs": [],
   "source": [
    "embedding_model = \"neutrajat_256\""
   ]
  },
  {
   "cell_type": "code",
   "execution_count": 19,
   "metadata": {},
   "outputs": [],
   "source": [
    "with open(\"./data/gps/testgps\", \"rb\") as f:\n",
    "    targets = np.array([len(i) for i in pickle.load(f)])"
   ]
  },
  {
   "cell_type": "code",
   "execution_count": 20,
   "metadata": {},
   "outputs": [],
   "source": [
    "with open(\"./data/pred_test_len_{}\".format(embedding_model), \"rb\") as f:\n",
    "    preds = pickle.load(f).squeeze()"
   ]
  },
  {
   "cell_type": "code",
   "execution_count": 21,
   "metadata": {},
   "outputs": [
    {
     "name": "stdout",
     "output_type": "stream",
     "text": [
      "97.84\n"
     ]
    }
   ],
   "source": [
    "gap = targets == preds\n",
    "wrong_num = gap.sum()\n",
    "\n",
    "acc = (len(targets) - wrong_num) / len(targets) * 100\n",
    "print(acc)"
   ]
  },
  {
   "cell_type": "code",
   "execution_count": 22,
   "metadata": {},
   "outputs": [],
   "source": [
    "embedding_model = \"t2vec_256\""
   ]
  },
  {
   "cell_type": "code",
   "execution_count": 23,
   "metadata": {},
   "outputs": [],
   "source": [
    "with open(\"./data/gps/testgps\", \"rb\") as f:\n",
    "    targets = np.array([len(i) for i in pickle.load(f)])"
   ]
  },
  {
   "cell_type": "code",
   "execution_count": 24,
   "metadata": {},
   "outputs": [],
   "source": [
    "with open(\"./data/pred_test_len_{}\".format(embedding_model), \"rb\") as f:\n",
    "    preds = pickle.load(f).squeeze()"
   ]
  },
  {
   "cell_type": "code",
   "execution_count": 25,
   "metadata": {},
   "outputs": [
    {
     "name": "stdout",
     "output_type": "stream",
     "text": [
      "94.5\n"
     ]
    }
   ],
   "source": [
    "gap = targets == preds\n",
    "wrong_num = gap.sum()\n",
    "\n",
    "acc = (len(targets) - wrong_num) / len(targets) * 100\n",
    "print(acc)"
   ]
  },
  {
   "cell_type": "code",
   "execution_count": 2,
   "metadata": {},
   "outputs": [],
   "source": [
    "embedding_model = \"t2vec_128\""
   ]
  },
  {
   "cell_type": "code",
   "execution_count": 3,
   "metadata": {},
   "outputs": [],
   "source": [
    "with open(\"./data/gps/testgps\", \"rb\") as f:\n",
    "    targets = np.array([len(i) for i in pickle.load(f)])"
   ]
  },
  {
   "cell_type": "code",
   "execution_count": 4,
   "metadata": {},
   "outputs": [],
   "source": [
    "with open(\"./data/pred_test_len_{}\".format(embedding_model), \"rb\") as f:\n",
    "    preds = pickle.load(f).squeeze()"
   ]
  },
  {
   "cell_type": "code",
   "execution_count": 5,
   "metadata": {},
   "outputs": [
    {
     "name": "stdout",
     "output_type": "stream",
     "text": [
      "94.56\n"
     ]
    }
   ],
   "source": [
    "gap = targets == preds\n",
    "wrong_num = gap.sum()\n",
    "\n",
    "acc = (len(targets) - wrong_num) / len(targets) * 100\n",
    "print(acc)"
   ]
  },
  {
   "cell_type": "code",
   "execution_count": null,
   "metadata": {},
   "outputs": [],
   "source": []
  }
 ],
 "metadata": {
  "kernelspec": {
   "display_name": "pytorch",
   "language": "python",
   "name": "python3"
  },
  "language_info": {
   "codemirror_mode": {
    "name": "ipython",
    "version": 3
   },
   "file_extension": ".py",
   "mimetype": "text/x-python",
   "name": "python",
   "nbconvert_exporter": "python",
   "pygments_lexer": "ipython3",
   "version": "3.8.10"
  },
  "orig_nbformat": 4
 },
 "nbformat": 4,
 "nbformat_minor": 2
}
