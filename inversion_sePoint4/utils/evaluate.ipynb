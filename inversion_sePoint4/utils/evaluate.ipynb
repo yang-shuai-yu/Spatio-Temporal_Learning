{
 "cells": [
  {
   "cell_type": "code",
   "execution_count": 1,
   "metadata": {},
   "outputs": [],
   "source": [
    "#  这是写好了的，勿动\n",
    "\n",
    "import os, pickle, random\n",
    "import numpy as np\n",
    "import torch"
   ]
  },
  {
   "cell_type": "code",
   "execution_count": 2,
   "metadata": {},
   "outputs": [
    {
     "name": "stdout",
     "output_type": "stream",
     "text": [
      "/home/yangshuaiyu6791/RepresentAttack/inversion_sePoint4\n"
     ]
    }
   ],
   "source": [
    "# change the current directory to the father directory of this file\n",
    "os.chdir(os.path.dirname(os.path.dirname(os.path.realpath('evaluate.ipynb'))))\n",
    "print(os.getcwd())"
   ]
  },
  {
   "cell_type": "code",
   "execution_count": 3,
   "metadata": {},
   "outputs": [],
   "source": [
    "from modules.models import sPoints_net, ePoints_net, se_net\n",
    "from DataLoader.dataloader import TrajDataset\n",
    "emb_dim = 256\n",
    "emb_model = 'start'\n",
    "\n",
    "# load data\n",
    "with open(\"./data/{}/{}/train/train_data\".format(emb_model, emb_dim), \"rb\") as f:\n",
    "    tmp_embs = pickle.load(f)\n",
    "    train_embs = tmp_embs['embs']\n",
    "with open(\"./data/{}/{}/train/train_norm\".format(emb_model, emb_dim), \"rb\") as f:\n",
    "    train_norms = pickle.load(f)\n",
    "\n",
    "with open(\"./data/{}/{}/val/val_data\".format(emb_model, emb_dim), \"rb\") as f:\n",
    "    tmp_embs = pickle.load(f)\n",
    "    val_embs = tmp_embs['embs']\n",
    "with open(\"./data/{}/{}/val/val_norm\".format(emb_model, emb_dim), \"rb\") as f:\n",
    "    val_norms = pickle.load(f)\n",
    "\n",
    "with open(\"./data/{}/{}/test/test_data\".format(emb_model, emb_dim), \"rb\") as f:\n",
    "    tmp_embs = pickle.load(f)\n",
    "    test_embs = tmp_embs['embs']\n",
    "with open(\"./data/{}/{}/test/test_norm\".format(emb_model, emb_dim), \"rb\") as f:\n",
    "    test_norms = pickle.load(f)\n",
    "    \n",
    "with open(\"./rdata/gps_seqs/traingps\", \"rb\") as f:\n",
    "    train_gps = pickle.load(f)\n",
    "    train_gps = train_gps[0:60000]\n",
    "with open(\"./rdata/gps_seqs/valgps\", \"rb\") as f:\n",
    "    val_gps = pickle.load(f)\n",
    "with open(\"./rdata/gps_seqs/testgps\", \"rb\") as f:\n",
    "    test_gps = pickle.load(f)"
   ]
  },
  {
   "cell_type": "code",
   "execution_count": 4,
   "metadata": {},
   "outputs": [
    {
     "data": {
      "text/plain": [
       "<All keys matched successfully>"
      ]
     },
     "execution_count": 4,
     "metadata": {},
     "output_type": "execute_result"
    }
   ],
   "source": [
    "# load pth\n",
    "# delta = 0.002, emb_model = neutraj, embedding dim = emb_dim, hidden dim = 512\n",
    "\n",
    "model = se_net(emb_dim, 512)\n",
    "params = torch.load('./models/d0_001_train_sePoints_{}_{}_{}.pth'.format(emb_model, emb_dim, 512))\n",
    "model.load_state_dict(params)"
   ]
  },
  {
   "cell_type": "code",
   "execution_count": 5,
   "metadata": {},
   "outputs": [],
   "source": [
    "# calculate the distance between two points with longitude and latitude\n",
    "def distance(lon_lat_list):\n",
    "    lon1, lat1, lon2, lat2 = lon_lat_list\n",
    "    R = 6371.004    # km\n",
    "    pi = 3.1415926\n",
    "    dlat = (lat2 - lat1) * pi / 180\n",
    "    dlon = (lon2 - lon1) * pi / 180\n",
    "    a = np.sin(dlat / 2) * np.sin(dlat / 2) + np.cos(lat1 * pi / 180) * np.cos(lat2 * pi / 180) * np.sin(dlon / 2) * np.sin(dlon / 2)\n",
    "    c = 2 * np.arctan2(np.sqrt(a), np.sqrt(1 - a))\n",
    "    d = R * c\n",
    "    return d\n",
    "\n",
    "# transform the cell x,y to lon, lat\n",
    "porto_lat_range = [40.953673,41.307945]\n",
    "porto_lon_range = [-8.735152,-8.156309]\n",
    "\n",
    "def pred2gps(pred):\n",
    "    lon = pred[0] * (porto_lon_range[1] - porto_lon_range[0]) + porto_lon_range[0]\n",
    "    lat = pred[1] * (porto_lat_range[1] - porto_lat_range[0]) + porto_lat_range[0]\n",
    "    return [lon, lat]"
   ]
  },
  {
   "cell_type": "code",
   "execution_count": 7,
   "metadata": {},
   "outputs": [
    {
     "name": "stdout",
     "output_type": "stream",
     "text": [
      "(10000, 2, 4)\n",
      "dist:  (10000, 2)\n",
      "mean_start_dis:  0.5496174912742913\n",
      "mean_end_dis:  0.6045162932923478\n",
      "mean_dis:  0.5770668922833195\n"
     ]
    }
   ],
   "source": [
    "test_embs_ = np.array(test_embs)    # shape: (test_size, dim)\n",
    "test_norms_ = np.array([[tnorm[0], tnorm[-1]] for tnorm in test_norms])    # shape: (test_size, 2, 2)\n",
    "test_gps_ = np.array([[gps[0], gps[-1]] for gps in test_gps])    # shape: (test_size, 2,2)\n",
    "\n",
    "model.cpu(); model.eval()\n",
    "test_preds = model(torch.from_numpy(test_embs_).float())\n",
    "test_preds = test_preds.detach().numpy().reshape(-1, 2, 2)    # shape: (test_size, 4) -- s_lon, s_lat, e_lon, e_lat \n",
    "\n",
    "# get the first and last point of every trajectory in test_norms\n",
    "mean = np.array([(porto_lon_range[1] + porto_lon_range[0])/2, (porto_lat_range[1] + porto_lat_range[0])/2])\n",
    "std = np.array([(porto_lon_range[1] - porto_lon_range[0])/2, (porto_lat_range[1] - porto_lat_range[0])/2])\n",
    "\n",
    "test_predgps_ = test_preds * std + mean\n",
    "test_gps_ = test_gps_ \n",
    "\n",
    "test_dist = np.concatenate((test_predgps_, test_gps_), axis=2)    # shape: (test_size, 2, 4) -- pred_lon, pred_lat, gps_lon, gps_lat\n",
    "print(test_dist.shape)\n",
    "\n",
    "# calculate dist\n",
    "dist = np.apply_along_axis(distance, 2, test_dist)\n",
    "print('dist: ', dist.shape)\n",
    "mean_dis = dist.mean(axis=0)\n",
    "print('mean_start_dis: ', mean_dis[0])\n",
    "print('mean_end_dis: ', mean_dis[1])\n",
    "print('mean_dis: ', mean_dis.mean())\n",
    "\n",
    "with open('./results/{}_{}_{}_dists'.format(emb_model, emb_dim, 512), 'w') as f:\n",
    "    f.write('mean_start_dis: {}\\n'.format(mean_dis[0]))\n",
    "    f.write('mean_end_dis: {}\\n'.format(mean_dis[1]))\n",
    "    f.write('mean_dis: {}\\n'.format(mean_dis.mean()))\n",
    "    f.close()\n"
   ]
  },
  {
   "cell_type": "code",
   "execution_count": 8,
   "metadata": {},
   "outputs": [
    {
     "data": {
      "text/plain": [
       "' not used orz'"
      ]
     },
     "execution_count": 8,
     "metadata": {},
     "output_type": "execute_result"
    }
   ],
   "source": [
    "''' not used orz'''\n",
    "# # choose 40 points by random\n",
    "# choice_list = np.random.choice(len(val_embs), 10000, replace=False)\n",
    "# print([val_gps[i][0] for i in choice_list])    # lon, lat\n",
    "# choice_testnorms = [[test_norms[i][0][0], val_norms[i][0][1], test_norms[i][-1][0], test_norms[i][-1][1]] for i in choice_list]    # x, y\n",
    "# choice_testembs = [test_embs[i] for i in choice_list]\n",
    "# choice_testgps = [[test_gps[i][0], test_gps[i][-1]] for i in choice_list]    # [[lon, lat], [lon, lat]]\n",
    "# # get the prediction\n",
    "# model.cpu()\n",
    "# model.eval()\n",
    "# choice_predgrids = []\n",
    "# for i in range(len(choice_testembs)):    \n",
    "#     choice_testembs[i] = torch.Tensor(choice_testembs[i]).unsqueeze(0)\n",
    "#     choice_predgrids.append(model(choice_testembs[i]).cpu().detach().numpy()[0])\n",
    "\n",
    "# # for i in range(len(choice_predgrids)):\n",
    "# #     print(choice_predgrids[i], choice_valgrids[i], '\\n')\n",
    "\n",
    "# # transform the prediction to lon, lat\n",
    "# choice_predgps = []\n",
    "# for i in range(len(choice_predgrids)):\n",
    "#     # choice_predgps.append([choice_predgrids[i][0:2], choice_predgrids[i][2:]])\n",
    "#     choice_predgps.append([pred2gps(choice_predgrids[i][0:2]), pred2gps(choice_predgrids[i][2:])])\n",
    "# print(choice_predgps)"
   ]
  },
  {
   "cell_type": "code",
   "execution_count": 9,
   "metadata": {},
   "outputs": [],
   "source": [
    "# # calculate the distance between prediction and ground truth\n",
    "# start_dis = []; end_dis = []\n",
    "# for i in range(len(choice_predgps)):\n",
    "#     start_dis.append(distance(choice_predgps[i][0][1], choice_predgps[i][0][0], choice_testgps[i][0][1], choice_testgps[i][0][0]))\n",
    "#     end_dis.append(distance(choice_predgps[i][1][1], choice_predgps[i][1][0], choice_testgps[i][1][1], choice_testgps[i][1][0]))\n",
    "# print(start_dis)\n",
    "# print(end_dis)\n",
    "# print('average start distance: {} km'.format(np.mean(start_dis)))\n",
    "# print('average end distance: {} km'.format(np.mean(end_dis)))\n",
    "\n",
    "# with open(\"./results/{}_{}_{}_dists\".format(emb_model, emb_dim, 512), \"w\") as f:\n",
    "#     f.write(\"choose 40 points by random\\n\")\n",
    "#     f.write(\"choice_list: {}\\n\".format(choice_list))\n",
    "#     f.write('average start distance: {} km'.format(np.mean(start_dis)))\n",
    "#     f.write('average end distance: {} km'.format(np.mean(end_dis)))\n",
    "#     f.write('\\n')\n",
    "#     f.write('start distance: {}'.format(start_dis))\n",
    "#     f.write('\\n')\n",
    "#     f.write('end distance: {}'.format(end_dis))"
   ]
  },
  {
   "cell_type": "code",
   "execution_count": 23,
   "metadata": {},
   "outputs": [
    {
     "name": "stdout",
     "output_type": "stream",
     "text": [
      "[array([-8.61746113, 41.1454299 ]), array([-8.61714754, 41.14485466]), array([-8.61689005, 41.1448387 ]), array([-8.61602615, 41.1452544 ]), array([-8.6155424, 41.1454861]), array([-8.61483706, 41.14574917]), array([-8.61387475, 41.14599843]), array([-8.6135854, 41.1459177]), array([-8.61289667, 41.1459318 ]), array([-8.61219756, 41.14572197]), array([-8.61185873, 41.14508723]), array([-8.61122182, 41.14490574]), array([-8.61091747, 41.14514363]), array([-8.6108766 , 41.14552235]), array([-8.61077517, 41.1459019 ]), array([-8.6106166 , 41.14604373]), array([-8.61044055, 41.14616795]), array([-8.60936059, 41.14678558]), array([-8.60975784, 41.14761624]), array([-8.61111343, 41.14786573]), array([-8.61130633, 41.14711918]), array([-8.61100303, 41.14752277]), array([-8.6107309 , 41.14849798]), array([-8.61029584, 41.14994261]), array([-8.61010887, 41.15075823]), array([-8.60962241, 41.15142717]), array([-8.60988427, 41.15193947]), array([-8.6100328, 41.152706 ]), array([-8.6099982 , 41.15328473]), array([-8.6099666 , 41.15356025]), array([-8.60994808, 41.15380792]), array([-8.6098474 , 41.15408135]), array([-8.6094337 , 41.15458291]), array([-8.6092419, 41.155498 ]), array([-8.60924785, 41.15630535]), array([-8.60920695, 41.15713467]), array([-8.6087799, 41.1581671]), array([-8.6081505, 41.159549 ]), array([-8.60740812, 41.1612151 ]), array([-8.6063441, 41.1640356]), array([-8.60630412, 41.16488717]), array([-8.60599657, 41.1654124 ]), array([-8.60447655, 41.1654321 ]), array([-8.60297762, 41.16546152]), array([-8.60234825, 41.1657311 ]), array([-8.60176227, 41.16622835]), array([-8.60171605, 41.1667435 ]), array([-8.6016149 , 41.16695755]), array([-8.6014001, 41.1671488]), array([-8.59944487, 41.16709177]), array([-8.59786567, 41.16696593]), array([-8.5971223 , 41.16696662]), array([-8.5966721 , 41.16748225]), array([-8.5966721 , 41.16748225])]\n",
      "[[-8.61480234 41.14784844]\n",
      " [-8.59702233 41.16841263]]\n",
      "[[-8.61746113 41.1454299 ]\n",
      " [-8.5966721  41.16748225]]\n"
     ]
    },
    {
     "data": {
      "text/html": [
       "<div style=\"width:100%;\"><div style=\"position:relative;width:100%;height:0;padding-bottom:60%;\"><span style=\"color:#565656\">Make this Notebook Trusted to load map: File -> Trust Notebook</span><iframe src=\"about:blank\" style=\"position:absolute;width:100%;height:100%;left:0;top:0;border:none !important;\" data-html=%3C%21DOCTYPE%20html%3E%0A%3Chead%3E%20%20%20%20%0A%20%20%20%20%3Cmeta%20http-equiv%3D%22content-type%22%20content%3D%22text/html%3B%20charset%3DUTF-8%22%20/%3E%0A%20%20%20%20%0A%20%20%20%20%20%20%20%20%3Cscript%3E%0A%20%20%20%20%20%20%20%20%20%20%20%20L_NO_TOUCH%20%3D%20false%3B%0A%20%20%20%20%20%20%20%20%20%20%20%20L_DISABLE_3D%20%3D%20false%3B%0A%20%20%20%20%20%20%20%20%3C/script%3E%0A%20%20%20%20%0A%20%20%20%20%3Cstyle%3Ehtml%2C%20body%20%7Bwidth%3A%20100%25%3Bheight%3A%20100%25%3Bmargin%3A%200%3Bpadding%3A%200%3B%7D%3C/style%3E%0A%20%20%20%20%3Cstyle%3E%23map%20%7Bposition%3Aabsolute%3Btop%3A0%3Bbottom%3A0%3Bright%3A0%3Bleft%3A0%3B%7D%3C/style%3E%0A%20%20%20%20%3Cscript%20src%3D%22https%3A//cdn.jsdelivr.net/npm/leaflet%401.6.0/dist/leaflet.js%22%3E%3C/script%3E%0A%20%20%20%20%3Cscript%20src%3D%22https%3A//code.jquery.com/jquery-1.12.4.min.js%22%3E%3C/script%3E%0A%20%20%20%20%3Cscript%20src%3D%22https%3A//maxcdn.bootstrapcdn.com/bootstrap/3.2.0/js/bootstrap.min.js%22%3E%3C/script%3E%0A%20%20%20%20%3Cscript%20src%3D%22https%3A//cdnjs.cloudflare.com/ajax/libs/Leaflet.awesome-markers/2.0.2/leaflet.awesome-markers.js%22%3E%3C/script%3E%0A%20%20%20%20%3Clink%20rel%3D%22stylesheet%22%20href%3D%22https%3A//cdn.jsdelivr.net/npm/leaflet%401.6.0/dist/leaflet.css%22/%3E%0A%20%20%20%20%3Clink%20rel%3D%22stylesheet%22%20href%3D%22https%3A//maxcdn.bootstrapcdn.com/bootstrap/3.2.0/css/bootstrap.min.css%22/%3E%0A%20%20%20%20%3Clink%20rel%3D%22stylesheet%22%20href%3D%22https%3A//maxcdn.bootstrapcdn.com/bootstrap/3.2.0/css/bootstrap-theme.min.css%22/%3E%0A%20%20%20%20%3Clink%20rel%3D%22stylesheet%22%20href%3D%22https%3A//maxcdn.bootstrapcdn.com/font-awesome/4.6.3/css/font-awesome.min.css%22/%3E%0A%20%20%20%20%3Clink%20rel%3D%22stylesheet%22%20href%3D%22https%3A//cdnjs.cloudflare.com/ajax/libs/Leaflet.awesome-markers/2.0.2/leaflet.awesome-markers.css%22/%3E%0A%20%20%20%20%3Clink%20rel%3D%22stylesheet%22%20href%3D%22https%3A//cdn.jsdelivr.net/gh/python-visualization/folium/folium/templates/leaflet.awesome.rotate.min.css%22/%3E%0A%20%20%20%20%0A%20%20%20%20%20%20%20%20%20%20%20%20%3Cmeta%20name%3D%22viewport%22%20content%3D%22width%3Ddevice-width%2C%0A%20%20%20%20%20%20%20%20%20%20%20%20%20%20%20%20initial-scale%3D1.0%2C%20maximum-scale%3D1.0%2C%20user-scalable%3Dno%22%20/%3E%0A%20%20%20%20%20%20%20%20%20%20%20%20%3Cstyle%3E%0A%20%20%20%20%20%20%20%20%20%20%20%20%20%20%20%20%23map_7747a499e9c84caf8037dde0ad0d6391%20%7B%0A%20%20%20%20%20%20%20%20%20%20%20%20%20%20%20%20%20%20%20%20position%3A%20relative%3B%0A%20%20%20%20%20%20%20%20%20%20%20%20%20%20%20%20%20%20%20%20width%3A%20100.0%25%3B%0A%20%20%20%20%20%20%20%20%20%20%20%20%20%20%20%20%20%20%20%20height%3A%20100.0%25%3B%0A%20%20%20%20%20%20%20%20%20%20%20%20%20%20%20%20%20%20%20%20left%3A%200.0%25%3B%0A%20%20%20%20%20%20%20%20%20%20%20%20%20%20%20%20%20%20%20%20top%3A%200.0%25%3B%0A%20%20%20%20%20%20%20%20%20%20%20%20%20%20%20%20%7D%0A%20%20%20%20%20%20%20%20%20%20%20%20%3C/style%3E%0A%20%20%20%20%20%20%20%20%0A%3C/head%3E%0A%3Cbody%3E%20%20%20%20%0A%20%20%20%20%0A%20%20%20%20%20%20%20%20%20%20%20%20%3Cdiv%20class%3D%22folium-map%22%20id%3D%22map_7747a499e9c84caf8037dde0ad0d6391%22%20%3E%3C/div%3E%0A%20%20%20%20%20%20%20%20%0A%3C/body%3E%0A%3Cscript%3E%20%20%20%20%0A%20%20%20%20%0A%20%20%20%20%20%20%20%20%20%20%20%20var%20map_7747a499e9c84caf8037dde0ad0d6391%20%3D%20L.map%28%0A%20%20%20%20%20%20%20%20%20%20%20%20%20%20%20%20%22map_7747a499e9c84caf8037dde0ad0d6391%22%2C%0A%20%20%20%20%20%20%20%20%20%20%20%20%20%20%20%20%7B%0A%20%20%20%20%20%20%20%20%20%20%20%20%20%20%20%20%20%20%20%20center%3A%20%5B40.953673%2C%20-8.735152%5D%2C%0A%20%20%20%20%20%20%20%20%20%20%20%20%20%20%20%20%20%20%20%20crs%3A%20L.CRS.EPSG3857%2C%0A%20%20%20%20%20%20%20%20%20%20%20%20%20%20%20%20%20%20%20%20zoom%3A%2012%2C%0A%20%20%20%20%20%20%20%20%20%20%20%20%20%20%20%20%20%20%20%20zoomControl%3A%20true%2C%0A%20%20%20%20%20%20%20%20%20%20%20%20%20%20%20%20%20%20%20%20preferCanvas%3A%20false%2C%0A%20%20%20%20%20%20%20%20%20%20%20%20%20%20%20%20%7D%0A%20%20%20%20%20%20%20%20%20%20%20%20%29%3B%0A%0A%20%20%20%20%20%20%20%20%20%20%20%20%0A%0A%20%20%20%20%20%20%20%20%0A%20%20%20%20%0A%20%20%20%20%20%20%20%20%20%20%20%20var%20tile_layer_0d1a3b00f1ba4d2290fc031313b77905%20%3D%20L.tileLayer%28%0A%20%20%20%20%20%20%20%20%20%20%20%20%20%20%20%20%22https%3A//%7Bs%7D.tile.openstreetmap.org/%7Bz%7D/%7Bx%7D/%7By%7D.png%22%2C%0A%20%20%20%20%20%20%20%20%20%20%20%20%20%20%20%20%7B%22attribution%22%3A%20%22Data%20by%20%5Cu0026copy%3B%20%5Cu003ca%20href%3D%5C%22http%3A//openstreetmap.org%5C%22%5Cu003eOpenStreetMap%5Cu003c/a%5Cu003e%2C%20under%20%5Cu003ca%20href%3D%5C%22http%3A//www.openstreetmap.org/copyright%5C%22%5Cu003eODbL%5Cu003c/a%5Cu003e.%22%2C%20%22detectRetina%22%3A%20false%2C%20%22maxNativeZoom%22%3A%2018%2C%20%22maxZoom%22%3A%2018%2C%20%22minZoom%22%3A%200%2C%20%22noWrap%22%3A%20false%2C%20%22opacity%22%3A%201%2C%20%22subdomains%22%3A%20%22abc%22%2C%20%22tms%22%3A%20false%7D%0A%20%20%20%20%20%20%20%20%20%20%20%20%29.addTo%28map_7747a499e9c84caf8037dde0ad0d6391%29%3B%0A%20%20%20%20%20%20%20%20%0A%20%20%20%20%0A%20%20%20%20%20%20%20%20%20%20%20%20var%20circle_marker_22a8f60318c44a6385d20c98c7abcc71%20%3D%20L.circleMarker%28%0A%20%20%20%20%20%20%20%20%20%20%20%20%20%20%20%20%5B41.1454299%2C%20-8.617461133333334%5D%2C%0A%20%20%20%20%20%20%20%20%20%20%20%20%20%20%20%20%7B%22bubblingMouseEvents%22%3A%20true%2C%20%22color%22%3A%20%22red%22%2C%20%22dashArray%22%3A%20null%2C%20%22dashOffset%22%3A%20null%2C%20%22fill%22%3A%20false%2C%20%22fillColor%22%3A%20%22red%22%2C%20%22fillOpacity%22%3A%200.2%2C%20%22fillRule%22%3A%20%22evenodd%22%2C%20%22lineCap%22%3A%20%22round%22%2C%20%22lineJoin%22%3A%20%22round%22%2C%20%22opacity%22%3A%201.0%2C%20%22radius%22%3A%205%2C%20%22stroke%22%3A%20true%2C%20%22weight%22%3A%203%7D%0A%20%20%20%20%20%20%20%20%20%20%20%20%29.addTo%28map_7747a499e9c84caf8037dde0ad0d6391%29%3B%0A%20%20%20%20%20%20%20%20%0A%20%20%20%20%0A%20%20%20%20%20%20%20%20%20%20%20%20var%20circle_marker_f5d14acc102a4df69e26b7c3d2e7ba9d%20%3D%20L.circleMarker%28%0A%20%20%20%20%20%20%20%20%20%20%20%20%20%20%20%20%5B41.16748225%2C%20-8.5966721%5D%2C%0A%20%20%20%20%20%20%20%20%20%20%20%20%20%20%20%20%7B%22bubblingMouseEvents%22%3A%20true%2C%20%22color%22%3A%20%22red%22%2C%20%22dashArray%22%3A%20null%2C%20%22dashOffset%22%3A%20null%2C%20%22fill%22%3A%20false%2C%20%22fillColor%22%3A%20%22red%22%2C%20%22fillOpacity%22%3A%200.2%2C%20%22fillRule%22%3A%20%22evenodd%22%2C%20%22lineCap%22%3A%20%22round%22%2C%20%22lineJoin%22%3A%20%22round%22%2C%20%22opacity%22%3A%201.0%2C%20%22radius%22%3A%205%2C%20%22stroke%22%3A%20true%2C%20%22weight%22%3A%203%7D%0A%20%20%20%20%20%20%20%20%20%20%20%20%29.addTo%28map_7747a499e9c84caf8037dde0ad0d6391%29%3B%0A%20%20%20%20%20%20%20%20%0A%20%20%20%20%0A%20%20%20%20%20%20%20%20%20%20%20%20var%20circle_marker_dd6ae9f358904a96a213cd491d9f8e5e%20%3D%20L.circleMarker%28%0A%20%20%20%20%20%20%20%20%20%20%20%20%20%20%20%20%5B41.147848443971874%2C%20-8.614802336009085%5D%2C%0A%20%20%20%20%20%20%20%20%20%20%20%20%20%20%20%20%7B%22bubblingMouseEvents%22%3A%20true%2C%20%22color%22%3A%20%22blue%22%2C%20%22dashArray%22%3A%20null%2C%20%22dashOffset%22%3A%20null%2C%20%22fill%22%3A%20false%2C%20%22fillColor%22%3A%20%22blue%22%2C%20%22fillOpacity%22%3A%200.2%2C%20%22fillRule%22%3A%20%22evenodd%22%2C%20%22lineCap%22%3A%20%22round%22%2C%20%22lineJoin%22%3A%20%22round%22%2C%20%22opacity%22%3A%201.0%2C%20%22radius%22%3A%205%2C%20%22stroke%22%3A%20true%2C%20%22weight%22%3A%203%7D%0A%20%20%20%20%20%20%20%20%20%20%20%20%29.addTo%28map_7747a499e9c84caf8037dde0ad0d6391%29%3B%0A%20%20%20%20%20%20%20%20%0A%20%20%20%20%0A%20%20%20%20%20%20%20%20%20%20%20%20var%20circle_marker_974823d459034a1a84c2d712c005b722%20%3D%20L.circleMarker%28%0A%20%20%20%20%20%20%20%20%20%20%20%20%20%20%20%20%5B41.168412629351614%2C%20-8.597022334507674%5D%2C%0A%20%20%20%20%20%20%20%20%20%20%20%20%20%20%20%20%7B%22bubblingMouseEvents%22%3A%20true%2C%20%22color%22%3A%20%22blue%22%2C%20%22dashArray%22%3A%20null%2C%20%22dashOffset%22%3A%20null%2C%20%22fill%22%3A%20false%2C%20%22fillColor%22%3A%20%22blue%22%2C%20%22fillOpacity%22%3A%200.2%2C%20%22fillRule%22%3A%20%22evenodd%22%2C%20%22lineCap%22%3A%20%22round%22%2C%20%22lineJoin%22%3A%20%22round%22%2C%20%22opacity%22%3A%201.0%2C%20%22radius%22%3A%205%2C%20%22stroke%22%3A%20true%2C%20%22weight%22%3A%203%7D%0A%20%20%20%20%20%20%20%20%20%20%20%20%29.addTo%28map_7747a499e9c84caf8037dde0ad0d6391%29%3B%0A%20%20%20%20%20%20%20%20%0A%20%20%20%20%0A%20%20%20%20%20%20%20%20%20%20%20%20var%20poly_line_ed16d45c0035478886da16e37fe770b2%20%3D%20L.polyline%28%0A%20%20%20%20%20%20%20%20%20%20%20%20%20%20%20%20%5B%5B41.1454299%2C%20-8.617461133333334%5D%2C%20%5B41.16748225%2C%20-8.5966721%5D%5D%2C%0A%20%20%20%20%20%20%20%20%20%20%20%20%20%20%20%20%7B%22bubblingMouseEvents%22%3A%20true%2C%20%22color%22%3A%20%22blue%22%2C%20%22dashArray%22%3A%20null%2C%20%22dashOffset%22%3A%20null%2C%20%22fill%22%3A%20false%2C%20%22fillColor%22%3A%20%22blue%22%2C%20%22fillOpacity%22%3A%200.2%2C%20%22fillRule%22%3A%20%22evenodd%22%2C%20%22lineCap%22%3A%20%22round%22%2C%20%22lineJoin%22%3A%20%22round%22%2C%20%22noClip%22%3A%20false%2C%20%22opacity%22%3A%200.6%2C%20%22smoothFactor%22%3A%201.0%2C%20%22stroke%22%3A%20true%2C%20%22weight%22%3A%2015%7D%0A%20%20%20%20%20%20%20%20%20%20%20%20%29.addTo%28map_7747a499e9c84caf8037dde0ad0d6391%29%3B%0A%20%20%20%20%20%20%20%20%0A%3C/script%3E onload=\"this.contentDocument.open();this.contentDocument.write(    decodeURIComponent(this.getAttribute('data-html')));this.contentDocument.close();\" allowfullscreen webkitallowfullscreen mozallowfullscreen></iframe></div></div>"
      ],
      "text/plain": [
       "<folium.folium.Map at 0x7f5a85b8b490>"
      ]
     },
     "execution_count": 23,
     "metadata": {},
     "output_type": "execute_result"
    }
   ],
   "source": [
    "# if you want, plot the prediction and ground truth on the map\n",
    "import folium\n",
    "my_map = folium.Map(location=[40.953673,-8.735152], zoom_start=12)\n",
    "choice = np.random.choice(len(test_gps), 1, replace=False)\n",
    "\n",
    "print(test_gps[choice[0]])\n",
    "print(test_predgps_[choice[0]])\n",
    "print(test_gps_[choice[0]])\n",
    "\n",
    "# plot the chosen trajectory and the prediction on the map and need to exchange the lon and lat\n",
    "for i in choice:\n",
    "    folium.CircleMarker(location=[test_gps_[i][0][1], test_gps_[i][0][0]], radius=5, color='red').add_to(my_map)\n",
    "    folium.CircleMarker(location=[test_gps_[i][1][1], test_gps_[i][1][0]], radius=5, color='red').add_to(my_map)\n",
    "    folium.CircleMarker(location=[test_predgps_[i][0][1], test_predgps_[i][0][0]], radius=5, color='blue').add_to(my_map)\n",
    "    folium.CircleMarker(location=[test_predgps_[i][1][1], test_predgps_[i][1][0]], radius=5, color='blue').add_to(my_map)\n",
    "\n",
    "    folium.PolyLine(locations=[[test_gps_[i][0][1], test_gps_[i][0][0]], [test_gps_[i][1][1], test_gps_[i][1][0]]], color='blue',\n",
    "                    weight=15, opacity=0.6).add_to(my_map)\n",
    "my_map "
   ]
  },
  {
   "cell_type": "code",
   "execution_count": null,
   "metadata": {},
   "outputs": [],
   "source": []
  }
 ],
 "metadata": {
  "kernelspec": {
   "display_name": "pytorch",
   "language": "python",
   "name": "python3"
  },
  "language_info": {
   "codemirror_mode": {
    "name": "ipython",
    "version": 3
   },
   "file_extension": ".py",
   "mimetype": "text/x-python",
   "name": "python",
   "nbconvert_exporter": "python",
   "pygments_lexer": "ipython3",
   "version": "3.8.10"
  }
 },
 "nbformat": 4,
 "nbformat_minor": 2
}
