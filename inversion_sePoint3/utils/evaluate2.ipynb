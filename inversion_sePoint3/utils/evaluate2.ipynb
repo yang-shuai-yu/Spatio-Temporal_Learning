{
 "cells": [
  {
   "cell_type": "code",
   "execution_count": 1,
   "metadata": {},
   "outputs": [],
   "source": [
    "import os, pickle, random\n",
    "import numpy as np\n",
    "import torch"
   ]
  },
  {
   "cell_type": "code",
   "execution_count": 2,
   "metadata": {},
   "outputs": [
    {
     "name": "stdout",
     "output_type": "stream",
     "text": [
      "/home/yangshuaiyu6791/RepresentAttack/inversion_sePoint3\n"
     ]
    }
   ],
   "source": [
    "# change the current directory to the father directory of this file\n",
    "os.chdir(os.path.dirname(os.path.dirname(os.path.realpath('evaluate2.ipynb'))))\n",
    "print(os.getcwd())"
   ]
  },
  {
   "cell_type": "code",
   "execution_count": 3,
   "metadata": {},
   "outputs": [],
   "source": [
    "from modules.models import sPoints_net, ePoints_net, se_net\n",
    "from DataLoader.dataloader import TrajDataset\n",
    "emb_dim = 128\n",
    "emb_model = 'neutraj'\n",
    "\n",
    "# load data\n",
    "with open(\"./data/{}/{}/train/train_data\".format(emb_model, emb_dim), \"rb\") as f:\n",
    "    tmp_embs = pickle.load(f)\n",
    "    train_embs = tmp_embs['embs']\n",
    "with open(\"./data/{}/{}/train/train_norm\".format(emb_model, emb_dim), \"rb\") as f:\n",
    "    train_norms = pickle.load(f)\n",
    "\n",
    "with open(\"./data/{}/{}/val/val_data\".format(emb_model, emb_dim), \"rb\") as f:\n",
    "    tmp_embs = pickle.load(f)\n",
    "    val_embs = tmp_embs['embs']\n",
    "with open(\"./data/{}/{}/val/val_norm\".format(emb_model, emb_dim), \"rb\") as f:\n",
    "    val_norms = pickle.load(f)\n",
    "\n",
    "with open(\"./data/{}/{}/test/test_data\".format(emb_model, emb_dim), \"rb\") as f:\n",
    "    tmp_embs = pickle.load(f)\n",
    "    test_embs = tmp_embs['embs']\n",
    "with open(\"./data/{}/{}/test/test_norm\".format(emb_model, emb_dim), \"rb\") as f:\n",
    "    test_norms = pickle.load(f)\n",
    "    \n",
    "with open(\"./rdata/gps_seqs/traingps\", \"rb\") as f:\n",
    "    train_gps = pickle.load(f)\n",
    "    train_gps = train_gps[0:60000]\n",
    "with open(\"./rdata/gps_seqs/valgps\", \"rb\") as f:\n",
    "    val_gps = pickle.load(f)\n",
    "with open(\"./rdata/gps_seqs/testgps\", \"rb\") as f:\n",
    "    test_gps = pickle.load(f)"
   ]
  },
  {
   "cell_type": "code",
   "execution_count": 4,
   "metadata": {},
   "outputs": [
    {
     "data": {
      "text/plain": [
       "<All keys matched successfully>"
      ]
     },
     "execution_count": 4,
     "metadata": {},
     "output_type": "execute_result"
    }
   ],
   "source": [
    "# load pth\n",
    "# delta = 0.001, emb_model = neutraj, embedding dim = emb_dim, hidden dim = 512\n",
    "\n",
    "model = se_net(emb_dim, 512)\n",
    "params = torch.load('./models/d0_001_train_sePoints_{}_{}_{}.pth'.format(emb_model, emb_dim, 512))\n",
    "model.load_state_dict(params)"
   ]
  },
  {
   "cell_type": "code",
   "execution_count": 5,
   "metadata": {},
   "outputs": [],
   "source": [
    "# calculate the distance between two points with longitude and latitude\n",
    "def distance(lat1, lon1, lat2, lon2):\n",
    "    R = 6371.004    # km\n",
    "    pi = 3.1415926\n",
    "    dlat = (lat2 - lat1) * pi / 180\n",
    "    dlon = (lon2 - lon1) * pi / 180\n",
    "    a = np.sin(dlat / 2) * np.sin(dlat / 2) + np.cos(lat1 * pi / 180) * np.cos(lat2 * pi / 180) * np.sin(dlon / 2) * np.sin(dlon / 2)\n",
    "    c = 2 * np.arctan2(np.sqrt(a), np.sqrt(1 - a))\n",
    "    d = R * c\n",
    "    return d\n",
    "\n",
    "# transform the cell x,y to lon, lat\n",
    "porto_lat_range = [40.953673,41.307945]\n",
    "porto_lon_range = [-8.735152,-8.156309]\n",
    "\n",
    "def pred2gps(pred):\n",
    "    lon = pred[0] * (porto_lon_range[1] - porto_lon_range[0]) + porto_lon_range[0]\n",
    "    lat = pred[1] * (porto_lat_range[1] - porto_lat_range[0]) + porto_lat_range[0]\n",
    "    return [lon, lat]"
   ]
  },
  {
   "cell_type": "code",
   "execution_count": 6,
   "metadata": {},
   "outputs": [
    {
     "name": "stdout",
     "output_type": "stream",
     "text": [
      "(10000, 2, 2)\n",
      "(10000, 2, 2)\n"
     ]
    }
   ],
   "source": [
    "test_embs_ = np.array(test_embs)    # shape: (test_size, dim)\n",
    "test_norms_ = np.array([[tnorm[0], tnorm[-1]] for tnorm in test_norms])    # shape: (test_size, 2, 2)\n",
    "test_gps_ = np.array([[gps[0], gps[-1]] for gps in test_gps])    # shape: (test_size, 2,2)\n",
    "\n",
    "model.cpu(); model.eval()\n",
    "test_preds = model(torch.from_numpy(test_embs_).float())\n",
    "test_preds = test_preds.detach().numpy().reshape(-1, 2, 2)    # shape: (test_size, 4) -- s_lon, s_lat, e_lon, e_lat \n",
    "\n",
    "# get the first and last point of every trajectory in test_norms\n",
    "mean = np.array([(porto_lon_range[1] + porto_lon_range[0])/2, (porto_lat_range[1] + porto_lat_range[0])/2])\n",
    "std = np.array([(porto_lon_range[1] - porto_lon_range[0])/2, (porto_lat_range[1] - porto_lat_range[0])/2])\n",
    "\n",
    "test_predgps_ = test_preds * std + mean\n",
    "test_gps_ = test_gps_ \n",
    "\n",
    "# get the gps array\n",
    "print(test_predgps_.shape)  # pred, shape: (test_size, 2, 2)\n",
    "print(test_gps_.shape)    # label, shape: (test_size, 2, 2)\n"
   ]
  },
  {
   "cell_type": "code",
   "execution_count": 30,
   "metadata": {},
   "outputs": [
    {
     "data": {
      "text/html": [
       "<div style=\"width:100%;\"><div style=\"position:relative;width:100%;height:0;padding-bottom:60%;\"><span style=\"color:#565656\">Make this Notebook Trusted to load map: File -> Trust Notebook</span><iframe src=\"about:blank\" style=\"position:absolute;width:100%;height:100%;left:0;top:0;border:none !important;\" data-html=%3C%21DOCTYPE%20html%3E%0A%3Chead%3E%20%20%20%20%0A%20%20%20%20%3Cmeta%20http-equiv%3D%22content-type%22%20content%3D%22text/html%3B%20charset%3DUTF-8%22%20/%3E%0A%20%20%20%20%0A%20%20%20%20%20%20%20%20%3Cscript%3E%0A%20%20%20%20%20%20%20%20%20%20%20%20L_NO_TOUCH%20%3D%20false%3B%0A%20%20%20%20%20%20%20%20%20%20%20%20L_DISABLE_3D%20%3D%20false%3B%0A%20%20%20%20%20%20%20%20%3C/script%3E%0A%20%20%20%20%0A%20%20%20%20%3Cstyle%3Ehtml%2C%20body%20%7Bwidth%3A%20100%25%3Bheight%3A%20100%25%3Bmargin%3A%200%3Bpadding%3A%200%3B%7D%3C/style%3E%0A%20%20%20%20%3Cstyle%3E%23map%20%7Bposition%3Aabsolute%3Btop%3A0%3Bbottom%3A0%3Bright%3A0%3Bleft%3A0%3B%7D%3C/style%3E%0A%20%20%20%20%3Cscript%20src%3D%22https%3A//cdn.jsdelivr.net/npm/leaflet%401.6.0/dist/leaflet.js%22%3E%3C/script%3E%0A%20%20%20%20%3Cscript%20src%3D%22https%3A//code.jquery.com/jquery-1.12.4.min.js%22%3E%3C/script%3E%0A%20%20%20%20%3Cscript%20src%3D%22https%3A//maxcdn.bootstrapcdn.com/bootstrap/3.2.0/js/bootstrap.min.js%22%3E%3C/script%3E%0A%20%20%20%20%3Cscript%20src%3D%22https%3A//cdnjs.cloudflare.com/ajax/libs/Leaflet.awesome-markers/2.0.2/leaflet.awesome-markers.js%22%3E%3C/script%3E%0A%20%20%20%20%3Clink%20rel%3D%22stylesheet%22%20href%3D%22https%3A//cdn.jsdelivr.net/npm/leaflet%401.6.0/dist/leaflet.css%22/%3E%0A%20%20%20%20%3Clink%20rel%3D%22stylesheet%22%20href%3D%22https%3A//maxcdn.bootstrapcdn.com/bootstrap/3.2.0/css/bootstrap.min.css%22/%3E%0A%20%20%20%20%3Clink%20rel%3D%22stylesheet%22%20href%3D%22https%3A//maxcdn.bootstrapcdn.com/bootstrap/3.2.0/css/bootstrap-theme.min.css%22/%3E%0A%20%20%20%20%3Clink%20rel%3D%22stylesheet%22%20href%3D%22https%3A//maxcdn.bootstrapcdn.com/font-awesome/4.6.3/css/font-awesome.min.css%22/%3E%0A%20%20%20%20%3Clink%20rel%3D%22stylesheet%22%20href%3D%22https%3A//cdnjs.cloudflare.com/ajax/libs/Leaflet.awesome-markers/2.0.2/leaflet.awesome-markers.css%22/%3E%0A%20%20%20%20%3Clink%20rel%3D%22stylesheet%22%20href%3D%22https%3A//cdn.jsdelivr.net/gh/python-visualization/folium/folium/templates/leaflet.awesome.rotate.min.css%22/%3E%0A%20%20%20%20%0A%20%20%20%20%20%20%20%20%20%20%20%20%3Cmeta%20name%3D%22viewport%22%20content%3D%22width%3Ddevice-width%2C%0A%20%20%20%20%20%20%20%20%20%20%20%20%20%20%20%20initial-scale%3D1.0%2C%20maximum-scale%3D1.0%2C%20user-scalable%3Dno%22%20/%3E%0A%20%20%20%20%20%20%20%20%20%20%20%20%3Cstyle%3E%0A%20%20%20%20%20%20%20%20%20%20%20%20%20%20%20%20%23map_e0617bcfc89d46378cfa8906c9280f92%20%7B%0A%20%20%20%20%20%20%20%20%20%20%20%20%20%20%20%20%20%20%20%20position%3A%20relative%3B%0A%20%20%20%20%20%20%20%20%20%20%20%20%20%20%20%20%20%20%20%20width%3A%20100.0%25%3B%0A%20%20%20%20%20%20%20%20%20%20%20%20%20%20%20%20%20%20%20%20height%3A%20100.0%25%3B%0A%20%20%20%20%20%20%20%20%20%20%20%20%20%20%20%20%20%20%20%20left%3A%200.0%25%3B%0A%20%20%20%20%20%20%20%20%20%20%20%20%20%20%20%20%20%20%20%20top%3A%200.0%25%3B%0A%20%20%20%20%20%20%20%20%20%20%20%20%20%20%20%20%7D%0A%20%20%20%20%20%20%20%20%20%20%20%20%3C/style%3E%0A%20%20%20%20%20%20%20%20%0A%3C/head%3E%0A%3Cbody%3E%20%20%20%20%0A%20%20%20%20%0A%20%20%20%20%20%20%20%20%20%20%20%20%3Cdiv%20class%3D%22folium-map%22%20id%3D%22map_e0617bcfc89d46378cfa8906c9280f92%22%20%3E%3C/div%3E%0A%20%20%20%20%20%20%20%20%0A%3C/body%3E%0A%3Cscript%3E%20%20%20%20%0A%20%20%20%20%0A%20%20%20%20%20%20%20%20%20%20%20%20var%20map_e0617bcfc89d46378cfa8906c9280f92%20%3D%20L.map%28%0A%20%20%20%20%20%20%20%20%20%20%20%20%20%20%20%20%22map_e0617bcfc89d46378cfa8906c9280f92%22%2C%0A%20%20%20%20%20%20%20%20%20%20%20%20%20%20%20%20%7B%0A%20%20%20%20%20%20%20%20%20%20%20%20%20%20%20%20%20%20%20%20center%3A%20%5B40.953673%2C%20-8.735152%5D%2C%0A%20%20%20%20%20%20%20%20%20%20%20%20%20%20%20%20%20%20%20%20crs%3A%20L.CRS.EPSG3857%2C%0A%20%20%20%20%20%20%20%20%20%20%20%20%20%20%20%20%20%20%20%20zoom%3A%2012%2C%0A%20%20%20%20%20%20%20%20%20%20%20%20%20%20%20%20%20%20%20%20zoomControl%3A%20true%2C%0A%20%20%20%20%20%20%20%20%20%20%20%20%20%20%20%20%20%20%20%20preferCanvas%3A%20false%2C%0A%20%20%20%20%20%20%20%20%20%20%20%20%20%20%20%20%7D%0A%20%20%20%20%20%20%20%20%20%20%20%20%29%3B%0A%0A%20%20%20%20%20%20%20%20%20%20%20%20%0A%0A%20%20%20%20%20%20%20%20%0A%20%20%20%20%0A%20%20%20%20%20%20%20%20%20%20%20%20var%20tile_layer_6a37a57e737843b1aa6a681033aef58e%20%3D%20L.tileLayer%28%0A%20%20%20%20%20%20%20%20%20%20%20%20%20%20%20%20%22https%3A//%7Bs%7D.tile.openstreetmap.org/%7Bz%7D/%7Bx%7D/%7By%7D.png%22%2C%0A%20%20%20%20%20%20%20%20%20%20%20%20%20%20%20%20%7B%22attribution%22%3A%20%22Data%20by%20%5Cu0026copy%3B%20%5Cu003ca%20href%3D%5C%22http%3A//openstreetmap.org%5C%22%5Cu003eOpenStreetMap%5Cu003c/a%5Cu003e%2C%20under%20%5Cu003ca%20href%3D%5C%22http%3A//www.openstreetmap.org/copyright%5C%22%5Cu003eODbL%5Cu003c/a%5Cu003e.%22%2C%20%22detectRetina%22%3A%20false%2C%20%22maxNativeZoom%22%3A%2018%2C%20%22maxZoom%22%3A%2018%2C%20%22minZoom%22%3A%200%2C%20%22noWrap%22%3A%20false%2C%20%22opacity%22%3A%201%2C%20%22subdomains%22%3A%20%22abc%22%2C%20%22tms%22%3A%20false%7D%0A%20%20%20%20%20%20%20%20%20%20%20%20%29.addTo%28map_e0617bcfc89d46378cfa8906c9280f92%29%3B%0A%20%20%20%20%20%20%20%20%0A%20%20%20%20%0A%20%20%20%20%20%20%20%20%20%20%20%20var%20circle_marker_722f166c61724f7c94354403500ee16a%20%3D%20L.circleMarker%28%0A%20%20%20%20%20%20%20%20%20%20%20%20%20%20%20%20%5B41.16572514752245%2C%20-8.583942814389884%5D%2C%0A%20%20%20%20%20%20%20%20%20%20%20%20%20%20%20%20%7B%22bubblingMouseEvents%22%3A%20true%2C%20%22color%22%3A%20%22blue%22%2C%20%22dashArray%22%3A%20null%2C%20%22dashOffset%22%3A%20null%2C%20%22fill%22%3A%20true%2C%20%22fillColor%22%3A%20%22blue%22%2C%20%22fillOpacity%22%3A%200.2%2C%20%22fillRule%22%3A%20%22evenodd%22%2C%20%22lineCap%22%3A%20%22round%22%2C%20%22lineJoin%22%3A%20%22round%22%2C%20%22opacity%22%3A%201.0%2C%20%22radius%22%3A%205%2C%20%22stroke%22%3A%20true%2C%20%22weight%22%3A%203%7D%0A%20%20%20%20%20%20%20%20%20%20%20%20%29.addTo%28map_e0617bcfc89d46378cfa8906c9280f92%29%3B%0A%20%20%20%20%20%20%20%20%0A%20%20%20%20%0A%20%20%20%20%20%20%20%20%20%20%20%20var%20circle_marker_8c19d7f06b90401fa165f0db18e719c2%20%3D%20L.circleMarker%28%0A%20%20%20%20%20%20%20%20%20%20%20%20%20%20%20%20%5B41.13296408028817%2C%20-8.600394050710051%5D%2C%0A%20%20%20%20%20%20%20%20%20%20%20%20%20%20%20%20%7B%22bubblingMouseEvents%22%3A%20true%2C%20%22color%22%3A%20%22blue%22%2C%20%22dashArray%22%3A%20null%2C%20%22dashOffset%22%3A%20null%2C%20%22fill%22%3A%20true%2C%20%22fillColor%22%3A%20%22blue%22%2C%20%22fillOpacity%22%3A%200.2%2C%20%22fillRule%22%3A%20%22evenodd%22%2C%20%22lineCap%22%3A%20%22round%22%2C%20%22lineJoin%22%3A%20%22round%22%2C%20%22opacity%22%3A%201.0%2C%20%22radius%22%3A%205%2C%20%22stroke%22%3A%20true%2C%20%22weight%22%3A%203%7D%0A%20%20%20%20%20%20%20%20%20%20%20%20%29.addTo%28map_e0617bcfc89d46378cfa8906c9280f92%29%3B%0A%20%20%20%20%20%20%20%20%0A%20%20%20%20%0A%20%20%20%20%20%20%20%20%20%20%20%20var%20circle_marker_feacf472e623475c83f078d87250facc%20%3D%20L.circleMarker%28%0A%20%20%20%20%20%20%20%20%20%20%20%20%20%20%20%20%5B41.165019%2C%20-8.583399%5D%2C%0A%20%20%20%20%20%20%20%20%20%20%20%20%20%20%20%20%7B%22bubblingMouseEvents%22%3A%20true%2C%20%22color%22%3A%20%22red%22%2C%20%22dashArray%22%3A%20null%2C%20%22dashOffset%22%3A%20null%2C%20%22fill%22%3A%20true%2C%20%22fillColor%22%3A%20%22red%22%2C%20%22fillOpacity%22%3A%200.2%2C%20%22fillRule%22%3A%20%22evenodd%22%2C%20%22lineCap%22%3A%20%22round%22%2C%20%22lineJoin%22%3A%20%22round%22%2C%20%22opacity%22%3A%201.0%2C%20%22radius%22%3A%205%2C%20%22stroke%22%3A%20true%2C%20%22weight%22%3A%203%7D%0A%20%20%20%20%20%20%20%20%20%20%20%20%29.addTo%28map_e0617bcfc89d46378cfa8906c9280f92%29%3B%0A%20%20%20%20%20%20%20%20%0A%20%20%20%20%0A%20%20%20%20%20%20%20%20%20%20%20%20var%20circle_marker_31e309565ecb41b1a9644c0964984d4e%20%3D%20L.circleMarker%28%0A%20%20%20%20%20%20%20%20%20%20%20%20%20%20%20%20%5B41.12919%2C%20-8.603604%5D%2C%0A%20%20%20%20%20%20%20%20%20%20%20%20%20%20%20%20%7B%22bubblingMouseEvents%22%3A%20true%2C%20%22color%22%3A%20%22red%22%2C%20%22dashArray%22%3A%20null%2C%20%22dashOffset%22%3A%20null%2C%20%22fill%22%3A%20true%2C%20%22fillColor%22%3A%20%22red%22%2C%20%22fillOpacity%22%3A%200.2%2C%20%22fillRule%22%3A%20%22evenodd%22%2C%20%22lineCap%22%3A%20%22round%22%2C%20%22lineJoin%22%3A%20%22round%22%2C%20%22opacity%22%3A%201.0%2C%20%22radius%22%3A%205%2C%20%22stroke%22%3A%20true%2C%20%22weight%22%3A%203%7D%0A%20%20%20%20%20%20%20%20%20%20%20%20%29.addTo%28map_e0617bcfc89d46378cfa8906c9280f92%29%3B%0A%20%20%20%20%20%20%20%20%0A%20%20%20%20%0A%20%20%20%20%20%20%20%20%20%20%20%20var%20poly_line_3ee71172674b4ba5a5c832402b97af62%20%3D%20L.polyline%28%0A%20%20%20%20%20%20%20%20%20%20%20%20%20%20%20%20%5B%5B41.165019%2C%20-8.583399%5D%2C%20%5B41.165082%2C%20-8.583219%5D%2C%20%5B41.165676%2C%20-8.581752%5D%2C%20%5B41.165838%2C%20-8.580609%5D%2C%20%5B41.165361%2C%20-8.579403%5D%2C%20%5B41.165883%2C%20-8.578539%5D%2C%20%5B41.165604%2C%20-8.577846%5D%2C%20%5B41.164974%2C%20-8.578674%5D%2C%20%5B41.164092%2C%20-8.580024%5D%2C%20%5B41.164578%2C%20-8.581914%5D%2C%20%5B41.1633%2C%20-8.581761%5D%2C%20%5B41.161374%2C%20-8.581545%5D%2C%20%5B41.158854%2C%20-8.58258%5D%2C%20%5B41.155812%2C%20-8.583156%5D%2C%20%5B41.152572%2C%20-8.580987%5D%2C%20%5B41.149188%2C%20-8.579061%5D%2C%20%5B41.145975%2C%20-8.581158%5D%2C%20%5B41.142564%2C%20-8.581068%5D%2C%20%5B41.138892%2C%20-8.580852%5D%2C%20%5B41.135544%2C%20-8.582103%5D%2C%20%5B41.133375%2C%20-8.586063%5D%2C%20%5B41.131143%2C%20-8.590491%5D%2C%20%5B41.128398%2C%20-8.593767%5D%2C%20%5B41.127561%2C%20-8.598087%5D%2C%20%5B41.127408%2C%20-8.601813%5D%2C%20%5B41.127318%2C%20-8.603991%5D%2C%20%5B41.128236%2C%20-8.603406%5D%2C%20%5B41.128542%2C%20-8.603091%5D%2C%20%5B41.12919%2C%20-8.603604%5D%5D%2C%0A%20%20%20%20%20%20%20%20%20%20%20%20%20%20%20%20%7B%22bubblingMouseEvents%22%3A%20true%2C%20%22color%22%3A%20%22red%22%2C%20%22dashArray%22%3A%20null%2C%20%22dashOffset%22%3A%20null%2C%20%22fill%22%3A%20false%2C%20%22fillColor%22%3A%20%22red%22%2C%20%22fillOpacity%22%3A%200.2%2C%20%22fillRule%22%3A%20%22evenodd%22%2C%20%22lineCap%22%3A%20%22round%22%2C%20%22lineJoin%22%3A%20%22round%22%2C%20%22noClip%22%3A%20false%2C%20%22opacity%22%3A%200.6%2C%20%22smoothFactor%22%3A%201.0%2C%20%22stroke%22%3A%20true%2C%20%22weight%22%3A%205%7D%0A%20%20%20%20%20%20%20%20%20%20%20%20%29.addTo%28map_e0617bcfc89d46378cfa8906c9280f92%29%3B%0A%20%20%20%20%20%20%20%20%0A%3C/script%3E onload=\"this.contentDocument.open();this.contentDocument.write(    decodeURIComponent(this.getAttribute('data-html')));this.contentDocument.close();\" allowfullscreen webkitallowfullscreen mozallowfullscreen></iframe></div></div>"
      ],
      "text/plain": [
       "<folium.folium.Map at 0x7fed7ae66c70>"
      ]
     },
     "execution_count": 30,
     "metadata": {},
     "output_type": "execute_result"
    }
   ],
   "source": [
    "# choose a random index to plot\n",
    "import folium\n",
    "my_map = folium.Map(location=[40.953673,-8.735152], zoom_start=12)\n",
    "choice = np.random.choice(len(test_predgps_))\n",
    "\n",
    "\n",
    "folium.CircleMarker(location=[test_predgps_[choice][0][1], test_predgps_[choice][0][0]], radius=5, color='blue', fill=True).add_to(my_map)\n",
    "folium.CircleMarker(location=[test_predgps_[choice][1][1], test_predgps_[choice][1][0]], radius=5, color='blue', fill=True).add_to(my_map)\n",
    "folium.CircleMarker(location=[test_gps_[choice][0][1], test_gps_[choice][0][0]], radius=5, color='red', fill=True).add_to(my_map)\n",
    "folium.CircleMarker(location=[test_gps_[choice][1][1], test_gps_[choice][1][0]], radius=5, color='red', fill=True).add_to(my_map)\n",
    "\n",
    "# plot the real trajectory\n",
    "gps_val = test_gps[choice][:, [1, 0]]\n",
    "folium.PolyLine(gps_val, color=\"red\", weight=5, opacity=0.6).add_to(my_map)\n",
    "\n",
    "my_map   # show the map\n",
    "# print([val_gps[i][0] for i in choice_list])    # lon, lat\n",
    "# choice_valgrids = [[val_grids[i][0][0], val_grids[i][0][1], val_grids[i][-1][0], val_grids[i][-1][1]] for i in choice_list]    # x, y\n",
    "# choice_valembs = [val_embs[i] for i in choice_list]\n",
    "# choice_valgps = [[val_gps[i][0], val_gps[i][-1]] for i in choice_list]    # [[lon, lat], [lon, lat]]\n",
    "# # get the prediction\n",
    "# model.cpu()\n",
    "# model.eval()\n",
    "# choice_predgrids = []\n",
    "# for i in range(len(choice_valembs)):    \n",
    "#     choice_valembs[i] = torch.Tensor(choice_valembs[i]).unsqueeze(0)\n",
    "#     choice_predgrids.append(model(choice_valembs[i]).cpu().detach().numpy()[0])\n",
    "\n",
    "# # for i in range(len(choice_predgrids)):\n",
    "# #     print(choice_predgrids[i], choice_valgrids[i], '\\n')\n",
    "\n",
    "# # transform the prediction to lon, lat\n",
    "# choice_predgps = []\n",
    "# for i in range(len(choice_predgrids)):\n",
    "#     choice_predgps.append([grid2gps(choice_predgrids[i][0:2]), grid2gps(choice_predgrids[i][2:])])\n",
    "# print(choice_predgps)"
   ]
  },
  {
   "cell_type": "code",
   "execution_count": null,
   "metadata": {},
   "outputs": [],
   "source": []
  },
  {
   "cell_type": "code",
   "execution_count": 8,
   "metadata": {},
   "outputs": [
    {
     "data": {
      "text/plain": [
       "' not used orz'"
      ]
     },
     "execution_count": 8,
     "metadata": {},
     "output_type": "execute_result"
    }
   ],
   "source": [
    "''' not used orz'''\n",
    "\n",
    "# # calculate the distance between prediction and ground truth\n",
    "# start_dis = []; end_dis = []\n",
    "# for i in range(len(choice_predgps)):\n",
    "#     start_dis.append(distance(choice_predgps[i][0][1], choice_predgps[i][0][0], choice_valgps[i][0][1], choice_valgps[i][0][0]))\n",
    "#     end_dis.append(distance(choice_predgps[i][1][1], choice_predgps[i][1][0], choice_valgps[i][1][1], choice_valgps[i][1][0]))\n",
    "# print(start_dis)\n",
    "# print(end_dis)\n",
    "# print('average start distance: {} km'.format(np.mean(start_dis)))\n",
    "# print('average end distance: {} km'.format(np.mean(end_dis)))\n",
    "\n",
    "# with open(\"./results/{}_{}_{}_{}_dists\".format(delta, emb_model, emb_dim, 512), \"w\") as f:\n",
    "#     f.write(\"choose 40 points by random\\n\")\n",
    "#     f.write(\"choice_list: {}\\n\".format(choice_list))\n",
    "#     f.write('average start distance: {} km'.format(np.mean(start_dis)))\n",
    "#     f.write('average end distance: {} km'.format(np.mean(end_dis)))\n",
    "#     f.write('\\n')\n",
    "#     f.write('start distance: {}'.format(start_dis))\n",
    "#     f.write('\\n')\n",
    "#     f.write('end distance: {}'.format(end_dis))"
   ]
  },
  {
   "cell_type": "code",
   "execution_count": 9,
   "metadata": {},
   "outputs": [],
   "source": [
    "# # if you want, plot the prediction and ground truth on the map\n",
    "# import folium\n",
    "# my_map = folium.Map(location=[40.953673,-8.735152], zoom_start=12)\n",
    "# choice = np.random.choice(len(choice_predgps))\n",
    "# print(choice_predgps[choice], choice_valgps[choice])\n",
    "\n",
    "# folium.CircleMarker(location=[choice_predgps[choice][0][1], choice_predgps[choice][0][0]], radius=5, color='blue', fill=True).add_to(my_map)\n",
    "# folium.CircleMarker(location=[choice_predgps[choice][1][1], choice_predgps[choice][1][0]], radius=5, color='blue', fill=True).add_to(my_map)\n",
    "# folium.CircleMarker(location=[choice_valgps[choice][0][1], choice_valgps[choice][0][0]], radius=5, color='red', fill=True).add_to(my_map)\n",
    "# folium.CircleMarker(location=[choice_valgps[choice][1][1], choice_valgps[choice][1][0]], radius=5, color='red', fill=True).add_to(my_map)\n",
    "\n",
    "# # plot the real trajectory\n",
    "# gps_val = val_gps[choice_list[choice]][:, [1, 0]]\n",
    "# folium.PolyLine(gps_val, color=\"red\", weight=5, opacity=0.6).add_to(my_map)\n",
    "\n",
    "# my_map   # show the map"
   ]
  },
  {
   "cell_type": "code",
   "execution_count": null,
   "metadata": {},
   "outputs": [],
   "source": []
  }
 ],
 "metadata": {
  "kernelspec": {
   "display_name": "pytorch",
   "language": "python",
   "name": "python3"
  },
  "language_info": {
   "codemirror_mode": {
    "name": "ipython",
    "version": 3
   },
   "file_extension": ".py",
   "mimetype": "text/x-python",
   "name": "python",
   "nbconvert_exporter": "python",
   "pygments_lexer": "ipython3",
   "version": "3.8.10"
  }
 },
 "nbformat": 4,
 "nbformat_minor": 2
}
