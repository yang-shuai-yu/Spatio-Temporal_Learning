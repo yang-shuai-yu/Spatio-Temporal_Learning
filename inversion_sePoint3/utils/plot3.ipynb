{
 "cells": [
  {
   "cell_type": "code",
   "execution_count": 1,
   "metadata": {},
   "outputs": [],
   "source": [
    "import folium\n",
    "import math\n",
    "import random\n",
    "import h5py\n",
    "import folium \n",
    "import random\n",
    "import numpy as np\n",
    "import matplotlib.pyplot as plt\n",
    "import pickle\n",
    "import torch\n",
    "import numpy as np\n",
    "import os, sys, pickle"
   ]
  },
  {
   "cell_type": "code",
   "execution_count": 2,
   "metadata": {},
   "outputs": [],
   "source": [
    "# load model and data\n",
    "# get the prediction result and the ground truth and the real trajectory\n",
    "# plot all of them on a map"
   ]
  },
  {
   "cell_type": "code",
   "execution_count": 3,
   "metadata": {},
   "outputs": [
    {
     "ename": "FileNotFoundError",
     "evalue": "[Errno 2] No such file or directory: './models/d0_002_train_sePoints_neutraj_128_512.pth'",
     "output_type": "error",
     "traceback": [
      "\u001b[0;31m---------------------------------------------------------------------------\u001b[0m",
      "\u001b[0;31mFileNotFoundError\u001b[0m                         Traceback (most recent call last)",
      "\u001b[0;32m/tmp/ipykernel_1497209/1774641482.py\u001b[0m in \u001b[0;36m<module>\u001b[0;34m\u001b[0m\n\u001b[1;32m      8\u001b[0m \u001b[0;31m# delta = 0.002, embedding name = neutraj, embedding dim = 128, hidden dim = 512\u001b[0m\u001b[0;34m\u001b[0m\u001b[0;34m\u001b[0m\u001b[0;34m\u001b[0m\u001b[0m\n\u001b[1;32m      9\u001b[0m \u001b[0mmodel\u001b[0m \u001b[0;34m=\u001b[0m \u001b[0mse_net\u001b[0m\u001b[0;34m(\u001b[0m\u001b[0;36m128\u001b[0m\u001b[0;34m,\u001b[0m\u001b[0;36m512\u001b[0m\u001b[0;34m)\u001b[0m\u001b[0;34m\u001b[0m\u001b[0;34m\u001b[0m\u001b[0m\n\u001b[0;32m---> 10\u001b[0;31m \u001b[0mparams\u001b[0m \u001b[0;34m=\u001b[0m \u001b[0mtorch\u001b[0m\u001b[0;34m.\u001b[0m\u001b[0mload\u001b[0m\u001b[0;34m(\u001b[0m\u001b[0;34m'./models/d0_002_train_sePoints_{}_{}_{}.pth'\u001b[0m\u001b[0;34m.\u001b[0m\u001b[0mformat\u001b[0m\u001b[0;34m(\u001b[0m\u001b[0;34m'neutraj'\u001b[0m\u001b[0;34m,\u001b[0m \u001b[0;36m128\u001b[0m\u001b[0;34m,\u001b[0m \u001b[0;36m512\u001b[0m\u001b[0;34m)\u001b[0m\u001b[0;34m)\u001b[0m\u001b[0;34m\u001b[0m\u001b[0;34m\u001b[0m\u001b[0m\n\u001b[0m\u001b[1;32m     11\u001b[0m \u001b[0mmodel\u001b[0m\u001b[0;34m.\u001b[0m\u001b[0mload_state_dict\u001b[0m\u001b[0;34m(\u001b[0m\u001b[0mparams\u001b[0m\u001b[0;34m)\u001b[0m\u001b[0;34m\u001b[0m\u001b[0;34m\u001b[0m\u001b[0m\n\u001b[1;32m     12\u001b[0m \u001b[0;34m\u001b[0m\u001b[0m\n",
      "\u001b[0;32m~/anaconda3/envs/pytorch/lib/python3.8/site-packages/torch/serialization.py\u001b[0m in \u001b[0;36mload\u001b[0;34m(f, map_location, pickle_module, **pickle_load_args)\u001b[0m\n\u001b[1;32m    579\u001b[0m         \u001b[0mpickle_load_args\u001b[0m\u001b[0;34m[\u001b[0m\u001b[0;34m'encoding'\u001b[0m\u001b[0;34m]\u001b[0m \u001b[0;34m=\u001b[0m \u001b[0;34m'utf-8'\u001b[0m\u001b[0;34m\u001b[0m\u001b[0;34m\u001b[0m\u001b[0m\n\u001b[1;32m    580\u001b[0m \u001b[0;34m\u001b[0m\u001b[0m\n\u001b[0;32m--> 581\u001b[0;31m     \u001b[0;32mwith\u001b[0m \u001b[0m_open_file_like\u001b[0m\u001b[0;34m(\u001b[0m\u001b[0mf\u001b[0m\u001b[0;34m,\u001b[0m \u001b[0;34m'rb'\u001b[0m\u001b[0;34m)\u001b[0m \u001b[0;32mas\u001b[0m \u001b[0mopened_file\u001b[0m\u001b[0;34m:\u001b[0m\u001b[0;34m\u001b[0m\u001b[0;34m\u001b[0m\u001b[0m\n\u001b[0m\u001b[1;32m    582\u001b[0m         \u001b[0;32mif\u001b[0m \u001b[0m_is_zipfile\u001b[0m\u001b[0;34m(\u001b[0m\u001b[0mopened_file\u001b[0m\u001b[0;34m)\u001b[0m\u001b[0;34m:\u001b[0m\u001b[0;34m\u001b[0m\u001b[0;34m\u001b[0m\u001b[0m\n\u001b[1;32m    583\u001b[0m             \u001b[0;31m# The zipfile reader is going to advance the current file position.\u001b[0m\u001b[0;34m\u001b[0m\u001b[0;34m\u001b[0m\u001b[0;34m\u001b[0m\u001b[0m\n",
      "\u001b[0;32m~/anaconda3/envs/pytorch/lib/python3.8/site-packages/torch/serialization.py\u001b[0m in \u001b[0;36m_open_file_like\u001b[0;34m(name_or_buffer, mode)\u001b[0m\n\u001b[1;32m    228\u001b[0m \u001b[0;32mdef\u001b[0m \u001b[0m_open_file_like\u001b[0m\u001b[0;34m(\u001b[0m\u001b[0mname_or_buffer\u001b[0m\u001b[0;34m,\u001b[0m \u001b[0mmode\u001b[0m\u001b[0;34m)\u001b[0m\u001b[0;34m:\u001b[0m\u001b[0;34m\u001b[0m\u001b[0;34m\u001b[0m\u001b[0m\n\u001b[1;32m    229\u001b[0m     \u001b[0;32mif\u001b[0m \u001b[0m_is_path\u001b[0m\u001b[0;34m(\u001b[0m\u001b[0mname_or_buffer\u001b[0m\u001b[0;34m)\u001b[0m\u001b[0;34m:\u001b[0m\u001b[0;34m\u001b[0m\u001b[0;34m\u001b[0m\u001b[0m\n\u001b[0;32m--> 230\u001b[0;31m         \u001b[0;32mreturn\u001b[0m \u001b[0m_open_file\u001b[0m\u001b[0;34m(\u001b[0m\u001b[0mname_or_buffer\u001b[0m\u001b[0;34m,\u001b[0m \u001b[0mmode\u001b[0m\u001b[0;34m)\u001b[0m\u001b[0;34m\u001b[0m\u001b[0;34m\u001b[0m\u001b[0m\n\u001b[0m\u001b[1;32m    231\u001b[0m     \u001b[0;32melse\u001b[0m\u001b[0;34m:\u001b[0m\u001b[0;34m\u001b[0m\u001b[0;34m\u001b[0m\u001b[0m\n\u001b[1;32m    232\u001b[0m         \u001b[0;32mif\u001b[0m \u001b[0;34m'w'\u001b[0m \u001b[0;32min\u001b[0m \u001b[0mmode\u001b[0m\u001b[0;34m:\u001b[0m\u001b[0;34m\u001b[0m\u001b[0;34m\u001b[0m\u001b[0m\n",
      "\u001b[0;32m~/anaconda3/envs/pytorch/lib/python3.8/site-packages/torch/serialization.py\u001b[0m in \u001b[0;36m__init__\u001b[0;34m(self, name, mode)\u001b[0m\n\u001b[1;32m    209\u001b[0m \u001b[0;32mclass\u001b[0m \u001b[0m_open_file\u001b[0m\u001b[0;34m(\u001b[0m\u001b[0m_opener\u001b[0m\u001b[0;34m)\u001b[0m\u001b[0;34m:\u001b[0m\u001b[0;34m\u001b[0m\u001b[0;34m\u001b[0m\u001b[0m\n\u001b[1;32m    210\u001b[0m     \u001b[0;32mdef\u001b[0m \u001b[0m__init__\u001b[0m\u001b[0;34m(\u001b[0m\u001b[0mself\u001b[0m\u001b[0;34m,\u001b[0m \u001b[0mname\u001b[0m\u001b[0;34m,\u001b[0m \u001b[0mmode\u001b[0m\u001b[0;34m)\u001b[0m\u001b[0;34m:\u001b[0m\u001b[0;34m\u001b[0m\u001b[0;34m\u001b[0m\u001b[0m\n\u001b[0;32m--> 211\u001b[0;31m         \u001b[0msuper\u001b[0m\u001b[0;34m(\u001b[0m\u001b[0m_open_file\u001b[0m\u001b[0;34m,\u001b[0m \u001b[0mself\u001b[0m\u001b[0;34m)\u001b[0m\u001b[0;34m.\u001b[0m\u001b[0m__init__\u001b[0m\u001b[0;34m(\u001b[0m\u001b[0mopen\u001b[0m\u001b[0;34m(\u001b[0m\u001b[0mname\u001b[0m\u001b[0;34m,\u001b[0m \u001b[0mmode\u001b[0m\u001b[0;34m)\u001b[0m\u001b[0;34m)\u001b[0m\u001b[0;34m\u001b[0m\u001b[0;34m\u001b[0m\u001b[0m\n\u001b[0m\u001b[1;32m    212\u001b[0m \u001b[0;34m\u001b[0m\u001b[0m\n\u001b[1;32m    213\u001b[0m     \u001b[0;32mdef\u001b[0m \u001b[0m__exit__\u001b[0m\u001b[0;34m(\u001b[0m\u001b[0mself\u001b[0m\u001b[0;34m,\u001b[0m \u001b[0;34m*\u001b[0m\u001b[0margs\u001b[0m\u001b[0;34m)\u001b[0m\u001b[0;34m:\u001b[0m\u001b[0;34m\u001b[0m\u001b[0;34m\u001b[0m\u001b[0m\n",
      "\u001b[0;31mFileNotFoundError\u001b[0m: [Errno 2] No such file or directory: './models/d0_002_train_sePoints_neutraj_128_512.pth'"
     ]
    }
   ],
   "source": [
    "# check the current working directory\n",
    "os.chdir('/home/yangshuaiyu6791/RepresentAttack/inversion_sePoint3/')\n",
    "\n",
    "from modules.models import sPoints_net, ePoints_net, se_net\n",
    "from DataLoader.dataloader import TrajDataset\n",
    "\n",
    "# load pth\n",
    "# delta = 0.002, embedding name = neutraj, embedding dim = 128, hidden dim = 512\n",
    "model = se_net(128,512)\n",
    "params = torch.load('./models/d0_002_train_sePoints_{}_{}_{}.pth'.format('neutraj', 128, 512))\n",
    "model.load_state_dict(params)\n",
    "\n",
    "# load data\n",
    "with open(\"./d0_002_data/neutraj/128/train/train_data\", \"rb\") as f:\n",
    "    tmp_embs = pickle.load(f)\n",
    "    train_embs = tmp_embs['embs']\n",
    "with open(\"./d0_002_data/neutraj/128/train/train_norm\", \"rb\") as f:\n",
    "    train_norms = pickle.load(f)\n",
    "\n",
    "with open(\"./d0_002_data/neutraj/128/val/val_data\", \"rb\") as f:\n",
    "    tmp_embs = pickle.load(f)\n",
    "    val_embs = tmp_embs['embs']\n",
    "with open(\"./d0_002_data/neutraj/128/val/val_norm\", \"rb\") as f:\n",
    "    val_norms = pickle.load(f)\n",
    "\n",
    "with open(\"./d0_002_data/neutraj/128/test/test_data\", \"rb\") as f:\n",
    "    tmp_embs = pickle.load(f)\n",
    "    test_embs = tmp_embs['embs']\n",
    "with open(\"./d0_002_data/neutraj/128/test/test_norm\", \"rb\") as f:\n",
    "    test_norms = pickle.load(f)\n",
    "\n",
    "with open(\"./rdata/gps_seqs/traingps\", \"rb\") as f:\n",
    "    train_gps = pickle.load(f)\n",
    "    train_gps = train_gps[0:60000]\n",
    "with open(\"./rdata/gps_seqs/valgps\", \"rb\") as f:\n",
    "    val_gps = pickle.load(f)"
   ]
  },
  {
   "cell_type": "markdown",
   "metadata": {},
   "source": []
  },
  {
   "cell_type": "code",
   "execution_count": 27,
   "metadata": {},
   "outputs": [
    {
     "name": "stdout",
     "output_type": "stream",
     "text": [
      "5710\n",
      "[73.662254 96.91198 ]\n",
      "[56.205948 94.293076]\n",
      "[74, 97, 28107]\n",
      "[56, 94, 27222]\n"
     ]
    }
   ],
   "source": [
    "# get the prediction result and the ground truth and the real trajectory\n",
    "# plot all of them on a map\n",
    "\n",
    "choice = random.randint(0, len(val_embs))\n",
    "print(choice)\n",
    "\n",
    "# get the prediction result and the norm\n",
    "val_emb = torch.from_numpy(val_embs[choice]).float()\n",
    "pred_sePoints = model(val_emb)\n",
    "pred_sePoints = pred_sePoints.detach().numpy()\n",
    "pred_sPoint = np.array([pred_sePoints[0], pred_sePoints[1]]); pred_ePoint = np.array([pred_sePoints[2], pred_sePoints[3]])\n",
    "val_norm = val_norms[choice]; norm_lenth = len(val_grid)\n",
    "grid_sPoint = val_grid[0]; grid_ePoint = val_grid[grid_lenth-1]\n",
    "\n",
    "print(pred_sPoint); print(pred_ePoint)\n",
    "print(grid_sPoint); print(grid_ePoint)"
   ]
  },
  {
   "cell_type": "code",
   "execution_count": 28,
   "metadata": {},
   "outputs": [],
   "source": [
    "# map grid to gps\n",
    "# cellnum: [57,35,1995];  the true cell_index = x + y* cellnum[0]\n",
    "# x,y need to round float to int\n",
    "\n",
    "porto_lat_range = [40.953673,41.307945]\n",
    "porto_lon_range = [-8.735152,-8.156309]\n",
    "delta = 0.002\n",
    "\n",
    "def grid2gps(grid):    # x -> lon, y -> lat\n",
    "    grid_x = grid[0]; grid_y = grid[1]\n",
    "    gps_x = porto_lon_range[0] + grid_x * delta\n",
    "    gps_y = porto_lat_range[0] + grid_y * delta\n",
    "    return [gps_x, gps_y]    # [lon, lat]\n"
   ]
  },
  {
   "cell_type": "code",
   "execution_count": 29,
   "metadata": {},
   "outputs": [
    {
     "name": "stdout",
     "output_type": "stream",
     "text": [
      "[74, 97]\n",
      "[56, 94]\n",
      "[74, 97]\n",
      "[56, 94]\n",
      "[-8.587152, 41.147673000000005]\n",
      "[-8.623152, 41.141673000000004]\n",
      "[-8.587152, 41.147673000000005]\n",
      "[-8.623152, 41.141673000000004]\n"
     ]
    }
   ],
   "source": [
    "pred_sPoint = pred_sPoint; pred_ePoint = pred_ePoint\n",
    "grid_sPoint = np.array(grid_sPoint); grid_ePoint = np.array(grid_ePoint)\n",
    "pred_sPoint = [round(pred_sPoint[0]), round(pred_sPoint[1])]\n",
    "pred_ePoint = [round(pred_ePoint[0]), round(pred_ePoint[1])]\n",
    "grid_sPoint = [round(grid_sPoint[0]), round(grid_sPoint[1])]\n",
    "grid_ePoint = [round(grid_ePoint[0]), round(grid_ePoint[1])]\n",
    "print(pred_sPoint); print(pred_ePoint); print(grid_sPoint); print(grid_ePoint)\n",
    "\n",
    "gps_pred_sPoint = grid2gps(pred_sPoint); gps_pred_ePoint = grid2gps(pred_ePoint)\n",
    "gps_grid_sPoint = grid2gps(grid_sPoint); gps_grid_ePoint = grid2gps(grid_ePoint)\n",
    "print(gps_pred_sPoint); print(gps_pred_ePoint); print(gps_grid_sPoint); print(gps_grid_ePoint)\n"
   ]
  },
  {
   "cell_type": "code",
   "execution_count": 32,
   "metadata": {},
   "outputs": [
    {
     "data": {
      "text/html": [
       "<div style=\"width:100%;\"><div style=\"position:relative;width:100%;height:0;padding-bottom:60%;\"><span style=\"color:#565656\">Make this Notebook Trusted to load map: File -> Trust Notebook</span><iframe src=\"about:blank\" style=\"position:absolute;width:100%;height:100%;left:0;top:0;border:none !important;\" data-html=%3C%21DOCTYPE%20html%3E%0A%3Chead%3E%20%20%20%20%0A%20%20%20%20%3Cmeta%20http-equiv%3D%22content-type%22%20content%3D%22text/html%3B%20charset%3DUTF-8%22%20/%3E%0A%20%20%20%20%0A%20%20%20%20%20%20%20%20%3Cscript%3E%0A%20%20%20%20%20%20%20%20%20%20%20%20L_NO_TOUCH%20%3D%20false%3B%0A%20%20%20%20%20%20%20%20%20%20%20%20L_DISABLE_3D%20%3D%20false%3B%0A%20%20%20%20%20%20%20%20%3C/script%3E%0A%20%20%20%20%0A%20%20%20%20%3Cstyle%3Ehtml%2C%20body%20%7Bwidth%3A%20100%25%3Bheight%3A%20100%25%3Bmargin%3A%200%3Bpadding%3A%200%3B%7D%3C/style%3E%0A%20%20%20%20%3Cstyle%3E%23map%20%7Bposition%3Aabsolute%3Btop%3A0%3Bbottom%3A0%3Bright%3A0%3Bleft%3A0%3B%7D%3C/style%3E%0A%20%20%20%20%3Cscript%20src%3D%22https%3A//cdn.jsdelivr.net/npm/leaflet%401.6.0/dist/leaflet.js%22%3E%3C/script%3E%0A%20%20%20%20%3Cscript%20src%3D%22https%3A//code.jquery.com/jquery-1.12.4.min.js%22%3E%3C/script%3E%0A%20%20%20%20%3Cscript%20src%3D%22https%3A//maxcdn.bootstrapcdn.com/bootstrap/3.2.0/js/bootstrap.min.js%22%3E%3C/script%3E%0A%20%20%20%20%3Cscript%20src%3D%22https%3A//cdnjs.cloudflare.com/ajax/libs/Leaflet.awesome-markers/2.0.2/leaflet.awesome-markers.js%22%3E%3C/script%3E%0A%20%20%20%20%3Clink%20rel%3D%22stylesheet%22%20href%3D%22https%3A//cdn.jsdelivr.net/npm/leaflet%401.6.0/dist/leaflet.css%22/%3E%0A%20%20%20%20%3Clink%20rel%3D%22stylesheet%22%20href%3D%22https%3A//maxcdn.bootstrapcdn.com/bootstrap/3.2.0/css/bootstrap.min.css%22/%3E%0A%20%20%20%20%3Clink%20rel%3D%22stylesheet%22%20href%3D%22https%3A//maxcdn.bootstrapcdn.com/bootstrap/3.2.0/css/bootstrap-theme.min.css%22/%3E%0A%20%20%20%20%3Clink%20rel%3D%22stylesheet%22%20href%3D%22https%3A//maxcdn.bootstrapcdn.com/font-awesome/4.6.3/css/font-awesome.min.css%22/%3E%0A%20%20%20%20%3Clink%20rel%3D%22stylesheet%22%20href%3D%22https%3A//cdnjs.cloudflare.com/ajax/libs/Leaflet.awesome-markers/2.0.2/leaflet.awesome-markers.css%22/%3E%0A%20%20%20%20%3Clink%20rel%3D%22stylesheet%22%20href%3D%22https%3A//cdn.jsdelivr.net/gh/python-visualization/folium/folium/templates/leaflet.awesome.rotate.min.css%22/%3E%0A%20%20%20%20%0A%20%20%20%20%20%20%20%20%20%20%20%20%3Cmeta%20name%3D%22viewport%22%20content%3D%22width%3Ddevice-width%2C%0A%20%20%20%20%20%20%20%20%20%20%20%20%20%20%20%20initial-scale%3D1.0%2C%20maximum-scale%3D1.0%2C%20user-scalable%3Dno%22%20/%3E%0A%20%20%20%20%20%20%20%20%20%20%20%20%3Cstyle%3E%0A%20%20%20%20%20%20%20%20%20%20%20%20%20%20%20%20%23map_09590920812943a4949afb96f8028958%20%7B%0A%20%20%20%20%20%20%20%20%20%20%20%20%20%20%20%20%20%20%20%20position%3A%20relative%3B%0A%20%20%20%20%20%20%20%20%20%20%20%20%20%20%20%20%20%20%20%20width%3A%20100.0%25%3B%0A%20%20%20%20%20%20%20%20%20%20%20%20%20%20%20%20%20%20%20%20height%3A%20100.0%25%3B%0A%20%20%20%20%20%20%20%20%20%20%20%20%20%20%20%20%20%20%20%20left%3A%200.0%25%3B%0A%20%20%20%20%20%20%20%20%20%20%20%20%20%20%20%20%20%20%20%20top%3A%200.0%25%3B%0A%20%20%20%20%20%20%20%20%20%20%20%20%20%20%20%20%7D%0A%20%20%20%20%20%20%20%20%20%20%20%20%3C/style%3E%0A%20%20%20%20%20%20%20%20%0A%3C/head%3E%0A%3Cbody%3E%20%20%20%20%0A%20%20%20%20%0A%20%20%20%20%20%20%20%20%20%20%20%20%3Cdiv%20class%3D%22folium-map%22%20id%3D%22map_09590920812943a4949afb96f8028958%22%20%3E%3C/div%3E%0A%20%20%20%20%20%20%20%20%0A%3C/body%3E%0A%3Cscript%3E%20%20%20%20%0A%20%20%20%20%0A%20%20%20%20%20%20%20%20%20%20%20%20var%20map_09590920812943a4949afb96f8028958%20%3D%20L.map%28%0A%20%20%20%20%20%20%20%20%20%20%20%20%20%20%20%20%22map_09590920812943a4949afb96f8028958%22%2C%0A%20%20%20%20%20%20%20%20%20%20%20%20%20%20%20%20%7B%0A%20%20%20%20%20%20%20%20%20%20%20%20%20%20%20%20%20%20%20%20center%3A%20%5B40.953673%2C%20-8.735152%5D%2C%0A%20%20%20%20%20%20%20%20%20%20%20%20%20%20%20%20%20%20%20%20crs%3A%20L.CRS.EPSG3857%2C%0A%20%20%20%20%20%20%20%20%20%20%20%20%20%20%20%20%20%20%20%20zoom%3A%2015%2C%0A%20%20%20%20%20%20%20%20%20%20%20%20%20%20%20%20%20%20%20%20zoomControl%3A%20true%2C%0A%20%20%20%20%20%20%20%20%20%20%20%20%20%20%20%20%20%20%20%20preferCanvas%3A%20false%2C%0A%20%20%20%20%20%20%20%20%20%20%20%20%20%20%20%20%7D%0A%20%20%20%20%20%20%20%20%20%20%20%20%29%3B%0A%0A%20%20%20%20%20%20%20%20%20%20%20%20%0A%0A%20%20%20%20%20%20%20%20%0A%20%20%20%20%0A%20%20%20%20%20%20%20%20%20%20%20%20var%20tile_layer_57f7ee23481c4d088a1b8cacf9e7b02f%20%3D%20L.tileLayer%28%0A%20%20%20%20%20%20%20%20%20%20%20%20%20%20%20%20%22https%3A//%7Bs%7D.tile.openstreetmap.org/%7Bz%7D/%7Bx%7D/%7By%7D.png%22%2C%0A%20%20%20%20%20%20%20%20%20%20%20%20%20%20%20%20%7B%22attribution%22%3A%20%22Data%20by%20%5Cu0026copy%3B%20%5Cu003ca%20href%3D%5C%22http%3A//openstreetmap.org%5C%22%5Cu003eOpenStreetMap%5Cu003c/a%5Cu003e%2C%20under%20%5Cu003ca%20href%3D%5C%22http%3A//www.openstreetmap.org/copyright%5C%22%5Cu003eODbL%5Cu003c/a%5Cu003e.%22%2C%20%22detectRetina%22%3A%20false%2C%20%22maxNativeZoom%22%3A%2018%2C%20%22maxZoom%22%3A%2018%2C%20%22minZoom%22%3A%200%2C%20%22noWrap%22%3A%20false%2C%20%22opacity%22%3A%201%2C%20%22subdomains%22%3A%20%22abc%22%2C%20%22tms%22%3A%20false%7D%0A%20%20%20%20%20%20%20%20%20%20%20%20%29.addTo%28map_09590920812943a4949afb96f8028958%29%3B%0A%20%20%20%20%20%20%20%20%0A%20%20%20%20%0A%20%20%20%20%20%20%20%20%20%20%20%20var%20circle_marker_f795818decf24b0c9f86a96058719bea%20%3D%20L.circleMarker%28%0A%20%20%20%20%20%20%20%20%20%20%20%20%20%20%20%20%5B41.147673000000005%2C%20-8.587152%5D%2C%0A%20%20%20%20%20%20%20%20%20%20%20%20%20%20%20%20%7B%22bubblingMouseEvents%22%3A%20true%2C%20%22color%22%3A%20%22red%22%2C%20%22dashArray%22%3A%20null%2C%20%22dashOffset%22%3A%20null%2C%20%22fill%22%3A%20true%2C%20%22fillColor%22%3A%20%22red%22%2C%20%22fillOpacity%22%3A%200.2%2C%20%22fillRule%22%3A%20%22evenodd%22%2C%20%22lineCap%22%3A%20%22round%22%2C%20%22lineJoin%22%3A%20%22round%22%2C%20%22opacity%22%3A%201.0%2C%20%22radius%22%3A%205%2C%20%22stroke%22%3A%20true%2C%20%22weight%22%3A%203%7D%0A%20%20%20%20%20%20%20%20%20%20%20%20%29.addTo%28map_09590920812943a4949afb96f8028958%29%3B%0A%20%20%20%20%20%20%20%20%0A%20%20%20%20%0A%20%20%20%20%20%20%20%20%20%20%20%20var%20circle_marker_8784ab2f1b5b419cace39645a49fdb4a%20%3D%20L.circleMarker%28%0A%20%20%20%20%20%20%20%20%20%20%20%20%20%20%20%20%5B41.141673000000004%2C%20-8.623152%5D%2C%0A%20%20%20%20%20%20%20%20%20%20%20%20%20%20%20%20%7B%22bubblingMouseEvents%22%3A%20true%2C%20%22color%22%3A%20%22red%22%2C%20%22dashArray%22%3A%20null%2C%20%22dashOffset%22%3A%20null%2C%20%22fill%22%3A%20true%2C%20%22fillColor%22%3A%20%22red%22%2C%20%22fillOpacity%22%3A%200.2%2C%20%22fillRule%22%3A%20%22evenodd%22%2C%20%22lineCap%22%3A%20%22round%22%2C%20%22lineJoin%22%3A%20%22round%22%2C%20%22opacity%22%3A%201.0%2C%20%22radius%22%3A%205%2C%20%22stroke%22%3A%20true%2C%20%22weight%22%3A%203%7D%0A%20%20%20%20%20%20%20%20%20%20%20%20%29.addTo%28map_09590920812943a4949afb96f8028958%29%3B%0A%20%20%20%20%20%20%20%20%0A%20%20%20%20%0A%20%20%20%20%20%20%20%20%20%20%20%20var%20circle_marker_4cf1f332d6184072997ee2fb49d2b24a%20%3D%20L.circleMarker%28%0A%20%20%20%20%20%20%20%20%20%20%20%20%20%20%20%20%5B41.147673000000005%2C%20-8.587152%5D%2C%0A%20%20%20%20%20%20%20%20%20%20%20%20%20%20%20%20%7B%22bubblingMouseEvents%22%3A%20true%2C%20%22color%22%3A%20%22blue%22%2C%20%22dashArray%22%3A%20null%2C%20%22dashOffset%22%3A%20null%2C%20%22fill%22%3A%20true%2C%20%22fillColor%22%3A%20%22blue%22%2C%20%22fillOpacity%22%3A%200.2%2C%20%22fillRule%22%3A%20%22evenodd%22%2C%20%22lineCap%22%3A%20%22round%22%2C%20%22lineJoin%22%3A%20%22round%22%2C%20%22opacity%22%3A%201.0%2C%20%22radius%22%3A%205%2C%20%22stroke%22%3A%20true%2C%20%22weight%22%3A%203%7D%0A%20%20%20%20%20%20%20%20%20%20%20%20%29.addTo%28map_09590920812943a4949afb96f8028958%29%3B%0A%20%20%20%20%20%20%20%20%0A%20%20%20%20%0A%20%20%20%20%20%20%20%20%20%20%20%20var%20circle_marker_98b85edd33c34ecd92628783357aeba2%20%3D%20L.circleMarker%28%0A%20%20%20%20%20%20%20%20%20%20%20%20%20%20%20%20%5B41.141673000000004%2C%20-8.623152%5D%2C%0A%20%20%20%20%20%20%20%20%20%20%20%20%20%20%20%20%7B%22bubblingMouseEvents%22%3A%20true%2C%20%22color%22%3A%20%22blue%22%2C%20%22dashArray%22%3A%20null%2C%20%22dashOffset%22%3A%20null%2C%20%22fill%22%3A%20true%2C%20%22fillColor%22%3A%20%22blue%22%2C%20%22fillOpacity%22%3A%200.2%2C%20%22fillRule%22%3A%20%22evenodd%22%2C%20%22lineCap%22%3A%20%22round%22%2C%20%22lineJoin%22%3A%20%22round%22%2C%20%22opacity%22%3A%201.0%2C%20%22radius%22%3A%205%2C%20%22stroke%22%3A%20true%2C%20%22weight%22%3A%203%7D%0A%20%20%20%20%20%20%20%20%20%20%20%20%29.addTo%28map_09590920812943a4949afb96f8028958%29%3B%0A%20%20%20%20%20%20%20%20%0A%20%20%20%20%0A%20%20%20%20%20%20%20%20%20%20%20%20var%20poly_line_1b2f071b5cb6477a8d01f13b5e233d4d%20%3D%20L.polyline%28%0A%20%20%20%20%20%20%20%20%20%20%20%20%20%20%20%20%5B%5B41.148621%2C%20-8.585604%5D%2C%20%5B41.148774%2C%20-8.585694%5D%2C%20%5B41.148981%2C%20-8.585973%5D%2C%20%5B41.149089%2C%20-8.587116%5D%2C%20%5B41.149089%2C%20-8.58816%5D%2C%20%5B41.149008%2C%20-8.588196%5D%2C%20%5B41.148018%2C%20-8.588664%5D%2C%20%5B41.147568%2C%20-8.588997%5D%2C%20%5B41.147469%2C%20-8.58906%5D%2C%20%5B41.147307%2C%20-8.589087%5D%2C%20%5B41.14719%2C%20-8.589015%5D%2C%20%5B41.147163%2C%20-8.588736%5D%2C%20%5B41.147424%2C%20-8.58807%5D%2C%20%5B41.147469%2C%20-8.587287%5D%2C%20%5B41.147082%2C%20-8.586072%5D%2C%20%5B41.146128%2C%20-8.58411%5D%2C%20%5B41.145192%2C%20-8.58321%5D%2C%20%5B41.144787%2C%20-8.58114%5D%2C%20%5B41.145804%2C%20-8.579286%5D%2C%20%5B41.144823%2C%20-8.578116%5D%2C%20%5B41.143698%2C%20-8.580627%5D%2C%20%5B41.14359%2C%20-8.583903%5D%2C%20%5B41.143284%2C%20-8.586261%5D%2C%20%5B41.141934%2C%20-8.587719%5D%2C%20%5B41.140557%2C%20-8.589465%5D%2C%20%5B41.140017%2C%20-8.591553%5D%2C%20%5B41.139945%2C%20-8.595162%5D%2C%20%5B41.140908%2C%20-8.597376%5D%2C%20%5B41.141142%2C%20-8.597592%5D%2C%20%5B41.141106%2C%20-8.597646%5D%2C%20%5B41.141079%2C%20-8.597619%5D%2C%20%5B41.140998%2C%20-8.597655%5D%2C%20%5B41.14161%2C%20-8.599023%5D%2C%20%5B41.141952%2C%20-8.602272%5D%2C%20%5B41.141817%2C%20-8.604675%5D%2C%20%5B41.141457%2C%20-8.606934%5D%2C%20%5B41.140962%2C%20-8.60904%5D%2C%20%5B41.140953%2C%20-8.610246%5D%2C%20%5B41.141376%2C%20-8.613909%5D%2C%20%5B41.141088%2C%20-8.614539%5D%2C%20%5B41.141016%2C%20-8.614701%5D%2C%20%5B41.140881%2C%20-8.614872%5D%2C%20%5B41.140872%2C%20-8.614953%5D%2C%20%5B41.140638%2C%20-8.615565%5D%2C%20%5B41.140629%2C%20-8.616816%5D%2C%20%5B41.141115%2C%20-8.617887%5D%2C%20%5B41.141835%2C%20-8.619192%5D%2C%20%5B41.142708%2C%20-8.620452%5D%2C%20%5B41.143446%2C%20-8.621262%5D%2C%20%5B41.143428%2C%20-8.621217%5D%5D%2C%0A%20%20%20%20%20%20%20%20%20%20%20%20%20%20%20%20%7B%22bubblingMouseEvents%22%3A%20true%2C%20%22color%22%3A%20%22blue%22%2C%20%22dashArray%22%3A%20null%2C%20%22dashOffset%22%3A%20null%2C%20%22fill%22%3A%20false%2C%20%22fillColor%22%3A%20%22blue%22%2C%20%22fillOpacity%22%3A%200.2%2C%20%22fillRule%22%3A%20%22evenodd%22%2C%20%22lineCap%22%3A%20%22round%22%2C%20%22lineJoin%22%3A%20%22round%22%2C%20%22noClip%22%3A%20false%2C%20%22opacity%22%3A%200.6%2C%20%22smoothFactor%22%3A%201.0%2C%20%22stroke%22%3A%20true%2C%20%22weight%22%3A%2015%7D%0A%20%20%20%20%20%20%20%20%20%20%20%20%29.addTo%28map_09590920812943a4949afb96f8028958%29%3B%0A%20%20%20%20%20%20%20%20%0A%3C/script%3E onload=\"this.contentDocument.open();this.contentDocument.write(    decodeURIComponent(this.getAttribute('data-html')));this.contentDocument.close();\" allowfullscreen webkitallowfullscreen mozallowfullscreen></iframe></div></div>"
      ],
      "text/plain": [
       "<folium.folium.Map at 0x7fe25c595490>"
      ]
     },
     "execution_count": 32,
     "metadata": {},
     "output_type": "execute_result"
    }
   ],
   "source": [
    "my_map = folium.Map(location=[40.953673,-8.735152], zoom_start=15)\n",
    "folium.CircleMarker(location=[gps_pred_sPoint[1],gps_pred_sPoint[0]], radius=5, color='red', fill=True).add_to(my_map)\n",
    "folium.CircleMarker(location=[gps_pred_ePoint[1],gps_pred_ePoint[0]], radius=5, color='red', fill=True).add_to(my_map)\n",
    "folium.CircleMarker(location=[gps_grid_sPoint[1],gps_grid_sPoint[0]], radius=5, color='blue', fill=True).add_to(my_map)\n",
    "folium.CircleMarker(location=[gps_grid_ePoint[1],gps_grid_ePoint[0]], radius=5, color='blue', fill=True).add_to(my_map)\n",
    "\n",
    "# plot the real trajectory, note that the gps data is validation data rather than training data\n",
    "gps_val = val_gps[choice][:,[1,0]]\n",
    "# for i in range(10):\n",
    "#     gps_val = val_gps[i][:,[1,0]]\n",
    "#     folium.PolyLine(gps_val, color=\"blue\", weight=2, opacity=1).add_to(my_map)\n",
    "#     # show points for each trajectory\n",
    "#     for j in range(len(gps_val)):\n",
    "#         folium.CircleMarker(location=[gps_val[j][0],gps_val[j][1]], radius=2, color='blue', fill=True).add_to(my_map)\n",
    "folium.PolyLine(gps_val, color=\"blue\", weight=15, opacity=0.6).add_to(my_map)\n",
    "\n",
    "os.makedirs(\"./results/{}/{}/{}\".format(\"neutraj\", \"128\", \"val\"), exist_ok=True)\n",
    "my_map.save(\"./results/{}/{}/{}_{}_plot.html\".format(\"neutraj\", \"128\", \"val\", choice))\n",
    "my_map"
   ]
  },
  {
   "cell_type": "code",
   "execution_count": null,
   "metadata": {},
   "outputs": [],
   "source": []
  }
 ],
 "metadata": {
  "kernelspec": {
   "display_name": "pytorch",
   "language": "python",
   "name": "python3"
  },
  "language_info": {
   "codemirror_mode": {
    "name": "ipython",
    "version": 3
   },
   "file_extension": ".py",
   "mimetype": "text/x-python",
   "name": "python",
   "nbconvert_exporter": "python",
   "pygments_lexer": "ipython3",
   "version": "3.8.10"
  }
 },
 "nbformat": 4,
 "nbformat_minor": 2
}
