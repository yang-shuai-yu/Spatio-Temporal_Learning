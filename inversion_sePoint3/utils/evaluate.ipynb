{
 "cells": [
  {
   "cell_type": "code",
   "execution_count": 2,
   "metadata": {},
   "outputs": [],
   "source": [
    "#  这是写好了的，勿动\n",
    "\n",
    "import os, pickle, random\n",
    "import numpy as np\n",
    "import torch"
   ]
  },
  {
   "cell_type": "code",
   "execution_count": 3,
   "metadata": {},
   "outputs": [
    {
     "name": "stdout",
     "output_type": "stream",
     "text": [
      "/home/yangshuaiyu6791/RepresentAttack/inversion_sePoint3\n"
     ]
    }
   ],
   "source": [
    "# change the current directory to the father directory of this file\n",
    "os.chdir(os.path.dirname(os.path.dirname(os.path.realpath('evaluate.ipynb'))))\n",
    "print(os.getcwd())"
   ]
  },
  {
   "cell_type": "code",
   "execution_count": 44,
   "metadata": {},
   "outputs": [],
   "source": [
    "from modules.models import sPoints_net, ePoints_net, se_net\n",
    "from DataLoader.dataloader import TrajDataset\n",
    "emb_dim = 256\n",
    "emb_model = 'random'\n",
    "\n",
    "# load data\n",
    "with open(\"./data/{}/{}/train/train_data\".format(emb_model, emb_dim), \"rb\") as f:\n",
    "    tmp_embs = pickle.load(f)\n",
    "    train_embs = tmp_embs['embs']\n",
    "with open(\"./data/{}/{}/train/train_norm\".format(emb_model, emb_dim), \"rb\") as f:\n",
    "    train_norms = pickle.load(f)\n",
    "\n",
    "with open(\"./data/{}/{}/val/val_data\".format(emb_model, emb_dim), \"rb\") as f:\n",
    "    tmp_embs = pickle.load(f)\n",
    "    val_embs = tmp_embs['embs']\n",
    "with open(\"./data/{}/{}/val/val_norm\".format(emb_model, emb_dim), \"rb\") as f:\n",
    "    val_norms = pickle.load(f)\n",
    "\n",
    "with open(\"./data/{}/{}/test/test_data\".format(emb_model, emb_dim), \"rb\") as f:\n",
    "    tmp_embs = pickle.load(f)\n",
    "    test_embs = tmp_embs['embs']\n",
    "with open(\"./data/{}/{}/test/test_norm\".format(emb_model, emb_dim), \"rb\") as f:\n",
    "    test_norms = pickle.load(f)\n",
    "    \n",
    "with open(\"./rdata/gps_seqs/traingps\", \"rb\") as f:\n",
    "    train_gps = pickle.load(f)\n",
    "    train_gps = train_gps[0:60000]\n",
    "with open(\"./rdata/gps_seqs/valgps\", \"rb\") as f:\n",
    "    val_gps = pickle.load(f)\n",
    "with open(\"./rdata/gps_seqs/testgps\", \"rb\") as f:\n",
    "    test_gps = pickle.load(f)"
   ]
  },
  {
   "cell_type": "code",
   "execution_count": 45,
   "metadata": {},
   "outputs": [
    {
     "data": {
      "text/plain": [
       "<All keys matched successfully>"
      ]
     },
     "execution_count": 45,
     "metadata": {},
     "output_type": "execute_result"
    }
   ],
   "source": [
    "# load pth\n",
    "# delta = 0.002, emb_model = neutraj, embedding dim = emb_dim, hidden dim = 512\n",
    "\n",
    "model = se_net(emb_dim, 512)\n",
    "params = torch.load('./models/d0_001_train_sePoints_{}_{}_{}.pth'.format(emb_model, emb_dim, 512))\n",
    "model.load_state_dict(params)"
   ]
  },
  {
   "cell_type": "code",
   "execution_count": 46,
   "metadata": {},
   "outputs": [],
   "source": [
    "# calculate the distance between two points with longitude and latitude\n",
    "def distance(lon_lat_list):\n",
    "    lon1, lat1, lon2, lat2 = lon_lat_list\n",
    "    R = 6371.004    # km\n",
    "    pi = 3.1415926\n",
    "    dlat = (lat2 - lat1) * pi / 180\n",
    "    dlon = (lon2 - lon1) * pi / 180\n",
    "    a = np.sin(dlat / 2) * np.sin(dlat / 2) + np.cos(lat1 * pi / 180) * np.cos(lat2 * pi / 180) * np.sin(dlon / 2) * np.sin(dlon / 2)\n",
    "    c = 2 * np.arctan2(np.sqrt(a), np.sqrt(1 - a))\n",
    "    d = R * c\n",
    "    return d\n",
    "\n",
    "# transform the cell x,y to lon, lat\n",
    "porto_lat_range = [40.953673,41.307945]\n",
    "porto_lon_range = [-8.735152,-8.156309]\n",
    "\n",
    "def pred2gps(pred):\n",
    "    lon = pred[0] * (porto_lon_range[1] - porto_lon_range[0]) + porto_lon_range[0]\n",
    "    lat = pred[1] * (porto_lat_range[1] - porto_lat_range[0]) + porto_lat_range[0]\n",
    "    return [lon, lat]"
   ]
  },
  {
   "cell_type": "code",
   "execution_count": 47,
   "metadata": {},
   "outputs": [
    {
     "name": "stdout",
     "output_type": "stream",
     "text": [
      "(10000, 2, 4)\n",
      "dist:  (10000, 2)\n",
      "mean_start_dis:  2.0611580386597503\n",
      "mean_end_dis:  3.154924700750726\n",
      "mean_dis:  2.608041369705238\n"
     ]
    }
   ],
   "source": [
    "test_embs_ = np.array(test_embs)    # shape: (test_size, dim)\n",
    "test_norms_ = np.array([[tnorm[0], tnorm[-1]] for tnorm in test_norms])    # shape: (test_size, 2, 2)\n",
    "test_gps_ = np.array([[gps[0], gps[-1]] for gps in test_gps])    # shape: (test_size, 2,2)\n",
    "\n",
    "model.cpu(); model.eval()\n",
    "test_preds = model(torch.from_numpy(test_embs_).float())\n",
    "test_preds = test_preds.detach().numpy().reshape(-1, 2, 2)    # shape: (test_size, 4) -- s_lon, s_lat, e_lon, e_lat \n",
    "\n",
    "# get the first and last point of every trajectory in test_norms\n",
    "mean = np.array([(porto_lon_range[1] + porto_lon_range[0])/2, (porto_lat_range[1] + porto_lat_range[0])/2])\n",
    "std = np.array([(porto_lon_range[1] - porto_lon_range[0])/2, (porto_lat_range[1] - porto_lat_range[0])/2])\n",
    "\n",
    "test_predgps_ = test_preds * std + mean\n",
    "test_gps_ = test_gps_ \n",
    "\n",
    "test_dist = np.concatenate((test_predgps_, test_gps_), axis=2)    # shape: (test_size, 2, 4) -- pred_lon, pred_lat, gps_lon, gps_lat\n",
    "print(test_dist.shape)\n",
    "\n",
    "# calculate dist\n",
    "dist = np.apply_along_axis(distance, 2, test_dist)\n",
    "print('dist: ', dist.shape)\n",
    "mean_dis = dist.mean(axis=0)\n",
    "print('mean_start_dis: ', mean_dis[0])\n",
    "print('mean_end_dis: ', mean_dis[1])\n",
    "print('mean_dis: ', mean_dis.mean())\n",
    "\n",
    "with open('./results/{}_{}_{}_dists'.format(emb_model, emb_dim, 512), 'w') as f:\n",
    "    f.write('mean_start_dis: {}\\n'.format(mean_dis[0]))\n",
    "    f.write('mean_end_dis: {}\\n'.format(mean_dis[1]))\n",
    "    f.write('mean_dis: {}\\n'.format(mean_dis.mean()))\n",
    "    f.close()\n"
   ]
  },
  {
   "cell_type": "code",
   "execution_count": 8,
   "metadata": {},
   "outputs": [
    {
     "data": {
      "text/plain": [
       "' not used orz'"
      ]
     },
     "execution_count": 8,
     "metadata": {},
     "output_type": "execute_result"
    }
   ],
   "source": [
    "''' not used orz'''\n",
    "# # choose 40 points by random\n",
    "# choice_list = np.random.choice(len(val_embs), 10000, replace=False)\n",
    "# print([val_gps[i][0] for i in choice_list])    # lon, lat\n",
    "# choice_testnorms = [[test_norms[i][0][0], val_norms[i][0][1], test_norms[i][-1][0], test_norms[i][-1][1]] for i in choice_list]    # x, y\n",
    "# choice_testembs = [test_embs[i] for i in choice_list]\n",
    "# choice_testgps = [[test_gps[i][0], test_gps[i][-1]] for i in choice_list]    # [[lon, lat], [lon, lat]]\n",
    "# # get the prediction\n",
    "# model.cpu()\n",
    "# model.eval()\n",
    "# choice_predgrids = []\n",
    "# for i in range(len(choice_testembs)):    \n",
    "#     choice_testembs[i] = torch.Tensor(choice_testembs[i]).unsqueeze(0)\n",
    "#     choice_predgrids.append(model(choice_testembs[i]).cpu().detach().numpy()[0])\n",
    "\n",
    "# # for i in range(len(choice_predgrids)):\n",
    "# #     print(choice_predgrids[i], choice_valgrids[i], '\\n')\n",
    "\n",
    "# # transform the prediction to lon, lat\n",
    "# choice_predgps = []\n",
    "# for i in range(len(choice_predgrids)):\n",
    "#     # choice_predgps.append([choice_predgrids[i][0:2], choice_predgrids[i][2:]])\n",
    "#     choice_predgps.append([pred2gps(choice_predgrids[i][0:2]), pred2gps(choice_predgrids[i][2:])])\n",
    "# print(choice_predgps)"
   ]
  },
  {
   "cell_type": "code",
   "execution_count": 9,
   "metadata": {},
   "outputs": [],
   "source": [
    "# # calculate the distance between prediction and ground truth\n",
    "# start_dis = []; end_dis = []\n",
    "# for i in range(len(choice_predgps)):\n",
    "#     start_dis.append(distance(choice_predgps[i][0][1], choice_predgps[i][0][0], choice_testgps[i][0][1], choice_testgps[i][0][0]))\n",
    "#     end_dis.append(distance(choice_predgps[i][1][1], choice_predgps[i][1][0], choice_testgps[i][1][1], choice_testgps[i][1][0]))\n",
    "# print(start_dis)\n",
    "# print(end_dis)\n",
    "# print('average start distance: {} km'.format(np.mean(start_dis)))\n",
    "# print('average end distance: {} km'.format(np.mean(end_dis)))\n",
    "\n",
    "# with open(\"./results/{}_{}_{}_dists\".format(emb_model, emb_dim, 512), \"w\") as f:\n",
    "#     f.write(\"choose 40 points by random\\n\")\n",
    "#     f.write(\"choice_list: {}\\n\".format(choice_list))\n",
    "#     f.write('average start distance: {} km'.format(np.mean(start_dis)))\n",
    "#     f.write('average end distance: {} km'.format(np.mean(end_dis)))\n",
    "#     f.write('\\n')\n",
    "#     f.write('start distance: {}'.format(start_dis))\n",
    "#     f.write('\\n')\n",
    "#     f.write('end distance: {}'.format(end_dis))"
   ]
  },
  {
   "cell_type": "code",
   "execution_count": 10,
   "metadata": {},
   "outputs": [
    {
     "ename": "NameError",
     "evalue": "name 'choice_predgps' is not defined",
     "output_type": "error",
     "traceback": [
      "\u001b[0;31m---------------------------------------------------------------------------\u001b[0m",
      "\u001b[0;31mNameError\u001b[0m                                 Traceback (most recent call last)",
      "\u001b[0;32m/tmp/ipykernel_2001598/1633970755.py\u001b[0m in \u001b[0;36m<module>\u001b[0;34m\u001b[0m\n\u001b[1;32m      2\u001b[0m \u001b[0;32mimport\u001b[0m \u001b[0mfolium\u001b[0m\u001b[0;34m\u001b[0m\u001b[0;34m\u001b[0m\u001b[0m\n\u001b[1;32m      3\u001b[0m \u001b[0mmy_map\u001b[0m \u001b[0;34m=\u001b[0m \u001b[0mfolium\u001b[0m\u001b[0;34m.\u001b[0m\u001b[0mMap\u001b[0m\u001b[0;34m(\u001b[0m\u001b[0mlocation\u001b[0m\u001b[0;34m=\u001b[0m\u001b[0;34m[\u001b[0m\u001b[0;36m40.953673\u001b[0m\u001b[0;34m,\u001b[0m\u001b[0;34m-\u001b[0m\u001b[0;36m8.735152\u001b[0m\u001b[0;34m]\u001b[0m\u001b[0;34m,\u001b[0m \u001b[0mzoom_start\u001b[0m\u001b[0;34m=\u001b[0m\u001b[0;36m12\u001b[0m\u001b[0;34m)\u001b[0m\u001b[0;34m\u001b[0m\u001b[0;34m\u001b[0m\u001b[0m\n\u001b[0;32m----> 4\u001b[0;31m \u001b[0mchoice\u001b[0m \u001b[0;34m=\u001b[0m \u001b[0mnp\u001b[0m\u001b[0;34m.\u001b[0m\u001b[0mrandom\u001b[0m\u001b[0;34m.\u001b[0m\u001b[0mchoice\u001b[0m\u001b[0;34m(\u001b[0m\u001b[0mlen\u001b[0m\u001b[0;34m(\u001b[0m\u001b[0mchoice_predgps\u001b[0m\u001b[0;34m)\u001b[0m\u001b[0;34m)\u001b[0m\u001b[0;34m\u001b[0m\u001b[0;34m\u001b[0m\u001b[0m\n\u001b[0m\u001b[1;32m      5\u001b[0m \u001b[0mprint\u001b[0m\u001b[0;34m(\u001b[0m\u001b[0mchoice_predgps\u001b[0m\u001b[0;34m[\u001b[0m\u001b[0mchoice\u001b[0m\u001b[0;34m]\u001b[0m\u001b[0;34m,\u001b[0m \u001b[0mchoice_valgps\u001b[0m\u001b[0;34m[\u001b[0m\u001b[0mchoice\u001b[0m\u001b[0;34m]\u001b[0m\u001b[0;34m)\u001b[0m\u001b[0;34m\u001b[0m\u001b[0;34m\u001b[0m\u001b[0m\n\u001b[1;32m      6\u001b[0m \u001b[0;34m\u001b[0m\u001b[0m\n",
      "\u001b[0;31mNameError\u001b[0m: name 'choice_predgps' is not defined"
     ]
    }
   ],
   "source": [
    "# if you want, plot the prediction and ground truth on the map\n",
    "import folium\n",
    "my_map = folium.Map(location=[40.953673,-8.735152], zoom_start=12)\n",
    "choice = np.random.choice(len(choice_predgps))\n",
    "print(choice_predgps[choice], choice_valgps[choice])\n",
    "\n",
    "folium.CircleMarker(location=[choice_predgps[choice][0][1], choice_predgps[choice][0][0]], radius=5, color='blue', fill=True).add_to(my_map)\n",
    "folium.CircleMarker(location=[choice_predgps[choice][1][1], choice_predgps[choice][1][0]], radius=5, color='blue', fill=True).add_to(my_map)\n",
    "folium.CircleMarker(location=[choice_testgps[choice][0][1], choice_testgps[choice][0][0]], radius=5, color='red', fill=True).add_to(my_map)\n",
    "folium.CircleMarker(location=[choice_testgps[choice][1][1], choice_testgps[choice][1][0]], radius=5, color='red', fill=True).add_to(my_map)\n",
    "\n",
    "# plot the real trajectory\n",
    "gps_val = val_gps[choice_list[choice]][:, [1, 0]]\n",
    "folium.PolyLine(gps_val, color=\"red\", weight=2.5, opacity=1).add_to(my_map)\n",
    "\n",
    "my_map   # show the map"
   ]
  },
  {
   "cell_type": "code",
   "execution_count": null,
   "metadata": {},
   "outputs": [],
   "source": []
  }
 ],
 "metadata": {
  "kernelspec": {
   "display_name": "pytorch",
   "language": "python",
   "name": "python3"
  },
  "language_info": {
   "codemirror_mode": {
    "name": "ipython",
    "version": 3
   },
   "file_extension": ".py",
   "mimetype": "text/x-python",
   "name": "python",
   "nbconvert_exporter": "python",
   "pygments_lexer": "ipython3",
   "version": "3.8.10"
  }
 },
 "nbformat": 4,
 "nbformat_minor": 2
}
