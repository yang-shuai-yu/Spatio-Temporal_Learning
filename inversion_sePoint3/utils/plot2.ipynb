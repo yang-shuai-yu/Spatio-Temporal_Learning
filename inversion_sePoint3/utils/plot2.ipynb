{
 "cells": [
  {
   "cell_type": "code",
   "execution_count": 1,
   "metadata": {},
   "outputs": [],
   "source": [
    "import folium\n",
    "import math\n",
    "import random\n",
    "import h5py\n",
    "import folium \n",
    "import random\n",
    "import numpy as np\n",
    "import matplotlib.pyplot as plt\n",
    "import pickle\n",
    "import torch\n",
    "import numpy as np\n",
    "import os, sys, pickle"
   ]
  },
  {
   "cell_type": "code",
   "execution_count": 2,
   "metadata": {},
   "outputs": [],
   "source": [
    "# load model and data\n",
    "# get the prediction result and the ground truth and the real trajectory\n",
    "# plot all of them on a map"
   ]
  },
  {
   "cell_type": "code",
   "execution_count": 4,
   "metadata": {},
   "outputs": [],
   "source": [
    "# check the current working directory\n",
    "os.chdir('/home/yangshuaiyu6791/RepresentAttack/inversion_sePoint/')\n",
    "\n",
    "from modules.models import sPoints_net, ePoints_net, se_net\n",
    "from DataLoader.dataloader import TrajDataset\n",
    "\n",
    "# load pth\n",
    "model = se_net(128,512)\n",
    "params1 = torch.load(\"./models/d0_002_train_sePoints_neutraj_128_512.pth\",\n",
    "                    map_location=torch.device('cpu'))\n",
    "model.load_state_dict(params1)\n",
    "model.eval()\n",
    "\n",
    "# load data\n",
    "with open(\"./data/neutraj/128/train/train_data\", \"rb\") as f:\n",
    "    tmp_embs = pickle.load(f)\n",
    "    train_embs = tmp_embs['embs']\n",
    "with open(\"./data/neutraj/128/train/train_grid\", \"rb\") as f:\n",
    "    train_grids = pickle.load(f)\n",
    "\n",
    "with open(\"./data/neutraj/128/val/val_data\", \"rb\") as f:\n",
    "    tmp_embs = pickle.load(f)\n",
    "    val_embs = tmp_embs['embs']\n",
    "with open(\"./data/neutraj/128/val/val_grid\", \"rb\") as f:\n",
    "    val_grids = pickle.load(f)\n",
    "\n",
    "with open(\"./rdata/gps_seqs/traingps\", \"rb\") as f:\n",
    "    train_gps = pickle.load(f)\n",
    "    train_gps = train_gps[0:60000]\n",
    "with open(\"./rdata/gps_seqs/valgps\", \"rb\") as f:\n",
    "    val_gps = pickle.load(f)"
   ]
  },
  {
   "cell_type": "code",
   "execution_count": 13,
   "metadata": {},
   "outputs": [
    {
     "name": "stdout",
     "output_type": "stream",
     "text": [
      "7067\n"
     ]
    },
    {
     "ename": "IndexError",
     "evalue": "Dimension out of range (expected to be in range of [-1, 0], but got 1)",
     "output_type": "error",
     "traceback": [
      "\u001b[0;31m---------------------------------------------------------------------------\u001b[0m",
      "\u001b[0;31mIndexError\u001b[0m                                Traceback (most recent call last)",
      "\u001b[0;32m/tmp/ipykernel_3603080/1613463971.py\u001b[0m in \u001b[0;36m<module>\u001b[0;34m\u001b[0m\n\u001b[1;32m      7\u001b[0m \u001b[0;31m# get the prediction result and the grid\u001b[0m\u001b[0;34m\u001b[0m\u001b[0;34m\u001b[0m\u001b[0;34m\u001b[0m\u001b[0m\n\u001b[1;32m      8\u001b[0m \u001b[0mval_emb\u001b[0m \u001b[0;34m=\u001b[0m \u001b[0mtorch\u001b[0m\u001b[0;34m.\u001b[0m\u001b[0mfrom_numpy\u001b[0m\u001b[0;34m(\u001b[0m\u001b[0mval_embs\u001b[0m\u001b[0;34m[\u001b[0m\u001b[0mchoice\u001b[0m\u001b[0;34m]\u001b[0m\u001b[0;34m)\u001b[0m\u001b[0;34m.\u001b[0m\u001b[0mfloat\u001b[0m\u001b[0;34m(\u001b[0m\u001b[0;34m)\u001b[0m\u001b[0;34m\u001b[0m\u001b[0;34m\u001b[0m\u001b[0m\n\u001b[0;32m----> 9\u001b[0;31m \u001b[0mpred_sePoints\u001b[0m \u001b[0;34m=\u001b[0m \u001b[0mmodel\u001b[0m\u001b[0;34m(\u001b[0m\u001b[0mval_emb\u001b[0m\u001b[0;34m)\u001b[0m\u001b[0;34m\u001b[0m\u001b[0;34m\u001b[0m\u001b[0m\n\u001b[0m\u001b[1;32m     10\u001b[0m \u001b[0mpred_sePoints\u001b[0m \u001b[0;34m=\u001b[0m \u001b[0mpred_sePoints\u001b[0m\u001b[0;34m.\u001b[0m\u001b[0mdetach\u001b[0m\u001b[0;34m(\u001b[0m\u001b[0;34m)\u001b[0m\u001b[0;34m.\u001b[0m\u001b[0mnumpy\u001b[0m\u001b[0;34m(\u001b[0m\u001b[0;34m)\u001b[0m\u001b[0;34m\u001b[0m\u001b[0;34m\u001b[0m\u001b[0m\n\u001b[1;32m     11\u001b[0m \u001b[0mpred_sPoint\u001b[0m \u001b[0;34m=\u001b[0m \u001b[0mnp\u001b[0m\u001b[0;34m.\u001b[0m\u001b[0marray\u001b[0m\u001b[0;34m(\u001b[0m\u001b[0;34m[\u001b[0m\u001b[0mpred_sePoints\u001b[0m\u001b[0;34m[\u001b[0m\u001b[0;36m0\u001b[0m\u001b[0;34m]\u001b[0m\u001b[0;34m,\u001b[0m \u001b[0mpred_sePoints\u001b[0m\u001b[0;34m[\u001b[0m\u001b[0;36m1\u001b[0m\u001b[0;34m]\u001b[0m\u001b[0;34m]\u001b[0m\u001b[0;34m)\u001b[0m\u001b[0;34m\u001b[0m\u001b[0;34m\u001b[0m\u001b[0m\n",
      "\u001b[0;32m~/anaconda3/envs/pytorch/lib/python3.8/site-packages/torch/nn/modules/module.py\u001b[0m in \u001b[0;36m_call_impl\u001b[0;34m(self, *input, **kwargs)\u001b[0m\n\u001b[1;32m    725\u001b[0m             \u001b[0mresult\u001b[0m \u001b[0;34m=\u001b[0m \u001b[0mself\u001b[0m\u001b[0;34m.\u001b[0m\u001b[0m_slow_forward\u001b[0m\u001b[0;34m(\u001b[0m\u001b[0;34m*\u001b[0m\u001b[0minput\u001b[0m\u001b[0;34m,\u001b[0m \u001b[0;34m**\u001b[0m\u001b[0mkwargs\u001b[0m\u001b[0;34m)\u001b[0m\u001b[0;34m\u001b[0m\u001b[0;34m\u001b[0m\u001b[0m\n\u001b[1;32m    726\u001b[0m         \u001b[0;32melse\u001b[0m\u001b[0;34m:\u001b[0m\u001b[0;34m\u001b[0m\u001b[0;34m\u001b[0m\u001b[0m\n\u001b[0;32m--> 727\u001b[0;31m             \u001b[0mresult\u001b[0m \u001b[0;34m=\u001b[0m \u001b[0mself\u001b[0m\u001b[0;34m.\u001b[0m\u001b[0mforward\u001b[0m\u001b[0;34m(\u001b[0m\u001b[0;34m*\u001b[0m\u001b[0minput\u001b[0m\u001b[0;34m,\u001b[0m \u001b[0;34m**\u001b[0m\u001b[0mkwargs\u001b[0m\u001b[0;34m)\u001b[0m\u001b[0;34m\u001b[0m\u001b[0;34m\u001b[0m\u001b[0m\n\u001b[0m\u001b[1;32m    728\u001b[0m         for hook in itertools.chain(\n\u001b[1;32m    729\u001b[0m                 \u001b[0m_global_forward_hooks\u001b[0m\u001b[0;34m.\u001b[0m\u001b[0mvalues\u001b[0m\u001b[0;34m(\u001b[0m\u001b[0;34m)\u001b[0m\u001b[0;34m,\u001b[0m\u001b[0;34m\u001b[0m\u001b[0;34m\u001b[0m\u001b[0m\n",
      "\u001b[0;32m~/RepresentAttack/inversion_sePoint/modules/models.py\u001b[0m in \u001b[0;36mforward\u001b[0;34m(self, emb)\u001b[0m\n\u001b[1;32m    118\u001b[0m         \u001b[0ms_output\u001b[0m \u001b[0;34m=\u001b[0m \u001b[0mself\u001b[0m\u001b[0;34m.\u001b[0m\u001b[0ms_net\u001b[0m\u001b[0;34m(\u001b[0m\u001b[0memb\u001b[0m\u001b[0;34m)\u001b[0m\u001b[0;34m\u001b[0m\u001b[0;34m\u001b[0m\u001b[0m\n\u001b[1;32m    119\u001b[0m         \u001b[0me_output\u001b[0m \u001b[0;34m=\u001b[0m \u001b[0mself\u001b[0m\u001b[0;34m.\u001b[0m\u001b[0me_net\u001b[0m\u001b[0;34m(\u001b[0m\u001b[0memb\u001b[0m\u001b[0;34m)\u001b[0m\u001b[0;34m\u001b[0m\u001b[0;34m\u001b[0m\u001b[0m\n\u001b[0;32m--> 120\u001b[0;31m         \u001b[0mprint\u001b[0m\u001b[0;34m(\u001b[0m\u001b[0ms_output\u001b[0m\u001b[0;34m.\u001b[0m\u001b[0mshape\u001b[0m\u001b[0;34m,\u001b[0m \u001b[0me_output\u001b[0m\u001b[0;34m.\u001b[0m\u001b[0mshape\u001b[0m\u001b[0;34m)\u001b[0m\u001b[0;34m\u001b[0m\u001b[0;34m\u001b[0m\u001b[0m\n\u001b[0m\u001b[1;32m    121\u001b[0m         \u001b[0mse_output\u001b[0m \u001b[0;34m=\u001b[0m \u001b[0mself\u001b[0m\u001b[0;34m.\u001b[0m\u001b[0mse_net\u001b[0m\u001b[0;34m(\u001b[0m\u001b[0mtorch\u001b[0m\u001b[0;34m.\u001b[0m\u001b[0mcat\u001b[0m\u001b[0;34m(\u001b[0m\u001b[0;34m(\u001b[0m\u001b[0ms_output\u001b[0m\u001b[0;34m,\u001b[0m \u001b[0me_output\u001b[0m\u001b[0;34m)\u001b[0m\u001b[0;34m,\u001b[0m \u001b[0mdim\u001b[0m \u001b[0;34m=\u001b[0m \u001b[0;34m-\u001b[0m\u001b[0;36m1\u001b[0m\u001b[0;34m)\u001b[0m\u001b[0;34m)\u001b[0m\u001b[0;34m\u001b[0m\u001b[0;34m\u001b[0m\u001b[0m\n\u001b[1;32m    122\u001b[0m         \u001b[0;32mreturn\u001b[0m \u001b[0mse_output\u001b[0m\u001b[0;34m\u001b[0m\u001b[0;34m\u001b[0m\u001b[0m\n",
      "\u001b[0;31mIndexError\u001b[0m: Dimension out of range (expected to be in range of [-1, 0], but got 1)"
     ]
    }
   ],
   "source": [
    "# get the prediction result and the ground truth and the real trajectory\n",
    "# plot all of them on a map\n",
    "\n",
    "choice = random.randint(0, len(val_embs))\n",
    "print(choice)\n",
    "\n",
    "# get the prediction result and the grid\n",
    "val_emb = torch.from_numpy(val_embs[choice]).float()\n",
    "pred_sePoints = model(val_emb)\n",
    "pred_sePoints = pred_sePoints.detach().numpy()\n",
    "pred_sPoint = np.array([pred_sePoints[0], pred_sePoints[1]])\n",
    "pred_ePoint = np.array([pred_sePoints[2], pred_sePoints[3]])\n",
    "val_grid = val_grids[choice]; grid_lenth = len(val_grid)\n",
    "grid_sPoint = val_grid[0]; grid_ePoint = val_grid[grid_lenth-1]\n",
    "\n",
    "print(pred_sPoint); print(pred_ePoint)\n",
    "print(grid_sPoint); print(grid_ePoint)"
   ]
  },
  {
   "cell_type": "code",
   "execution_count": 11,
   "metadata": {},
   "outputs": [],
   "source": [
    "# map grid to gps\n",
    "# cellnum: [57,35,1995];  the true cell_index = x + y* cellnum[0]\n",
    "# x,y need to round float to int\n",
    "\n",
    "porto_lat_range = [40.953673,41.307945]\n",
    "porto_lon_range = [-8.735152,-8.156309]\n",
    "delta = 0.002\n",
    "\n",
    "def grid2gps(grid):    # x -> lon, y -> lat\n",
    "    grid_x = grid[0]; grid_y = grid[1]\n",
    "    gps_x = porto_lon_range[0] + grid_x * delta\n",
    "    gps_y = porto_lat_range[0] + grid_y * delta\n",
    "    return [gps_x, gps_y]    # [lon, lat]\n"
   ]
  },
  {
   "cell_type": "code",
   "execution_count": null,
   "metadata": {},
   "outputs": [
    {
     "name": "stdout",
     "output_type": "stream",
     "text": [
      "[52, 87]\n",
      "[57, 85]\n",
      "[59, 97]\n",
      "[64, 97]\n",
      "[-8.631152, 41.127673]\n",
      "[-8.621151999999999, 41.123673000000004]\n",
      "[-8.617151999999999, 41.147673000000005]\n",
      "[-8.607152, 41.147673000000005]\n"
     ]
    }
   ],
   "source": [
    "pred_sPoint = pred_sPoint; pred_ePoint = pred_ePoint\n",
    "grid_sPoint = np.array(grid_sPoint); grid_ePoint = np.array(grid_ePoint)\n",
    "pred_sPoint = [round(pred_sPoint[0]), round(pred_sPoint[1])]\n",
    "pred_ePoint = [round(pred_ePoint[0]), round(pred_ePoint[1])]\n",
    "grid_sPoint = [round(grid_sPoint[0]), round(grid_sPoint[1])]\n",
    "grid_ePoint = [round(grid_ePoint[0]), round(grid_ePoint[1])]\n",
    "print(pred_sPoint); print(pred_ePoint); print(grid_sPoint); print(grid_ePoint)\n",
    "\n",
    "gps_pred_sPoint = grid2gps(pred_sPoint); gps_pred_ePoint = grid2gps(pred_ePoint)\n",
    "gps_grid_sPoint = grid2gps(grid_sPoint); gps_grid_ePoint = grid2gps(grid_ePoint)\n",
    "print(gps_pred_sPoint); print(gps_pred_ePoint); print(gps_grid_sPoint); print(gps_grid_ePoint)\n"
   ]
  },
  {
   "cell_type": "code",
   "execution_count": null,
   "metadata": {},
   "outputs": [
    {
     "data": {
      "text/html": [
       "<div style=\"width:100%;\"><div style=\"position:relative;width:100%;height:0;padding-bottom:60%;\"><span style=\"color:#565656\">Make this Notebook Trusted to load map: File -> Trust Notebook</span><iframe src=\"about:blank\" style=\"position:absolute;width:100%;height:100%;left:0;top:0;border:none !important;\" data-html=%3C%21DOCTYPE%20html%3E%0A%3Chead%3E%20%20%20%20%0A%20%20%20%20%3Cmeta%20http-equiv%3D%22content-type%22%20content%3D%22text/html%3B%20charset%3DUTF-8%22%20/%3E%0A%20%20%20%20%0A%20%20%20%20%20%20%20%20%3Cscript%3E%0A%20%20%20%20%20%20%20%20%20%20%20%20L_NO_TOUCH%20%3D%20false%3B%0A%20%20%20%20%20%20%20%20%20%20%20%20L_DISABLE_3D%20%3D%20false%3B%0A%20%20%20%20%20%20%20%20%3C/script%3E%0A%20%20%20%20%0A%20%20%20%20%3Cstyle%3Ehtml%2C%20body%20%7Bwidth%3A%20100%25%3Bheight%3A%20100%25%3Bmargin%3A%200%3Bpadding%3A%200%3B%7D%3C/style%3E%0A%20%20%20%20%3Cstyle%3E%23map%20%7Bposition%3Aabsolute%3Btop%3A0%3Bbottom%3A0%3Bright%3A0%3Bleft%3A0%3B%7D%3C/style%3E%0A%20%20%20%20%3Cscript%20src%3D%22https%3A//cdn.jsdelivr.net/npm/leaflet%401.6.0/dist/leaflet.js%22%3E%3C/script%3E%0A%20%20%20%20%3Cscript%20src%3D%22https%3A//code.jquery.com/jquery-1.12.4.min.js%22%3E%3C/script%3E%0A%20%20%20%20%3Cscript%20src%3D%22https%3A//maxcdn.bootstrapcdn.com/bootstrap/3.2.0/js/bootstrap.min.js%22%3E%3C/script%3E%0A%20%20%20%20%3Cscript%20src%3D%22https%3A//cdnjs.cloudflare.com/ajax/libs/Leaflet.awesome-markers/2.0.2/leaflet.awesome-markers.js%22%3E%3C/script%3E%0A%20%20%20%20%3Clink%20rel%3D%22stylesheet%22%20href%3D%22https%3A//cdn.jsdelivr.net/npm/leaflet%401.6.0/dist/leaflet.css%22/%3E%0A%20%20%20%20%3Clink%20rel%3D%22stylesheet%22%20href%3D%22https%3A//maxcdn.bootstrapcdn.com/bootstrap/3.2.0/css/bootstrap.min.css%22/%3E%0A%20%20%20%20%3Clink%20rel%3D%22stylesheet%22%20href%3D%22https%3A//maxcdn.bootstrapcdn.com/bootstrap/3.2.0/css/bootstrap-theme.min.css%22/%3E%0A%20%20%20%20%3Clink%20rel%3D%22stylesheet%22%20href%3D%22https%3A//maxcdn.bootstrapcdn.com/font-awesome/4.6.3/css/font-awesome.min.css%22/%3E%0A%20%20%20%20%3Clink%20rel%3D%22stylesheet%22%20href%3D%22https%3A//cdnjs.cloudflare.com/ajax/libs/Leaflet.awesome-markers/2.0.2/leaflet.awesome-markers.css%22/%3E%0A%20%20%20%20%3Clink%20rel%3D%22stylesheet%22%20href%3D%22https%3A//cdn.jsdelivr.net/gh/python-visualization/folium/folium/templates/leaflet.awesome.rotate.min.css%22/%3E%0A%20%20%20%20%0A%20%20%20%20%20%20%20%20%20%20%20%20%3Cmeta%20name%3D%22viewport%22%20content%3D%22width%3Ddevice-width%2C%0A%20%20%20%20%20%20%20%20%20%20%20%20%20%20%20%20initial-scale%3D1.0%2C%20maximum-scale%3D1.0%2C%20user-scalable%3Dno%22%20/%3E%0A%20%20%20%20%20%20%20%20%20%20%20%20%3Cstyle%3E%0A%20%20%20%20%20%20%20%20%20%20%20%20%20%20%20%20%23map_78f21bcafe664328bfaf32582fac8b3c%20%7B%0A%20%20%20%20%20%20%20%20%20%20%20%20%20%20%20%20%20%20%20%20position%3A%20relative%3B%0A%20%20%20%20%20%20%20%20%20%20%20%20%20%20%20%20%20%20%20%20width%3A%20100.0%25%3B%0A%20%20%20%20%20%20%20%20%20%20%20%20%20%20%20%20%20%20%20%20height%3A%20100.0%25%3B%0A%20%20%20%20%20%20%20%20%20%20%20%20%20%20%20%20%20%20%20%20left%3A%200.0%25%3B%0A%20%20%20%20%20%20%20%20%20%20%20%20%20%20%20%20%20%20%20%20top%3A%200.0%25%3B%0A%20%20%20%20%20%20%20%20%20%20%20%20%20%20%20%20%7D%0A%20%20%20%20%20%20%20%20%20%20%20%20%3C/style%3E%0A%20%20%20%20%20%20%20%20%0A%3C/head%3E%0A%3Cbody%3E%20%20%20%20%0A%20%20%20%20%0A%20%20%20%20%20%20%20%20%20%20%20%20%3Cdiv%20class%3D%22folium-map%22%20id%3D%22map_78f21bcafe664328bfaf32582fac8b3c%22%20%3E%3C/div%3E%0A%20%20%20%20%20%20%20%20%0A%3C/body%3E%0A%3Cscript%3E%20%20%20%20%0A%20%20%20%20%0A%20%20%20%20%20%20%20%20%20%20%20%20var%20map_78f21bcafe664328bfaf32582fac8b3c%20%3D%20L.map%28%0A%20%20%20%20%20%20%20%20%20%20%20%20%20%20%20%20%22map_78f21bcafe664328bfaf32582fac8b3c%22%2C%0A%20%20%20%20%20%20%20%20%20%20%20%20%20%20%20%20%7B%0A%20%20%20%20%20%20%20%20%20%20%20%20%20%20%20%20%20%20%20%20center%3A%20%5B40.953673%2C%20-8.735152%5D%2C%0A%20%20%20%20%20%20%20%20%20%20%20%20%20%20%20%20%20%20%20%20crs%3A%20L.CRS.EPSG3857%2C%0A%20%20%20%20%20%20%20%20%20%20%20%20%20%20%20%20%20%20%20%20zoom%3A%2015%2C%0A%20%20%20%20%20%20%20%20%20%20%20%20%20%20%20%20%20%20%20%20zoomControl%3A%20true%2C%0A%20%20%20%20%20%20%20%20%20%20%20%20%20%20%20%20%20%20%20%20preferCanvas%3A%20false%2C%0A%20%20%20%20%20%20%20%20%20%20%20%20%20%20%20%20%7D%0A%20%20%20%20%20%20%20%20%20%20%20%20%29%3B%0A%0A%20%20%20%20%20%20%20%20%20%20%20%20%0A%0A%20%20%20%20%20%20%20%20%0A%20%20%20%20%0A%20%20%20%20%20%20%20%20%20%20%20%20var%20tile_layer_248da445a63e46ad9ae66b96c681e4c8%20%3D%20L.tileLayer%28%0A%20%20%20%20%20%20%20%20%20%20%20%20%20%20%20%20%22https%3A//%7Bs%7D.tile.openstreetmap.org/%7Bz%7D/%7Bx%7D/%7By%7D.png%22%2C%0A%20%20%20%20%20%20%20%20%20%20%20%20%20%20%20%20%7B%22attribution%22%3A%20%22Data%20by%20%5Cu0026copy%3B%20%5Cu003ca%20href%3D%5C%22http%3A//openstreetmap.org%5C%22%5Cu003eOpenStreetMap%5Cu003c/a%5Cu003e%2C%20under%20%5Cu003ca%20href%3D%5C%22http%3A//www.openstreetmap.org/copyright%5C%22%5Cu003eODbL%5Cu003c/a%5Cu003e.%22%2C%20%22detectRetina%22%3A%20false%2C%20%22maxNativeZoom%22%3A%2018%2C%20%22maxZoom%22%3A%2018%2C%20%22minZoom%22%3A%200%2C%20%22noWrap%22%3A%20false%2C%20%22opacity%22%3A%201%2C%20%22subdomains%22%3A%20%22abc%22%2C%20%22tms%22%3A%20false%7D%0A%20%20%20%20%20%20%20%20%20%20%20%20%29.addTo%28map_78f21bcafe664328bfaf32582fac8b3c%29%3B%0A%20%20%20%20%20%20%20%20%0A%20%20%20%20%0A%20%20%20%20%20%20%20%20%20%20%20%20var%20circle_marker_d286f72e00fa4e5c9752a112df7993b6%20%3D%20L.circleMarker%28%0A%20%20%20%20%20%20%20%20%20%20%20%20%20%20%20%20%5B41.127673%2C%20-8.631152%5D%2C%0A%20%20%20%20%20%20%20%20%20%20%20%20%20%20%20%20%7B%22bubblingMouseEvents%22%3A%20true%2C%20%22color%22%3A%20%22red%22%2C%20%22dashArray%22%3A%20null%2C%20%22dashOffset%22%3A%20null%2C%20%22fill%22%3A%20true%2C%20%22fillColor%22%3A%20%22red%22%2C%20%22fillOpacity%22%3A%200.2%2C%20%22fillRule%22%3A%20%22evenodd%22%2C%20%22lineCap%22%3A%20%22round%22%2C%20%22lineJoin%22%3A%20%22round%22%2C%20%22opacity%22%3A%201.0%2C%20%22radius%22%3A%205%2C%20%22stroke%22%3A%20true%2C%20%22weight%22%3A%203%7D%0A%20%20%20%20%20%20%20%20%20%20%20%20%29.addTo%28map_78f21bcafe664328bfaf32582fac8b3c%29%3B%0A%20%20%20%20%20%20%20%20%0A%20%20%20%20%0A%20%20%20%20%20%20%20%20%20%20%20%20var%20circle_marker_e4cf4ab2c6be4cd2a270918770db6dc5%20%3D%20L.circleMarker%28%0A%20%20%20%20%20%20%20%20%20%20%20%20%20%20%20%20%5B41.123673000000004%2C%20-8.621151999999999%5D%2C%0A%20%20%20%20%20%20%20%20%20%20%20%20%20%20%20%20%7B%22bubblingMouseEvents%22%3A%20true%2C%20%22color%22%3A%20%22red%22%2C%20%22dashArray%22%3A%20null%2C%20%22dashOffset%22%3A%20null%2C%20%22fill%22%3A%20true%2C%20%22fillColor%22%3A%20%22red%22%2C%20%22fillOpacity%22%3A%200.2%2C%20%22fillRule%22%3A%20%22evenodd%22%2C%20%22lineCap%22%3A%20%22round%22%2C%20%22lineJoin%22%3A%20%22round%22%2C%20%22opacity%22%3A%201.0%2C%20%22radius%22%3A%205%2C%20%22stroke%22%3A%20true%2C%20%22weight%22%3A%203%7D%0A%20%20%20%20%20%20%20%20%20%20%20%20%29.addTo%28map_78f21bcafe664328bfaf32582fac8b3c%29%3B%0A%20%20%20%20%20%20%20%20%0A%20%20%20%20%0A%20%20%20%20%20%20%20%20%20%20%20%20var%20circle_marker_d4c483a83196413e9edf2244bdc0ae90%20%3D%20L.circleMarker%28%0A%20%20%20%20%20%20%20%20%20%20%20%20%20%20%20%20%5B41.147673000000005%2C%20-8.617151999999999%5D%2C%0A%20%20%20%20%20%20%20%20%20%20%20%20%20%20%20%20%7B%22bubblingMouseEvents%22%3A%20true%2C%20%22color%22%3A%20%22blue%22%2C%20%22dashArray%22%3A%20null%2C%20%22dashOffset%22%3A%20null%2C%20%22fill%22%3A%20true%2C%20%22fillColor%22%3A%20%22blue%22%2C%20%22fillOpacity%22%3A%200.2%2C%20%22fillRule%22%3A%20%22evenodd%22%2C%20%22lineCap%22%3A%20%22round%22%2C%20%22lineJoin%22%3A%20%22round%22%2C%20%22opacity%22%3A%201.0%2C%20%22radius%22%3A%205%2C%20%22stroke%22%3A%20true%2C%20%22weight%22%3A%203%7D%0A%20%20%20%20%20%20%20%20%20%20%20%20%29.addTo%28map_78f21bcafe664328bfaf32582fac8b3c%29%3B%0A%20%20%20%20%20%20%20%20%0A%20%20%20%20%0A%20%20%20%20%20%20%20%20%20%20%20%20var%20circle_marker_46848b9ae7bf48a4af24eec73e2d3708%20%3D%20L.circleMarker%28%0A%20%20%20%20%20%20%20%20%20%20%20%20%20%20%20%20%5B41.147673000000005%2C%20-8.607152%5D%2C%0A%20%20%20%20%20%20%20%20%20%20%20%20%20%20%20%20%7B%22bubblingMouseEvents%22%3A%20true%2C%20%22color%22%3A%20%22blue%22%2C%20%22dashArray%22%3A%20null%2C%20%22dashOffset%22%3A%20null%2C%20%22fill%22%3A%20true%2C%20%22fillColor%22%3A%20%22blue%22%2C%20%22fillOpacity%22%3A%200.2%2C%20%22fillRule%22%3A%20%22evenodd%22%2C%20%22lineCap%22%3A%20%22round%22%2C%20%22lineJoin%22%3A%20%22round%22%2C%20%22opacity%22%3A%201.0%2C%20%22radius%22%3A%205%2C%20%22stroke%22%3A%20true%2C%20%22weight%22%3A%203%7D%0A%20%20%20%20%20%20%20%20%20%20%20%20%29.addTo%28map_78f21bcafe664328bfaf32582fac8b3c%29%3B%0A%20%20%20%20%20%20%20%20%0A%20%20%20%20%0A%20%20%20%20%20%20%20%20%20%20%20%20var%20poly_line_6a884b17d0c3485087f6aed10ff6b1d5%20%3D%20L.polyline%28%0A%20%20%20%20%20%20%20%20%20%20%20%20%20%20%20%20%5B%5B41.147982%2C%20-8.619822%5D%2C%20%5B41.148%2C%20-8.619867%5D%2C%20%5B41.147523%2C%20-8.620281%5D%2C%20%5B41.147397%2C%20-8.620389%5D%2C%20%5B41.147397%2C%20-8.62038%5D%2C%20%5B41.147406%2C%20-8.620353%5D%2C%20%5B41.147406%2C%20-8.620344%5D%2C%20%5B41.14665%2C%20-8.62029%5D%2C%20%5B41.146677%2C%20-8.620353%5D%2C%20%5B41.146677%2C%20-8.620407%5D%2C%20%5B41.14665%2C%20-8.620407%5D%2C%20%5B41.14611%2C%20-8.620128%5D%2C%20%5B41.146209%2C%20-8.618922%5D%2C%20%5B41.146362%2C%20-8.617869%5D%2C%20%5B41.145282%2C%20-8.61741%5D%2C%20%5B41.14512%2C%20-8.61633%5D%2C%20%5B41.145759%2C%20-8.614854%5D%2C%20%5B41.14602%2C%20-8.613738%5D%2C%20%5B41.145921%2C%20-8.613549%5D%2C%20%5B41.145894%2C%20-8.613351%5D%2C%20%5B41.145975%2C%20-8.612595%5D%2C%20%5B41.146011%2C%20-8.612235%5D%2C%20%5B41.146002%2C%20-8.61219%5D%2C%20%5B41.146011%2C%20-8.612028%5D%2C%20%5B41.146371%2C%20-8.6112%5D%2C%20%5B41.147694%2C%20-8.611002%5D%2C%20%5B41.14881%2C%20-8.610561%5D%2C%20%5B41.150142%2C%20-8.61021%5D%2C%20%5B41.151051%2C%20-8.609814%5D%2C%20%5B41.151609%2C%20-8.60949%5D%2C%20%5B41.152545%2C%20-8.609985%5D%2C%20%5B41.153445%2C%20-8.610003%5D%2C%20%5B41.153472%2C%20-8.609922%5D%2C%20%5B41.1543%2C%20-8.609598%5D%2C%20%5B41.154651%2C%20-8.609301%5D%2C%20%5B41.155299%2C%20-8.609202%5D%2C%20%5B41.156883%2C%20-8.609202%5D%2C%20%5B41.158098%2C%20-8.608815%5D%2C%20%5B41.159322%2C%20-8.608248%5D%2C%20%5B41.160465%2C%20-8.607726%5D%2C%20%5B41.16105%2C%20-8.60742%5D%2C%20%5B41.16141%2C%20-8.607231%5D%2C%20%5B41.16141%2C%20-8.60724%5D%2C%20%5B41.161392%2C%20-8.607222%5D%2C%20%5B41.162067%2C%20-8.606862%5D%2C%20%5B41.162067%2C%20-8.606862%5D%2C%20%5B41.162058%2C%20-8.606844%5D%2C%20%5B41.162067%2C%20-8.606844%5D%2C%20%5B41.162058%2C%20-8.606844%5D%2C%20%5B41.162211%2C%20-8.606979%5D%2C%20%5B41.162382%2C%20-8.608518%5D%2C%20%5B41.1624%2C%20-8.608824%5D%2C%20%5B41.162427%2C%20-8.608824%5D%2C%20%5B41.162463%2C%20-8.608977%5D%2C%20%5B41.162445%2C%20-8.609013%5D%2C%20%5B41.162445%2C%20-8.609022%5D%2C%20%5B41.162445%2C%20-8.609031%5D%2C%20%5B41.162454%2C%20-8.609004%5D%5D%2C%0A%20%20%20%20%20%20%20%20%20%20%20%20%20%20%20%20%7B%22bubblingMouseEvents%22%3A%20true%2C%20%22color%22%3A%20%22purple%22%2C%20%22dashArray%22%3A%20null%2C%20%22dashOffset%22%3A%20null%2C%20%22fill%22%3A%20false%2C%20%22fillColor%22%3A%20%22purple%22%2C%20%22fillOpacity%22%3A%200.2%2C%20%22fillRule%22%3A%20%22evenodd%22%2C%20%22lineCap%22%3A%20%22round%22%2C%20%22lineJoin%22%3A%20%22round%22%2C%20%22noClip%22%3A%20false%2C%20%22opacity%22%3A%200.6%2C%20%22smoothFactor%22%3A%201.0%2C%20%22stroke%22%3A%20true%2C%20%22weight%22%3A%2015%7D%0A%20%20%20%20%20%20%20%20%20%20%20%20%29.addTo%28map_78f21bcafe664328bfaf32582fac8b3c%29%3B%0A%20%20%20%20%20%20%20%20%0A%3C/script%3E onload=\"this.contentDocument.open();this.contentDocument.write(    decodeURIComponent(this.getAttribute('data-html')));this.contentDocument.close();\" allowfullscreen webkitallowfullscreen mozallowfullscreen></iframe></div></div>"
      ],
      "text/plain": [
       "<folium.folium.Map at 0x7f2de05fb700>"
      ]
     },
     "execution_count": 7,
     "metadata": {},
     "output_type": "execute_result"
    }
   ],
   "source": [
    "my_map = folium.Map(location=[40.953673,-8.735152], zoom_start=15)\n",
    "folium.CircleMarker(location=[gps_pred_sPoint[1],gps_pred_sPoint[0]], radius=5, color='red', fill=True).add_to(my_map)\n",
    "folium.CircleMarker(location=[gps_pred_ePoint[1],gps_pred_ePoint[0]], radius=5, color='red', fill=True).add_to(my_map)\n",
    "folium.CircleMarker(location=[gps_grid_sPoint[1],gps_grid_sPoint[0]], radius=5, color='blue', fill=True).add_to(my_map)\n",
    "folium.CircleMarker(location=[gps_grid_ePoint[1],gps_grid_ePoint[0]], radius=5, color='blue', fill=True).add_to(my_map)\n",
    "\n",
    "# plot the real trajectory\n",
    "gps_train = train_gps[choice][:,[1,0]]\n",
    "folium.PolyLine(gps_train, color=\"purple\", weight=15, opacity=0.6).add_to(my_map)\n",
    "\n",
    "my_map.save(\"./results/plot1.html\")\n",
    "my_map"
   ]
  },
  {
   "cell_type": "code",
   "execution_count": null,
   "metadata": {},
   "outputs": [],
   "source": []
  }
 ],
 "metadata": {
  "kernelspec": {
   "display_name": "pytorch",
   "language": "python",
   "name": "python3"
  },
  "language_info": {
   "codemirror_mode": {
    "name": "ipython",
    "version": 3
   },
   "file_extension": ".py",
   "mimetype": "text/x-python",
   "name": "python",
   "nbconvert_exporter": "python",
   "pygments_lexer": "ipython3",
   "version": "3.8.10"
  }
 },
 "nbformat": 4,
 "nbformat_minor": 2
}
