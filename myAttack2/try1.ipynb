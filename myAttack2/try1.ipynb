{
 "cells": [
  {
   "cell_type": "code",
   "execution_count": 11,
   "metadata": {},
   "outputs": [],
   "source": [
    "import os\n",
    "import numpy as np\n",
    "import _pickle as cPickle"
   ]
  },
  {
   "cell_type": "code",
   "execution_count": 2,
   "metadata": {},
   "outputs": [],
   "source": [
    "data_path = '/home/yangshuaiyu6791/RepresentAttack/myAttack2/r_data/'"
   ]
  },
  {
   "cell_type": "code",
   "execution_count": 8,
   "metadata": {},
   "outputs": [],
   "source": [
    "with open(data_path + 'embeddings/neutraj/128/neutraj_train', 'rb') as f:\n",
    "    rtrain_embs = cPickle.load(f)\n",
    "with open(data_path + 'embeddings/neutraj/128/neutraj_test', 'rb') as f:\n",
    "    rtest_embs = cPickle.load(f)\n",
    "with open(data_path + 'embeddings/neutraj/128/neutraj_val', 'rb') as f:\n",
    "    rval_embs = cPickle.load(f)\n",
    "\n",
    "with open(data_path + 'gps_seqs/traingps', 'rb') as f:\n",
    "    rtrain_traj = cPickle.load(f)\n",
    "with open(data_path + 'gps_seqs/testgps', 'rb') as f:\n",
    "    rtest_traj = cPickle.load(f)\n",
    "with open(data_path + 'gps_seqs/valgps', 'rb') as f:\n",
    "    rval_traj = cPickle.load(f)"
   ]
  },
  {
   "cell_type": "markdown",
   "metadata": {},
   "source": [
    "### data shape\n",
    "    rtrain_embeddings.shape: (180000, 128)    rtrain_traj.shape: (180000, traj_len, 2)\n",
    "    rtest_embeddings.shape: (10000, 128)    rtest_traj.shape: (10000, traj_len, 2)\n",
    "    rval_embeddings.shape: (180000,)    rval_traj.shape: (10000, traj_len, 2)"
   ]
  },
  {
   "cell_type": "code",
   "execution_count": 13,
   "metadata": {},
   "outputs": [
    {
     "name": "stdout",
     "output_type": "stream",
     "text": [
      "(180000, 128) (10000, 128) (10000, 128)\n",
      "(180000,) (10000,) (10000,)\n",
      "(38, 2) (128,)\n",
      "(88, 2) (128,)\n",
      "(34, 2) (128,)\n",
      "(29, 2) (128,)\n",
      "(35, 2) (128,)\n",
      "(37, 2) (128,)\n",
      "(38, 2) (128,)\n",
      "(55, 2) (128,)\n",
      "(73, 2) (128,)\n",
      "(51, 2) (128,)\n"
     ]
    },
    {
     "name": "stderr",
     "output_type": "stream",
     "text": [
      "/home/yangshuaiyu6791/anaconda3/envs/pytorch/lib/python3.8/site-packages/numpy/core/fromnumeric.py:2007: VisibleDeprecationWarning: Creating an ndarray from ragged nested sequences (which is a list-or-tuple of lists-or-tuples-or ndarrays with different lengths or shapes) is deprecated. If you meant to do this, you must specify 'dtype=object' when creating the ndarray.\n",
      "  result = asarray(a).shape\n"
     ]
    }
   ],
   "source": [
    "print(rtrain_embs.shape, rtest_embs.shape, rval_embs.shape)\n",
    "print(np.shape(rtrain_traj), np.shape(rtest_traj), np.shape(rval_traj))\n",
    "for i in range(10):\n",
    "    print(np.shape(rtrain_traj[i]), np.shape(rtrain_embs[i]))"
   ]
  },
  {
   "cell_type": "code",
   "execution_count": null,
   "metadata": {},
   "outputs": [],
   "source": []
  }
 ],
 "metadata": {
  "kernelspec": {
   "display_name": "pytorch",
   "language": "python",
   "name": "python3"
  },
  "language_info": {
   "codemirror_mode": {
    "name": "ipython",
    "version": 3
   },
   "file_extension": ".py",
   "mimetype": "text/x-python",
   "name": "python",
   "nbconvert_exporter": "python",
   "pygments_lexer": "ipython3",
   "version": "3.8.10"
  }
 },
 "nbformat": 4,
 "nbformat_minor": 2
}
