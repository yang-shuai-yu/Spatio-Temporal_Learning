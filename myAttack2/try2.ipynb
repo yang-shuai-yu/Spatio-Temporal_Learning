{
 "cells": [
  {
   "cell_type": "code",
   "execution_count": 1,
   "metadata": {},
   "outputs": [],
   "source": [
    "import os, sys\n",
    "import numpy as np\n",
    "import pickle\n",
    "import matplotlib.pyplot as plt"
   ]
  },
  {
   "cell_type": "code",
   "execution_count": 4,
   "metadata": {},
   "outputs": [],
   "source": [
    "os.getcwd()\n",
    "with open('./r_data/gps_seqs/testgps', 'rb') as f:\n",
    "    gps_seqs = pickle.load(f)"
   ]
  },
  {
   "cell_type": "code",
   "execution_count": 8,
   "metadata": {},
   "outputs": [
    {
     "name": "stdout",
     "output_type": "stream",
     "text": [
      "[-8.574984 41.166054]\n"
     ]
    }
   ],
   "source": [
    "np.shape(gps_seqs[0][0])\n",
    "print(gps_seqs[0][0])    # (lon,lat)"
   ]
  },
  {
   "cell_type": "code",
   "execution_count": 12,
   "metadata": {},
   "outputs": [],
   "source": [
    "# rewrite the gps_seqs as another format\n",
    "# Path: ./r_data/other_format_seqs/other_testseqs\n",
    "# (lon,lat) -> (x,y) Just for test, transform straightly\n",
    "\n",
    "with open('./r_data/other_fomat_seqs/other_testseqs', 'w') as f:\n",
    "    for i, seq in enumerate(gps_seqs):\n",
    "        f.write('#' + str(i) + ':\\n')\n",
    "        f.write('>0:')\n",
    "        for j, point in enumerate(seq):\n",
    "            f.write(str(point[0]) + ',' + str(point[1]) + ';')\n",
    "        f.write('\\n')\n",
    "    f.close()"
   ]
  },
  {
   "cell_type": "code",
   "execution_count": 16,
   "metadata": {},
   "outputs": [
    {
     "name": "stdout",
     "output_type": "stream",
     "text": [
      "20000\n",
      ">0:-8.622225,41.147559;-8.622234,41.14755;-8.622234,41.14755;-8.622216,41.147604;-8.62218,41.147649;-8.622531,41.147757;-8.623053,41.14791;-8.624718,41.148441;-8.625636,41.149701;-8.625834,41.151591;-8.626311,41.152662;-8.627211,41.152446;-8.630415,41.152644;-8.6319,41.152716;-8.633952,41.152554;-8.635725,41.152455;-8.636805,41.15268;-8.638236,41.153004;-8.639271,41.153256;-8.641206,41.153733;-8.642043,41.153976;-8.642097,41.153985;-8.643519,41.154399;-8.645706,41.154435;-8.647938,41.154264;-8.64801,41.154273;-8.648019,41.154264;-8.648037,41.154264;-8.649378,41.154165;-8.650341,41.15376;-8.64999,41.153283;-8.64999,41.153256;-8.649981,41.153274;-8.649882,41.153058;\n",
      "\n"
     ]
    }
   ],
   "source": [
    "with open('./r_data/other_fomat_seqs/other_testseqs', 'r' ) as f:\n",
    "    file = f.readlines()\n",
    "print(len(file))\n",
    "print(file[19999])"
   ]
  },
  {
   "cell_type": "code",
   "execution_count": null,
   "metadata": {},
   "outputs": [],
   "source": []
  }
 ],
 "metadata": {
  "kernelspec": {
   "display_name": "pytorch",
   "language": "python",
   "name": "python3"
  },
  "language_info": {
   "codemirror_mode": {
    "name": "ipython",
    "version": 3
   },
   "file_extension": ".py",
   "mimetype": "text/x-python",
   "name": "python",
   "nbconvert_exporter": "python",
   "pygments_lexer": "ipython3",
   "version": "3.8.10"
  }
 },
 "nbformat": 4,
 "nbformat_minor": 2
}
