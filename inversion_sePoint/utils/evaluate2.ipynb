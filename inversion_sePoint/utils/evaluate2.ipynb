{
 "cells": [
  {
   "cell_type": "code",
   "execution_count": 1,
   "metadata": {},
   "outputs": [],
   "source": [
    "import os, pickle, random\n",
    "import numpy as np\n",
    "import torch"
   ]
  },
  {
   "cell_type": "code",
   "execution_count": 2,
   "metadata": {},
   "outputs": [
    {
     "name": "stdout",
     "output_type": "stream",
     "text": [
      "/home/yangshuaiyu6791/RepresentAttack/inversion_sePoint\n"
     ]
    }
   ],
   "source": [
    "# change the current directory to the father directory of this file\n",
    "os.chdir(os.path.dirname(os.path.dirname(os.path.realpath('evaluate2.ipynb'))))\n",
    "print(os.getcwd())"
   ]
  },
  {
   "cell_type": "code",
   "execution_count": 6,
   "metadata": {},
   "outputs": [],
   "source": [
    "from modules.models import sPoints_net, ePoints_net, se_net\n",
    "from DataLoader.dataloader import TrajDataset\n",
    "emb_dim = 128\n",
    "emb_model = 'neutraj'\n",
    "\n",
    "# load data\n",
    "with open(\"./data/{}/{}/train/train_data\".format(emb_model, emb_dim), \"rb\") as f:\n",
    "    tmp_embs = pickle.load(f)\n",
    "    train_embs = tmp_embs['embs']\n",
    "with open(\"./data/{}/{}/train/train_grid\".format(emb_model, emb_dim), \"rb\") as f:\n",
    "    train_grids = pickle.load(f)\n",
    "\n",
    "with open(\"./data/{}/{}/val/val_data\".format(emb_model, emb_dim), \"rb\") as f:\n",
    "    tmp_embs = pickle.load(f)\n",
    "    val_embs = tmp_embs['embs']\n",
    "with open(\"./data/{}/{}/val/val_grid\".format(emb_model, emb_dim), \"rb\") as f:\n",
    "    val_grids = pickle.load(f)\n",
    "    \n",
    "with open(\"./rdata/gps_seqs/traingps\", \"rb\") as f:\n",
    "    train_gps = pickle.load(f)\n",
    "    train_gps = train_gps[0:60000]\n",
    "with open(\"./rdata/gps_seqs/valgps\", \"rb\") as f:\n",
    "    val_gps = pickle.load(f)"
   ]
  },
  {
   "cell_type": "code",
   "execution_count": 7,
   "metadata": {},
   "outputs": [
    {
     "data": {
      "text/plain": [
       "<All keys matched successfully>"
      ]
     },
     "execution_count": 7,
     "metadata": {},
     "output_type": "execute_result"
    }
   ],
   "source": [
    "# load pth\n",
    "# delta = 0.001, emb_model = neutraj, embedding dim = emb_dim, hidden dim = 512\n",
    "\n",
    "model = se_net(emb_dim, 512)\n",
    "params = torch.load('./models/d0_001_train_sePoints_{}_{}_{}.pth'.format(emb_model, emb_dim, 512))\n",
    "model.load_state_dict(params)"
   ]
  },
  {
   "cell_type": "code",
   "execution_count": 12,
   "metadata": {},
   "outputs": [],
   "source": [
    "# calculate the distance between two points with longitude and latitude\n",
    "def distance(lat1, lon1, lat2, lon2):\n",
    "    R = 6371.004    # km\n",
    "    pi = 3.1415926\n",
    "    dlat = (lat2 - lat1) * pi / 180\n",
    "    dlon = (lon2 - lon1) * pi / 180\n",
    "    a = np.sin(dlat / 2) * np.sin(dlat / 2) + np.cos(lat1 * pi / 180) * np.cos(lat2 * pi / 180) * np.sin(dlon / 2) * np.sin(dlon / 2)\n",
    "    c = 2 * np.arctan2(np.sqrt(a), np.sqrt(1 - a))\n",
    "    d = R * c\n",
    "    return d\n",
    "\n",
    "# transform the cell x,y to lon, lat\n",
    "porto_lat_range = [40.953673,41.307945]\n",
    "porto_lon_range = [-8.735152,-8.156309]\n",
    "delta = 0.001\n",
    "\n",
    "def grid2gps(grid):    # x -> lon, y -> lat\n",
    "    grid_x = grid[0]; grid_y = grid[1]\n",
    "    gps_x = porto_lon_range[0] + grid_x * delta\n",
    "    gps_y = porto_lat_range[0] + grid_y * delta\n",
    "    return [gps_x, gps_y]    # [lon, lat]"
   ]
  },
  {
   "cell_type": "code",
   "execution_count": 16,
   "metadata": {},
   "outputs": [
    {
     "name": "stdout",
     "output_type": "stream",
     "text": [
      "[array([-8.608707, 41.157396]), array([-8.585658, 41.148504]), array([-8.58564 , 41.148486]), array([-8.604135, 41.14539 ]), array([-8.61102 , 41.147136]), array([-8.608752, 41.147712]), array([-8.60283 , 41.179617]), array([-8.663715, 41.177187]), array([-8.612595, 41.146101]), array([-8.609895, 41.15304 ]), array([-8.614836, 41.123799]), array([-8.600022, 41.182668]), array([-8.615484, 41.140962]), array([-8.656803, 41.161482]), array([-8.585658, 41.14854 ]), array([-8.628516, 41.155173]), array([-8.582355, 41.180427]), array([-8.64747 , 41.150781]), array([-8.597151, 41.156586]), array([-8.617545, 41.146164]), array([-8.612127, 41.172813]), array([-8.613225, 41.166792]), array([-8.619822, 41.148045]), array([-8.679978, 41.156523]), array([-8.628264, 41.157684]), array([-8.616798, 41.173317]), array([-8.627148, 41.15205 ]), array([-8.599959, 41.182641]), array([-8.612073, 41.148738]), array([-8.591355, 41.162742]), array([-8.611308, 41.149314]), array([-8.61984 , 41.148036]), array([-8.67375 , 41.149656]), array([-8.585793, 41.148927]), array([-8.555427, 41.215887]), array([-8.610903, 41.149422]), array([-8.620929, 41.16096 ]), array([-8.610849, 41.147991]), array([-8.566758, 41.166378]), array([-8.627103, 41.151942])]\n",
      "[[[-8.61909657244873, 41.150553340576174], [-8.642402457763671, 41.13479087414551]], [[-8.596635032226562, 41.1402039753418], [-8.638276633789062, 41.13590720715332]], [[-8.596171622802734, 41.14052984204102], [-8.639573325683592, 41.13253660168457]], [[-8.617494399597167, 41.13616469921875], [-8.597143012573241, 41.12965620007324]], [[-8.620927146484375, 41.140123317382816], [-8.647077506591796, 41.141527415893556]], [[-8.621213210632323, 41.13891277661133], [-8.627198768188476, 41.148238505981446]], [[-8.614053306152343, 41.17337313427735], [-8.662989036132812, 41.16069840588379]], [[-8.668023490478515, 41.17009618725586], [-8.628669959594726, 41.13577950634766]], [[-8.622889907409668, 41.13875402416993], [-8.634565421630858, 41.1346748157959]], [[-8.62065637927246, 41.14577230419922], [-8.630104781677245, 41.130311656616215]], [[-8.62438080554199, 41.11687313427735], [-8.624585616638184, 41.13037421765137]], [[-8.613766791870116, 41.16865179028321], [-8.620718802978516, 41.219787654541015]], [[-8.621368125488281, 41.136423610351564], [-8.658966476013182, 41.11883890881348]], [[-8.66263467364502, 41.15348641552735], [-8.6066658092041, 41.13311848034668]], [[-8.59705319934082, 41.13981856884766], [-8.627505225708008, 41.13044910778809]], [[-8.635345733215331, 41.14866472973633], [-8.64212236743164, 41.13019730725098]], [[-8.598128272583008, 41.17095537915039], [-8.609210364868163, 41.139758586547856]], [[-8.656839049865722, 41.13409344067383], [-8.562714759399414, 41.20857010998535]], [[-8.608396331359863, 41.148766017578126], [-8.638093299438475, 41.13809653820801]], [[-8.628029906799316, 41.1387728840332], [-8.633370368530272, 41.137470851562504]], [[-8.623402381469726, 41.16621844067383], [-8.634724425842284, 41.12897162976074]], [[-8.620727630187988, 41.16288701977539], [-8.674248366882324, 41.13916958203125]], [[-8.630224257995605, 41.14071963085938], [-8.625278449584961, 41.12996230664063]], [[-8.680668410827636, 41.14968685498047], [-8.63295928149414, 41.13579160656739]], [[-8.634751250793457, 41.150895930908206], [-8.63103269152832, 41.1250290333252]], [[-8.62554563861084, 41.16860467114258], [-8.675507712890624, 41.15369974865723]], [[-8.631607291748047, 41.145161098144534], [-8.694146934082031, 41.188854594848635]], [[-8.613023528625488, 41.17550521435547], [-8.627827605773925, 41.127675914428714]], [[-8.622382056762694, 41.13928939404297], [-8.679768367340086, 41.210865718505865]], [[-8.604684836914062, 41.153785792968755], [-8.633151298095703, 41.152051158569336]], [[-8.62192592578125, 41.14185537304688], [-8.64019660144043, 41.142991420410155]], [[-8.628828010131835, 41.13822097363281], [-8.591061255981444, 41.12134099926758]], [[-8.677754687835693, 41.140098140380864], [-8.678393600036621, 41.21387441601563]], [[-8.601012870361327, 41.13842550244141], [-8.588682120849608, 41.12863372387695]], [[-8.56841095690918, 41.21467052807618], [-8.64138326220703, 41.11665917553711]], [[-8.620934676696777, 41.14227605786133], [-8.646258674194335, 41.14319254650879]], [[-8.630213836242675, 41.155778560302736], [-8.635111365844725, 41.113976207397464]], [[-8.62331433062744, 41.13776052441406], [-8.620612983276366, 41.161617259643556]], [[-8.579767646362304, 41.157536037109374], [-8.639676833679198, 41.14549483837891]], [[-8.634503707458496, 41.14519362988281], [-8.633230704833984, 41.127588298461916]]]\n"
     ]
    }
   ],
   "source": [
    "# choose 40 points by random\n",
    "choice_list = np.random.choice(len(val_embs), 40, replace=False)\n",
    "print([val_gps[i][0] for i in choice_list])    # lon, lat\n",
    "choice_valgrids = [[val_grids[i][0][0], val_grids[i][0][1], val_grids[i][-1][0], val_grids[i][-1][1]] for i in choice_list]    # x, y\n",
    "choice_valembs = [val_embs[i] for i in choice_list]\n",
    "choice_valgps = [[val_gps[i][0], val_gps[i][-1]] for i in choice_list]    # [[lon, lat], [lon, lat]]\n",
    "# get the prediction\n",
    "model.cpu()\n",
    "model.eval()\n",
    "choice_predgrids = []\n",
    "for i in range(len(choice_valembs)):    \n",
    "    choice_valembs[i] = torch.Tensor(choice_valembs[i]).unsqueeze(0)\n",
    "    choice_predgrids.append(model(choice_valembs[i]).cpu().detach().numpy()[0])\n",
    "\n",
    "# for i in range(len(choice_predgrids)):\n",
    "#     print(choice_predgrids[i], choice_valgrids[i], '\\n')\n",
    "\n",
    "# transform the prediction to lon, lat\n",
    "choice_predgps = []\n",
    "for i in range(len(choice_predgrids)):\n",
    "    choice_predgps.append([grid2gps(choice_predgrids[i][0:2]), grid2gps(choice_predgrids[i][2:])])\n",
    "print(choice_predgps)"
   ]
  },
  {
   "cell_type": "code",
   "execution_count": 17,
   "metadata": {},
   "outputs": [
    {
     "name": "stdout",
     "output_type": "stream",
     "text": [
      "[1.1556665736933662, 1.3025588012191402, 1.2491463253433668, 1.5178337459363205, 1.1385400112732256, 1.4304361354618815, 1.1680665460251398, 0.8670156774991057, 1.187678967723948, 1.2103539290651935, 1.1101098393783035, 1.9371119943516233, 0.7053192000186634, 1.0143001567885026, 1.3604961371058981, 0.9223393359635894, 1.6887980416708999, 2.014613526505739, 1.2816244067304474, 1.2026257690095108, 1.1951756499486828, 0.7635312464774681, 1.1925586857079336, 0.762339778696144, 0.9299009220177853, 0.9003724654448372, 0.8521648543708084, 1.3509577216055118, 1.3597892451169122, 1.4957035512538424, 1.2158587943973835, 1.3257339472080447, 1.1144338656846722, 1.7285282228746075, 1.0944373258860645, 1.156271845603011, 0.9675516266569364, 1.5439043505252394, 1.4672237300243889, 0.9731711672317099]\n",
      "[2.178006801287843, 2.3299095960768628, 2.3260079431052323, 2.8183759933035133, 2.0810399441980665, 2.5891499742248643, 2.650889781707873, 2.283875761139316, 2.0239978629315405, 2.2235215949991556, 1.9329038334283386, 4.465832946363032, 1.4722060323151023, 2.461920647893151, 2.454037636225293, 1.9953749610205067, 3.3321703271211343, 4.768248886459442, 2.3853336009937465, 2.117340449945185, 2.387730185276551, 1.9310556398787815, 2.1178588672576106, 1.8919928486992026, 2.1018908604919404, 2.2840829412938204, 2.3183934937241513, 2.7465320351362643, 3.004120909584496, 2.851351009228564, 2.193195721630431, 2.862775914285284, 2.641829797478279, 3.1704166125513358, 3.8781124579032897, 2.1914326493769964, 1.8613416000089107, 2.8735939832827366, 2.8938565315849942, 2.0108442171911993]\n",
      "average start distance: 1.2213561029373963 km\n",
      "average end distance: 2.527563821265101 km\n"
     ]
    }
   ],
   "source": [
    "# calculate the distance between prediction and ground truth\n",
    "start_dis = []; end_dis = []\n",
    "for i in range(len(choice_predgps)):\n",
    "    start_dis.append(distance(choice_predgps[i][0][1], choice_predgps[i][0][0], choice_valgps[i][0][1], choice_valgps[i][0][0]))\n",
    "    end_dis.append(distance(choice_predgps[i][1][1], choice_predgps[i][1][0], choice_valgps[i][1][1], choice_valgps[i][1][0]))\n",
    "print(start_dis)\n",
    "print(end_dis)\n",
    "print('average start distance: {} km'.format(np.mean(start_dis)))\n",
    "print('average end distance: {} km'.format(np.mean(end_dis)))\n",
    "\n",
    "with open(\"./results/{}_{}_{}_{}_dists\".format(delta, emb_model, emb_dim, 512), \"w\") as f:\n",
    "    f.write(\"choose 40 points by random\\n\")\n",
    "    f.write(\"choice_list: {}\\n\".format(choice_list))\n",
    "    f.write('average start distance: {} km'.format(np.mean(start_dis)))\n",
    "    f.write('average end distance: {} km'.format(np.mean(end_dis)))\n",
    "    f.write('\\n')\n",
    "    f.write('start distance: {}'.format(start_dis))\n",
    "    f.write('\\n')\n",
    "    f.write('end distance: {}'.format(end_dis))"
   ]
  },
  {
   "cell_type": "code",
   "execution_count": 18,
   "metadata": {},
   "outputs": [
    {
     "name": "stdout",
     "output_type": "stream",
     "text": [
      "[[-8.620727630187988, 41.16288701977539], [-8.674248366882324, 41.13916958203125]] [array([-8.613225, 41.166792]), array([-8.670168, 41.156262])]\n"
     ]
    },
    {
     "data": {
      "text/html": [
       "<div style=\"width:100%;\"><div style=\"position:relative;width:100%;height:0;padding-bottom:60%;\"><span style=\"color:#565656\">Make this Notebook Trusted to load map: File -> Trust Notebook</span><iframe src=\"about:blank\" style=\"position:absolute;width:100%;height:100%;left:0;top:0;border:none !important;\" data-html=%3C%21DOCTYPE%20html%3E%0A%3Chead%3E%20%20%20%20%0A%20%20%20%20%3Cmeta%20http-equiv%3D%22content-type%22%20content%3D%22text/html%3B%20charset%3DUTF-8%22%20/%3E%0A%20%20%20%20%0A%20%20%20%20%20%20%20%20%3Cscript%3E%0A%20%20%20%20%20%20%20%20%20%20%20%20L_NO_TOUCH%20%3D%20false%3B%0A%20%20%20%20%20%20%20%20%20%20%20%20L_DISABLE_3D%20%3D%20false%3B%0A%20%20%20%20%20%20%20%20%3C/script%3E%0A%20%20%20%20%0A%20%20%20%20%3Cstyle%3Ehtml%2C%20body%20%7Bwidth%3A%20100%25%3Bheight%3A%20100%25%3Bmargin%3A%200%3Bpadding%3A%200%3B%7D%3C/style%3E%0A%20%20%20%20%3Cstyle%3E%23map%20%7Bposition%3Aabsolute%3Btop%3A0%3Bbottom%3A0%3Bright%3A0%3Bleft%3A0%3B%7D%3C/style%3E%0A%20%20%20%20%3Cscript%20src%3D%22https%3A//cdn.jsdelivr.net/npm/leaflet%401.6.0/dist/leaflet.js%22%3E%3C/script%3E%0A%20%20%20%20%3Cscript%20src%3D%22https%3A//code.jquery.com/jquery-1.12.4.min.js%22%3E%3C/script%3E%0A%20%20%20%20%3Cscript%20src%3D%22https%3A//maxcdn.bootstrapcdn.com/bootstrap/3.2.0/js/bootstrap.min.js%22%3E%3C/script%3E%0A%20%20%20%20%3Cscript%20src%3D%22https%3A//cdnjs.cloudflare.com/ajax/libs/Leaflet.awesome-markers/2.0.2/leaflet.awesome-markers.js%22%3E%3C/script%3E%0A%20%20%20%20%3Clink%20rel%3D%22stylesheet%22%20href%3D%22https%3A//cdn.jsdelivr.net/npm/leaflet%401.6.0/dist/leaflet.css%22/%3E%0A%20%20%20%20%3Clink%20rel%3D%22stylesheet%22%20href%3D%22https%3A//maxcdn.bootstrapcdn.com/bootstrap/3.2.0/css/bootstrap.min.css%22/%3E%0A%20%20%20%20%3Clink%20rel%3D%22stylesheet%22%20href%3D%22https%3A//maxcdn.bootstrapcdn.com/bootstrap/3.2.0/css/bootstrap-theme.min.css%22/%3E%0A%20%20%20%20%3Clink%20rel%3D%22stylesheet%22%20href%3D%22https%3A//maxcdn.bootstrapcdn.com/font-awesome/4.6.3/css/font-awesome.min.css%22/%3E%0A%20%20%20%20%3Clink%20rel%3D%22stylesheet%22%20href%3D%22https%3A//cdnjs.cloudflare.com/ajax/libs/Leaflet.awesome-markers/2.0.2/leaflet.awesome-markers.css%22/%3E%0A%20%20%20%20%3Clink%20rel%3D%22stylesheet%22%20href%3D%22https%3A//cdn.jsdelivr.net/gh/python-visualization/folium/folium/templates/leaflet.awesome.rotate.min.css%22/%3E%0A%20%20%20%20%0A%20%20%20%20%20%20%20%20%20%20%20%20%3Cmeta%20name%3D%22viewport%22%20content%3D%22width%3Ddevice-width%2C%0A%20%20%20%20%20%20%20%20%20%20%20%20%20%20%20%20initial-scale%3D1.0%2C%20maximum-scale%3D1.0%2C%20user-scalable%3Dno%22%20/%3E%0A%20%20%20%20%20%20%20%20%20%20%20%20%3Cstyle%3E%0A%20%20%20%20%20%20%20%20%20%20%20%20%20%20%20%20%23map_15042e60ee7d4210b9644101917048cc%20%7B%0A%20%20%20%20%20%20%20%20%20%20%20%20%20%20%20%20%20%20%20%20position%3A%20relative%3B%0A%20%20%20%20%20%20%20%20%20%20%20%20%20%20%20%20%20%20%20%20width%3A%20100.0%25%3B%0A%20%20%20%20%20%20%20%20%20%20%20%20%20%20%20%20%20%20%20%20height%3A%20100.0%25%3B%0A%20%20%20%20%20%20%20%20%20%20%20%20%20%20%20%20%20%20%20%20left%3A%200.0%25%3B%0A%20%20%20%20%20%20%20%20%20%20%20%20%20%20%20%20%20%20%20%20top%3A%200.0%25%3B%0A%20%20%20%20%20%20%20%20%20%20%20%20%20%20%20%20%7D%0A%20%20%20%20%20%20%20%20%20%20%20%20%3C/style%3E%0A%20%20%20%20%20%20%20%20%0A%3C/head%3E%0A%3Cbody%3E%20%20%20%20%0A%20%20%20%20%0A%20%20%20%20%20%20%20%20%20%20%20%20%3Cdiv%20class%3D%22folium-map%22%20id%3D%22map_15042e60ee7d4210b9644101917048cc%22%20%3E%3C/div%3E%0A%20%20%20%20%20%20%20%20%0A%3C/body%3E%0A%3Cscript%3E%20%20%20%20%0A%20%20%20%20%0A%20%20%20%20%20%20%20%20%20%20%20%20var%20map_15042e60ee7d4210b9644101917048cc%20%3D%20L.map%28%0A%20%20%20%20%20%20%20%20%20%20%20%20%20%20%20%20%22map_15042e60ee7d4210b9644101917048cc%22%2C%0A%20%20%20%20%20%20%20%20%20%20%20%20%20%20%20%20%7B%0A%20%20%20%20%20%20%20%20%20%20%20%20%20%20%20%20%20%20%20%20center%3A%20%5B40.953673%2C%20-8.735152%5D%2C%0A%20%20%20%20%20%20%20%20%20%20%20%20%20%20%20%20%20%20%20%20crs%3A%20L.CRS.EPSG3857%2C%0A%20%20%20%20%20%20%20%20%20%20%20%20%20%20%20%20%20%20%20%20zoom%3A%2012%2C%0A%20%20%20%20%20%20%20%20%20%20%20%20%20%20%20%20%20%20%20%20zoomControl%3A%20true%2C%0A%20%20%20%20%20%20%20%20%20%20%20%20%20%20%20%20%20%20%20%20preferCanvas%3A%20false%2C%0A%20%20%20%20%20%20%20%20%20%20%20%20%20%20%20%20%7D%0A%20%20%20%20%20%20%20%20%20%20%20%20%29%3B%0A%0A%20%20%20%20%20%20%20%20%20%20%20%20%0A%0A%20%20%20%20%20%20%20%20%0A%20%20%20%20%0A%20%20%20%20%20%20%20%20%20%20%20%20var%20tile_layer_3283fc169e4c4d38b43e4d27e19f5c8c%20%3D%20L.tileLayer%28%0A%20%20%20%20%20%20%20%20%20%20%20%20%20%20%20%20%22https%3A//%7Bs%7D.tile.openstreetmap.org/%7Bz%7D/%7Bx%7D/%7By%7D.png%22%2C%0A%20%20%20%20%20%20%20%20%20%20%20%20%20%20%20%20%7B%22attribution%22%3A%20%22Data%20by%20%5Cu0026copy%3B%20%5Cu003ca%20href%3D%5C%22http%3A//openstreetmap.org%5C%22%5Cu003eOpenStreetMap%5Cu003c/a%5Cu003e%2C%20under%20%5Cu003ca%20href%3D%5C%22http%3A//www.openstreetmap.org/copyright%5C%22%5Cu003eODbL%5Cu003c/a%5Cu003e.%22%2C%20%22detectRetina%22%3A%20false%2C%20%22maxNativeZoom%22%3A%2018%2C%20%22maxZoom%22%3A%2018%2C%20%22minZoom%22%3A%200%2C%20%22noWrap%22%3A%20false%2C%20%22opacity%22%3A%201%2C%20%22subdomains%22%3A%20%22abc%22%2C%20%22tms%22%3A%20false%7D%0A%20%20%20%20%20%20%20%20%20%20%20%20%29.addTo%28map_15042e60ee7d4210b9644101917048cc%29%3B%0A%20%20%20%20%20%20%20%20%0A%20%20%20%20%0A%20%20%20%20%20%20%20%20%20%20%20%20var%20circle_marker_a28991947d994bba8c91c590d7445366%20%3D%20L.circleMarker%28%0A%20%20%20%20%20%20%20%20%20%20%20%20%20%20%20%20%5B41.16288701977539%2C%20-8.620727630187988%5D%2C%0A%20%20%20%20%20%20%20%20%20%20%20%20%20%20%20%20%7B%22bubblingMouseEvents%22%3A%20true%2C%20%22color%22%3A%20%22blue%22%2C%20%22dashArray%22%3A%20null%2C%20%22dashOffset%22%3A%20null%2C%20%22fill%22%3A%20true%2C%20%22fillColor%22%3A%20%22blue%22%2C%20%22fillOpacity%22%3A%200.2%2C%20%22fillRule%22%3A%20%22evenodd%22%2C%20%22lineCap%22%3A%20%22round%22%2C%20%22lineJoin%22%3A%20%22round%22%2C%20%22opacity%22%3A%201.0%2C%20%22radius%22%3A%205%2C%20%22stroke%22%3A%20true%2C%20%22weight%22%3A%203%7D%0A%20%20%20%20%20%20%20%20%20%20%20%20%29.addTo%28map_15042e60ee7d4210b9644101917048cc%29%3B%0A%20%20%20%20%20%20%20%20%0A%20%20%20%20%0A%20%20%20%20%20%20%20%20%20%20%20%20var%20circle_marker_7597309644b84e079a8fb6b3d1589d3b%20%3D%20L.circleMarker%28%0A%20%20%20%20%20%20%20%20%20%20%20%20%20%20%20%20%5B41.13916958203125%2C%20-8.674248366882324%5D%2C%0A%20%20%20%20%20%20%20%20%20%20%20%20%20%20%20%20%7B%22bubblingMouseEvents%22%3A%20true%2C%20%22color%22%3A%20%22blue%22%2C%20%22dashArray%22%3A%20null%2C%20%22dashOffset%22%3A%20null%2C%20%22fill%22%3A%20true%2C%20%22fillColor%22%3A%20%22blue%22%2C%20%22fillOpacity%22%3A%200.2%2C%20%22fillRule%22%3A%20%22evenodd%22%2C%20%22lineCap%22%3A%20%22round%22%2C%20%22lineJoin%22%3A%20%22round%22%2C%20%22opacity%22%3A%201.0%2C%20%22radius%22%3A%205%2C%20%22stroke%22%3A%20true%2C%20%22weight%22%3A%203%7D%0A%20%20%20%20%20%20%20%20%20%20%20%20%29.addTo%28map_15042e60ee7d4210b9644101917048cc%29%3B%0A%20%20%20%20%20%20%20%20%0A%20%20%20%20%0A%20%20%20%20%20%20%20%20%20%20%20%20var%20circle_marker_d5ae134f66a04ad7a131cb6855d9dc39%20%3D%20L.circleMarker%28%0A%20%20%20%20%20%20%20%20%20%20%20%20%20%20%20%20%5B41.166792%2C%20-8.613225%5D%2C%0A%20%20%20%20%20%20%20%20%20%20%20%20%20%20%20%20%7B%22bubblingMouseEvents%22%3A%20true%2C%20%22color%22%3A%20%22red%22%2C%20%22dashArray%22%3A%20null%2C%20%22dashOffset%22%3A%20null%2C%20%22fill%22%3A%20true%2C%20%22fillColor%22%3A%20%22red%22%2C%20%22fillOpacity%22%3A%200.2%2C%20%22fillRule%22%3A%20%22evenodd%22%2C%20%22lineCap%22%3A%20%22round%22%2C%20%22lineJoin%22%3A%20%22round%22%2C%20%22opacity%22%3A%201.0%2C%20%22radius%22%3A%205%2C%20%22stroke%22%3A%20true%2C%20%22weight%22%3A%203%7D%0A%20%20%20%20%20%20%20%20%20%20%20%20%29.addTo%28map_15042e60ee7d4210b9644101917048cc%29%3B%0A%20%20%20%20%20%20%20%20%0A%20%20%20%20%0A%20%20%20%20%20%20%20%20%20%20%20%20var%20circle_marker_37bf802ed140442282f345aa1fc37c18%20%3D%20L.circleMarker%28%0A%20%20%20%20%20%20%20%20%20%20%20%20%20%20%20%20%5B41.156262%2C%20-8.670168%5D%2C%0A%20%20%20%20%20%20%20%20%20%20%20%20%20%20%20%20%7B%22bubblingMouseEvents%22%3A%20true%2C%20%22color%22%3A%20%22red%22%2C%20%22dashArray%22%3A%20null%2C%20%22dashOffset%22%3A%20null%2C%20%22fill%22%3A%20true%2C%20%22fillColor%22%3A%20%22red%22%2C%20%22fillOpacity%22%3A%200.2%2C%20%22fillRule%22%3A%20%22evenodd%22%2C%20%22lineCap%22%3A%20%22round%22%2C%20%22lineJoin%22%3A%20%22round%22%2C%20%22opacity%22%3A%201.0%2C%20%22radius%22%3A%205%2C%20%22stroke%22%3A%20true%2C%20%22weight%22%3A%203%7D%0A%20%20%20%20%20%20%20%20%20%20%20%20%29.addTo%28map_15042e60ee7d4210b9644101917048cc%29%3B%0A%20%20%20%20%20%20%20%20%0A%20%20%20%20%0A%20%20%20%20%20%20%20%20%20%20%20%20var%20poly_line_e0dfb8f224dc484f9ffeb0220641b0b7%20%3D%20L.polyline%28%0A%20%20%20%20%20%20%20%20%20%20%20%20%20%20%20%20%5B%5B41.166792%2C%20-8.613225%5D%2C%20%5B41.166765%2C%20-8.613243%5D%2C%20%5B41.166729%2C%20-8.613522%5D%2C%20%5B41.167008%2C%20-8.614332%5D%2C%20%5B41.167386%2C%20-8.615223%5D%2C%20%5B41.167647%2C%20-8.615601%5D%2C%20%5B41.167557%2C%20-8.616456%5D%2C%20%5B41.166783%2C%20-8.616861%5D%2C%20%5B41.166441%2C%20-8.616933%5D%2C%20%5B41.165253%2C%20-8.617149%5D%2C%20%5B41.164326%2C%20-8.61732%5D%2C%20%5B41.163561%2C%20-8.6175%5D%2C%20%5B41.163723%2C%20-8.619084%5D%2C%20%5B41.163804%2C%20-8.619732%5D%2C%20%5B41.163813%2C%20-8.61975%5D%2C%20%5B41.163966%2C%20-8.620947%5D%2C%20%5B41.164236%2C%20-8.623134%5D%2C%20%5B41.164416%2C%20-8.624232%5D%2C%20%5B41.164407%2C%20-8.624385%5D%2C%20%5B41.164398%2C%20-8.62443%5D%2C%20%5B41.164407%2C%20-8.624484%5D%2C%20%5B41.164524%2C%20-8.625789%5D%2C%20%5B41.164803%2C%20-8.627751%5D%2C%20%5B41.1651%2C%20-8.630136%5D%2C%20%5B41.165082%2C%20-8.630568%5D%2C%20%5B41.16465%2C%20-8.631783%5D%2C%20%5B41.163993%2C%20-8.633115%5D%2C%20%5B41.163831%2C%20-8.63478%5D%2C%20%5B41.164038%2C%20-8.635473%5D%2C%20%5B41.164227%2C%20-8.635986%5D%2C%20%5B41.164686%2C%20-8.637849%5D%2C%20%5B41.16483%2C%20-8.638749%5D%2C%20%5B41.165325%2C%20-8.639703%5D%2C%20%5B41.164992%2C%20-8.641512%5D%2C%20%5B41.165424%2C%20-8.644338%5D%2C%20%5B41.165865%2C%20-8.646876%5D%2C%20%5B41.166081%2C%20-8.648145%5D%2C%20%5B41.166261%2C%20-8.649432%5D%2C%20%5B41.166261%2C%20-8.649432%5D%2C%20%5B41.166261%2C%20-8.649432%5D%2C%20%5B41.166297%2C%20-8.649657%5D%2C%20%5B41.166603%2C%20-8.651565%5D%2C%20%5B41.166837%2C%20-8.653077%5D%2C%20%5B41.166963%2C%20-8.653779%5D%2C%20%5B41.166369%2C%20-8.654661%5D%2C%20%5B41.165334%2C%20-8.655507%5D%2C%20%5B41.163975%2C%20-8.655975%5D%2C%20%5B41.163066%2C%20-8.656569%5D%2C%20%5B41.162859%2C%20-8.656749%5D%2C%20%5B41.162823%2C%20-8.656794%5D%2C%20%5B41.162796%2C%20-8.656812%5D%2C%20%5B41.162265%2C%20-8.657226%5D%2C%20%5B41.161167%2C%20-8.658144%5D%2C%20%5B41.160465%2C%20-8.659467%5D%2C%20%5B41.159655%2C%20-8.661528%5D%2C%20%5B41.158881%2C%20-8.66349%5D%2C%20%5B41.158395%2C%20-8.664732%5D%2C%20%5B41.158251%2C%20-8.665083%5D%2C%20%5B41.157558%2C%20-8.666874%5D%2C%20%5B41.157018%2C%20-8.668269%5D%2C%20%5B41.156316%2C%20-8.670024%5D%2C%20%5B41.156271%2C%20-8.670168%5D%2C%20%5B41.156262%2C%20-8.670168%5D%5D%2C%0A%20%20%20%20%20%20%20%20%20%20%20%20%20%20%20%20%7B%22bubblingMouseEvents%22%3A%20true%2C%20%22color%22%3A%20%22red%22%2C%20%22dashArray%22%3A%20null%2C%20%22dashOffset%22%3A%20null%2C%20%22fill%22%3A%20false%2C%20%22fillColor%22%3A%20%22red%22%2C%20%22fillOpacity%22%3A%200.2%2C%20%22fillRule%22%3A%20%22evenodd%22%2C%20%22lineCap%22%3A%20%22round%22%2C%20%22lineJoin%22%3A%20%22round%22%2C%20%22noClip%22%3A%20false%2C%20%22opacity%22%3A%201%2C%20%22smoothFactor%22%3A%201.0%2C%20%22stroke%22%3A%20true%2C%20%22weight%22%3A%202.5%7D%0A%20%20%20%20%20%20%20%20%20%20%20%20%29.addTo%28map_15042e60ee7d4210b9644101917048cc%29%3B%0A%20%20%20%20%20%20%20%20%0A%3C/script%3E onload=\"this.contentDocument.open();this.contentDocument.write(    decodeURIComponent(this.getAttribute('data-html')));this.contentDocument.close();\" allowfullscreen webkitallowfullscreen mozallowfullscreen></iframe></div></div>"
      ],
      "text/plain": [
       "<folium.folium.Map at 0x7fdb0b330730>"
      ]
     },
     "execution_count": 18,
     "metadata": {},
     "output_type": "execute_result"
    },
    {
     "ename": "",
     "evalue": "",
     "output_type": "error",
     "traceback": [
      "\u001b[1;31m在当前单元格或上一个单元格中执行代码时 Kernel 崩溃。请查看单元格中的代码，以确定故障的可能原因。有关详细信息，请单击 <a href='https://aka.ms/vscodeJupyterKernelCrash'>此处</a>。有关更多详细信息，请查看 Jupyter <a href='command:jupyter.viewOutput'>log</a>。"
     ]
    }
   ],
   "source": [
    "# if you want, plot the prediction and ground truth on the map\n",
    "import folium\n",
    "my_map = folium.Map(location=[40.953673,-8.735152], zoom_start=12)\n",
    "choice = np.random.choice(len(choice_predgps))\n",
    "print(choice_predgps[choice], choice_valgps[choice])\n",
    "\n",
    "folium.CircleMarker(location=[choice_predgps[choice][0][1], choice_predgps[choice][0][0]], radius=5, color='blue', fill=True).add_to(my_map)\n",
    "folium.CircleMarker(location=[choice_predgps[choice][1][1], choice_predgps[choice][1][0]], radius=5, color='blue', fill=True).add_to(my_map)\n",
    "folium.CircleMarker(location=[choice_valgps[choice][0][1], choice_valgps[choice][0][0]], radius=5, color='red', fill=True).add_to(my_map)\n",
    "folium.CircleMarker(location=[choice_valgps[choice][1][1], choice_valgps[choice][1][0]], radius=5, color='red', fill=True).add_to(my_map)\n",
    "\n",
    "# plot the real trajectory\n",
    "gps_val = val_gps[choice_list[choice]][:, [1, 0]]\n",
    "folium.PolyLine(gps_val, color=\"red\", weight=2.5, opacity=1).add_to(my_map)\n",
    "\n",
    "my_map   # show the map"
   ]
  },
  {
   "cell_type": "code",
   "execution_count": null,
   "metadata": {},
   "outputs": [],
   "source": []
  }
 ],
 "metadata": {
  "kernelspec": {
   "display_name": "pytorch",
   "language": "python",
   "name": "python3"
  },
  "language_info": {
   "codemirror_mode": {
    "name": "ipython",
    "version": 3
   },
   "file_extension": ".py",
   "mimetype": "text/x-python",
   "name": "python",
   "nbconvert_exporter": "python",
   "pygments_lexer": "ipython3",
   "version": "3.8.10"
  }
 },
 "nbformat": 4,
 "nbformat_minor": 2
}
