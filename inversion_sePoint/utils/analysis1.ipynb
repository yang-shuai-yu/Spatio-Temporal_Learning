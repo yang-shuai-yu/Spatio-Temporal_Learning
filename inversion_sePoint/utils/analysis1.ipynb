{
 "cells": [
  {
   "cell_type": "code",
   "execution_count": 9,
   "metadata": {},
   "outputs": [],
   "source": [
    "import torch\n",
    "import numpy as np\n",
    "import os, sys, pickle"
   ]
  },
  {
   "cell_type": "code",
   "execution_count": 10,
   "metadata": {},
   "outputs": [
    {
     "data": {
      "text/plain": [
       "'/home/yangshuaiyu6791/RepresentAttack/inversion_sePoint'"
      ]
     },
     "execution_count": 10,
     "metadata": {},
     "output_type": "execute_result"
    }
   ],
   "source": [
    "# 查看当前路径\n",
    "os.chdir(\"/home/yangshuaiyu6791/RepresentAttack/inversion_sePoint/\")\n",
    "os.getcwd()"
   ]
  },
  {
   "cell_type": "code",
   "execution_count": 11,
   "metadata": {},
   "outputs": [],
   "source": [
    "from modules.models import sPoints_net, ePoints_net\n",
    "from DataLoader.dataloader import TrajDataset\n",
    "\n",
    "# load pth\n",
    "model1 = sPoints_net(128,512)\n",
    "model1 = model1.to(torch.device('cpu'))\n",
    "params1 = torch.load(\"./models/d0_002_train_sPoints_neutraj_128_512.pth\",\n",
    "                    map_location=torch.device('cpu'))\n",
    "model1.load_state_dict(params1)\n",
    "model1.eval()\n",
    "\n",
    "model2 = ePoints_net(128,512)\n",
    "model2 = model2.to(torch.device('cpu'))\n",
    "params2 = torch.load(\"./models/d0_002_train_ePoints_neutraj_128_512.pth\",\n",
    "                    map_location=torch.device('cpu'))\n",
    "model2.load_state_dict(params2)\n",
    "model2.eval()\n",
    "\n",
    "# load data\n",
    "with open(\"./data/neutraj/128/train/train_data\", \"rb\") as f:\n",
    "    tmp_embs = pickle.load(f)\n",
    "    train_embs = tmp_embs['embs']\n",
    "with open(\"./data/neutraj/128/train/train_grid\", \"rb\") as f:\n",
    "    train_grids = pickle.load(f)\n",
    "\n",
    "with open(\"./data/neutraj/128/val/val_data\", \"rb\") as f:\n",
    "    tmp_embs = pickle.load(f)\n",
    "    val_embs = tmp_embs['embs']\n",
    "with open(\"./data/neutraj/128/val/val_grid\", \"rb\") as f:\n",
    "    val_grids = pickle.load(f)\n"
   ]
  },
  {
   "cell_type": "code",
   "execution_count": 12,
   "metadata": {},
   "outputs": [
    {
     "name": "stdout",
     "output_type": "stream",
     "text": [
      "train_pred:  tensor([[46.3405, 95.0611]], grad_fn=<AddmmBackward>) tensor([[38.0309, 91.8114]], grad_fn=<AddmmBackward>)\n",
      "train_grid:  [54, 106, 30688] [44, 102, 29522]\n",
      "val_pred:  tensor([[49.0349, 90.8556]], grad_fn=<AddmmBackward>) tensor([[57.3117, 85.4663]], grad_fn=<AddmmBackward>)\n",
      "val_grid:  [56, 101, 29245] [64, 98, 28386]\n",
      "train_pred:  tensor([[51.9163, 86.9726]], grad_fn=<AddmmBackward>) tensor([[ 26.3871, 107.4882]], grad_fn=<AddmmBackward>)\n",
      "train_grid:  [58, 96, 27802] [33, 119, 34424]\n",
      "val_pred:  tensor([[46.4294, 91.8184]], grad_fn=<AddmmBackward>) tensor([[55.9408, 85.0649]], grad_fn=<AddmmBackward>)\n",
      "val_grid:  [53, 102, 29531] [63, 97, 28096]\n",
      "train_pred:  tensor([[41.0330, 93.5522]], grad_fn=<AddmmBackward>) tensor([[ 32.6528, 101.9597]], grad_fn=<AddmmBackward>)\n",
      "train_grid:  [47, 103, 29814] [40, 113, 32697]\n",
      "val_pred:  tensor([[59.8013, 86.3908]], grad_fn=<AddmmBackward>) tensor([[49.2942, 87.1302]], grad_fn=<AddmmBackward>)\n",
      "val_grid:  [67, 97, 28100] [56, 98, 28378]\n",
      "train_pred:  tensor([[45.9903, 90.9981]], grad_fn=<AddmmBackward>) tensor([[53.7580, 86.3770]], grad_fn=<AddmmBackward>)\n",
      "train_grid:  [52, 100, 28952] [60, 98, 28382]\n",
      "val_pred:  tensor([[29.4085, 91.3476]], grad_fn=<AddmmBackward>) tensor([[ 51.1306, 104.4430]], grad_fn=<AddmmBackward>)\n",
      "val_grid:  [34, 97, 28067] [61, 119, 34452]\n",
      "train_pred:  tensor([[62.3874, 91.0245]], grad_fn=<AddmmBackward>) tensor([[57.2250, 84.0235]], grad_fn=<AddmmBackward>)\n",
      "train_grid:  [71, 104, 30127] [64, 95, 27519]\n",
      "val_pred:  tensor([[56.0860, 87.5504]], grad_fn=<AddmmBackward>) tensor([[57.8995, 90.6257]], grad_fn=<AddmmBackward>)\n",
      "val_grid:  [64, 98, 28386] [66, 104, 30122]\n",
      "train_pred:  tensor([[71.3142, 90.5900]], grad_fn=<AddmmBackward>) tensor([[34.9355, 97.6993]], grad_fn=<AddmmBackward>)\n",
      "train_grid:  [82, 106, 30716] [42, 108, 31254]\n",
      "val_pred:  tensor([[29.3841, 91.5108]], grad_fn=<AddmmBackward>) tensor([[54.5132, 87.4859]], grad_fn=<AddmmBackward>)\n",
      "val_grid:  [34, 97, 28067] [62, 99, 28673]\n",
      "train_pred:  tensor([[47.3365, 92.7793]], grad_fn=<AddmmBackward>) tensor([[49.6784, 89.5334]], grad_fn=<AddmmBackward>)\n",
      "train_grid:  [54, 103, 29821] [56, 101, 29245]\n",
      "val_pred:  tensor([[ 30.7704, 102.3738]], grad_fn=<AddmmBackward>) tensor([[54.4423, 84.9352]], grad_fn=<AddmmBackward>)\n",
      "val_grid:  [38, 111, 32117] [61, 96, 27805]\n",
      "train_pred:  tensor([[46.9840, 91.7761]], grad_fn=<AddmmBackward>) tensor([[66.2659, 84.3502]], grad_fn=<AddmmBackward>)\n",
      "train_grid:  [53, 101, 29242] [74, 97, 28107]\n",
      "val_pred:  tensor([[50.1161, 94.7721]], grad_fn=<AddmmBackward>) tensor([[55.7302, 84.7497]], grad_fn=<AddmmBackward>)\n",
      "val_grid:  [58, 106, 30692] [63, 96, 27807]\n",
      "train_pred:  tensor([[30.7144, 93.6291]], grad_fn=<AddmmBackward>) tensor([[29.0129, 92.2360]], grad_fn=<AddmmBackward>)\n",
      "train_grid:  [35, 100, 28935] [35, 100, 28935]\n",
      "val_pred:  tensor([[54.8798, 85.8030]], grad_fn=<AddmmBackward>) tensor([[41.8769, 90.4194]], grad_fn=<AddmmBackward>)\n",
      "val_grid:  [62, 95, 27517] [49, 101, 29238]\n",
      "train_pred:  tensor([[45.9917, 91.2160]], grad_fn=<AddmmBackward>) tensor([[74.0121, 93.2420]], grad_fn=<AddmmBackward>)\n",
      "train_grid:  [52, 100, 28952] [84, 110, 31874]\n",
      "val_pred:  tensor([[56.2427, 91.4887]], grad_fn=<AddmmBackward>) tensor([[50.3561, 85.2150]], grad_fn=<AddmmBackward>)\n",
      "val_grid:  [65, 103, 29832] [56, 96, 27800]\n",
      "train_pred:  tensor([[25.9214, 94.6988]], grad_fn=<AddmmBackward>) tensor([[45.6447, 90.1635]], grad_fn=<AddmmBackward>)\n",
      "train_grid:  [28, 100, 28928] [52, 101, 29241]\n",
      "val_pred:  tensor([[43.3676, 94.7952]], grad_fn=<AddmmBackward>) tensor([[49.0624, 86.4115]], grad_fn=<AddmmBackward>)\n",
      "val_grid:  [51, 105, 30396] [56, 97, 28089]\n",
      "train_pred:  tensor([[47.2407, 97.9962]], grad_fn=<AddmmBackward>) tensor([[ 58.8701, 100.3916]], grad_fn=<AddmmBackward>)\n",
      "train_grid:  [55, 111, 32134] [69, 117, 33882]\n",
      "val_pred:  tensor([[28.6663, 94.7884]], grad_fn=<AddmmBackward>) tensor([[53.5788, 85.0993]], grad_fn=<AddmmBackward>)\n",
      "val_grid:  [33, 101, 29222] [60, 97, 28093]\n",
      "train_pred:  tensor([[54.5765, 87.6822]], grad_fn=<AddmmBackward>) tensor([[52.7407, 81.6518]], grad_fn=<AddmmBackward>)\n",
      "train_grid:  [61, 97, 28094] [58, 91, 26357]\n",
      "val_pred:  tensor([[52.0425, 96.5096]], grad_fn=<AddmmBackward>) tensor([[50.5521, 85.1841]], grad_fn=<AddmmBackward>)\n",
      "val_grid:  [61, 109, 31562] [57, 96, 27801]\n",
      "train_pred:  tensor([[51.6296, 87.5565]], grad_fn=<AddmmBackward>) tensor([[30.6576, 97.7861]], grad_fn=<AddmmBackward>)\n",
      "train_grid:  [58, 96, 27802] [37, 108, 31249]\n",
      "val_pred:  tensor([[46.2342, 91.7883]], grad_fn=<AddmmBackward>) tensor([[37.1569, 89.9524]], grad_fn=<AddmmBackward>)\n",
      "val_grid:  [53, 101, 29242] [43, 100, 28943]\n",
      "train_pred:  tensor([[52.9280, 85.4851]], grad_fn=<AddmmBackward>) tensor([[75.8784, 90.6380]], grad_fn=<AddmmBackward>)\n",
      "train_grid:  [59, 93, 26936] [86, 107, 31009]\n",
      "val_pred:  tensor([[56.0555, 91.4189]], grad_fn=<AddmmBackward>) tensor([[54.5111, 90.7799]], grad_fn=<AddmmBackward>)\n",
      "val_grid:  [65, 103, 29832] [62, 103, 29829]\n",
      "train_pred:  tensor([[36.2661, 95.2404]], grad_fn=<AddmmBackward>) tensor([[60.3897, 85.3202]], grad_fn=<AddmmBackward>)\n",
      "train_grid:  [42, 104, 30098] [68, 97, 28101]\n",
      "val_pred:  tensor([[46.5247, 92.1879]], grad_fn=<AddmmBackward>) tensor([[48.0397, 89.4380]], grad_fn=<AddmmBackward>)\n",
      "val_grid:  [54, 102, 29532] [55, 101, 29244]\n",
      "train_pred:  tensor([[65.7538, 90.6729]], grad_fn=<AddmmBackward>) tensor([[74.7814, 85.2572]], grad_fn=<AddmmBackward>)\n",
      "train_grid:  [75, 104, 30131] [84, 100, 28984]\n",
      "val_pred:  tensor([[40.1871, 93.6567]], grad_fn=<AddmmBackward>) tensor([[50.2564, 93.4839]], grad_fn=<AddmmBackward>)\n",
      "val_grid:  [47, 103, 29814] [58, 106, 30692]\n",
      "train_pred:  tensor([[65.9213, 85.4393]], grad_fn=<AddmmBackward>) tensor([[ 41.6725, 120.1632]], grad_fn=<AddmmBackward>)\n",
      "train_grid:  [74, 97, 28107] [54, 139, 40225]\n",
      "val_pred:  tensor([[43.5455, 92.2659]], grad_fn=<AddmmBackward>) tensor([[47.0304, 87.0594]], grad_fn=<AddmmBackward>)\n",
      "val_grid:  [50, 101, 29239] [53, 98, 28375]\n",
      "train_pred:  tensor([[55.1495, 86.1828]], grad_fn=<AddmmBackward>) tensor([[ 20.7511, 104.6501]], grad_fn=<AddmmBackward>)\n",
      "train_grid:  [62, 95, 27517] [27, 115, 33262]\n",
      "val_pred:  tensor([[53.7429, 87.3139]], grad_fn=<AddmmBackward>) tensor([[ 21.2791, 127.4707]], grad_fn=<AddmmBackward>)\n",
      "val_grid:  [61, 97, 28094] [32, 141, 40781]\n",
      "train_pred:  tensor([[33.6985, 91.4515]], grad_fn=<AddmmBackward>) tensor([[45.5411, 91.8816]], grad_fn=<AddmmBackward>)\n",
      "train_grid:  [38, 98, 28360] [52, 103, 29819]\n",
      "val_pred:  tensor([[59.0648, 88.7334]], grad_fn=<AddmmBackward>) tensor([[56.5985, 98.0905]], grad_fn=<AddmmBackward>)\n",
      "val_grid:  [67, 100, 28967] [66, 113, 32723]\n"
     ]
    }
   ],
   "source": [
    "for i in range(0,20):\n",
    "    train_emb = torch.from_numpy(train_embs[i]).unsqueeze(0)\n",
    "    strain_pred = model1(train_emb); etrain_pred = model2(train_emb)\n",
    "    print(\"train_pred: \", strain_pred, etrain_pred)\n",
    "    grid_len = len(train_grids[i])\n",
    "    strain_grid = train_grids[i][0]; etrain_grid = train_grids[i][grid_len-1]\n",
    "    print(\"train_grid: \", strain_grid, etrain_grid)\n",
    "    \n",
    "    val_emb = torch.from_numpy(val_embs[i]).unsqueeze(0)\n",
    "    sval_pred = model1(val_emb); eval_pred = model2(val_emb)\n",
    "    print(\"val_pred: \", sval_pred, eval_pred)\n",
    "    grid_len = len(val_grids[i])\n",
    "    sval_grid = val_grids[i][0]; eval_grid = val_grids[i][grid_len-1]\n",
    "    print(\"val_grid: \", sval_grid, eval_grid)"
   ]
  },
  {
   "cell_type": "code",
   "execution_count": null,
   "metadata": {},
   "outputs": [],
   "source": []
  }
 ],
 "metadata": {
  "kernelspec": {
   "display_name": "pytorch",
   "language": "python",
   "name": "python3"
  },
  "language_info": {
   "codemirror_mode": {
    "name": "ipython",
    "version": 3
   },
   "file_extension": ".py",
   "mimetype": "text/x-python",
   "name": "python",
   "nbconvert_exporter": "python",
   "pygments_lexer": "ipython3",
   "version": "3.8.10"
  }
 },
 "nbformat": 4,
 "nbformat_minor": 2
}
